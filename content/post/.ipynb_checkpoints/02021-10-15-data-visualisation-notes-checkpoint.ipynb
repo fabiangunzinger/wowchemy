{
 "cells": [
  {
   "cell_type": "markdown",
   "id": "9615a891-6660-4113-90f0-c45d6cc2bc3b",
   "metadata": {},
   "source": [
    "# Data visualisation notes\n",
    "\n",
    "- hide: true\n",
    "- toc: true\n",
    "- badges: true\n",
    "- comments: true\n",
    "- categories: [dataviz]"
   ]
  },
  {
   "cell_type": "code",
   "execution_count": 3,
   "id": "59b08dc8-4668-4b80-9a06-70a6b19759ab",
   "metadata": {},
   "outputs": [],
   "source": [
    "import matplotlib.pyplot as plt\n",
    "import numpy as np\n",
    "import pandas as pd\n",
    "import seaborn as sns\n",
    "\n",
    "sns.set_style('whitegrid')"
   ]
  },
  {
   "cell_type": "code",
   "execution_count": 23,
   "id": "d533e055-d9de-44cd-acfd-3743b1e12887",
   "metadata": {},
   "outputs": [
    {
     "data": {
      "text/html": [
       "<div>\n",
       "<style scoped>\n",
       "    .dataframe tbody tr th:only-of-type {\n",
       "        vertical-align: middle;\n",
       "    }\n",
       "\n",
       "    .dataframe tbody tr th {\n",
       "        vertical-align: top;\n",
       "    }\n",
       "\n",
       "    .dataframe thead th {\n",
       "        text-align: right;\n",
       "    }\n",
       "</style>\n",
       "<table border=\"1\" class=\"dataframe\">\n",
       "  <thead>\n",
       "    <tr style=\"text-align: right;\">\n",
       "      <th></th>\n",
       "      <th>carat</th>\n",
       "      <th>cut</th>\n",
       "      <th>color</th>\n",
       "      <th>clarity</th>\n",
       "      <th>depth</th>\n",
       "      <th>table</th>\n",
       "      <th>price</th>\n",
       "      <th>x</th>\n",
       "      <th>y</th>\n",
       "      <th>z</th>\n",
       "    </tr>\n",
       "  </thead>\n",
       "  <tbody>\n",
       "    <tr>\n",
       "      <th>0</th>\n",
       "      <td>0.23</td>\n",
       "      <td>Ideal</td>\n",
       "      <td>E</td>\n",
       "      <td>SI2</td>\n",
       "      <td>61.5</td>\n",
       "      <td>55.0</td>\n",
       "      <td>326</td>\n",
       "      <td>3.95</td>\n",
       "      <td>3.98</td>\n",
       "      <td>2.43</td>\n",
       "    </tr>\n",
       "    <tr>\n",
       "      <th>1</th>\n",
       "      <td>0.21</td>\n",
       "      <td>Premium</td>\n",
       "      <td>E</td>\n",
       "      <td>SI1</td>\n",
       "      <td>59.8</td>\n",
       "      <td>61.0</td>\n",
       "      <td>326</td>\n",
       "      <td>3.89</td>\n",
       "      <td>3.84</td>\n",
       "      <td>2.31</td>\n",
       "    </tr>\n",
       "  </tbody>\n",
       "</table>\n",
       "</div>"
      ],
      "text/plain": [
       "   carat      cut color clarity  depth  table  price     x     y     z\n",
       "0   0.23    Ideal     E     SI2   61.5   55.0    326  3.95  3.98  2.43\n",
       "1   0.21  Premium     E     SI1   59.8   61.0    326  3.89  3.84  2.31"
      ]
     },
     "execution_count": 23,
     "metadata": {},
     "output_type": "execute_result"
    }
   ],
   "source": [
    "df = sns.load_dataset('diamonds')\n",
    "df.head(2)"
   ]
  },
  {
   "cell_type": "code",
   "execution_count": 24,
   "id": "dbb3266e-23ad-4b93-8e6c-360d9b0a2e32",
   "metadata": {},
   "outputs": [
    {
     "data": {
      "text/plain": [
       "SI1     13065\n",
       "VS2     12258\n",
       "SI2      9194\n",
       "VS1      8171\n",
       "VVS2     5066\n",
       "VVS1     3655\n",
       "IF       1790\n",
       "I1        741\n",
       "Name: clarity, dtype: int64"
      ]
     },
     "execution_count": 24,
     "metadata": {},
     "output_type": "execute_result"
    }
   ],
   "source": [
    "df.clarity.value_counts()"
   ]
  },
  {
   "cell_type": "markdown",
   "id": "c210349b-7239-4ffe-b1cb-9381421dc0e5",
   "metadata": {},
   "source": [
    "## Use `countplot()` (not a histogram!) for categorical frequencies"
   ]
  },
  {
   "cell_type": "markdown",
   "id": "610fb380-a556-499a-82a8-84ab38a90a64",
   "metadata": {},
   "source": [
    "To visualise the frequency of a categorical variable, I'd often reflexively plot a histogram, even though I kind of knew that that's not what it's for (it's for plotting the distribution of continuous variables). For categorical frequencies, it's much better to use `countplot()`, one [several](https://seaborn.pydata.org/api.html#categorical-plots) plot types `seaborn` provides for categorical variables."
   ]
  },
  {
   "cell_type": "code",
   "execution_count": 40,
   "id": "dac89393-57e6-4e6b-8ad7-d89c6c3ce631",
   "metadata": {},
   "outputs": [
    {
     "data": {
      "image/png": "[encoded data removed]",
      "text/plain": [
       "<Figure size 432x288 with 1 Axes>"
      ]
     },
     "metadata": {},
     "output_type": "display_data"
    }
   ],
   "source": [
    "sns.countplot(x='clarity', data=df, color='tab:blue');"
   ]
  },
  {
   "cell_type": "markdown",
   "id": "8d9627d9-01cb-4e14-a9ae-8a7855330c1c",
   "metadata": {
    "tags": []
   },
   "source": [
    "## Letter-value plots"
   ]
  },
  {
   "cell_type": "code",
   "execution_count": 2,
   "id": "a9e40c90-472b-41b3-80b9-74ad1316fe77",
   "metadata": {},
   "outputs": [
    {
     "data": {
      "text/html": [
       "<div>\n",
       "<style scoped>\n",
       "    .dataframe tbody tr th:only-of-type {\n",
       "        vertical-align: middle;\n",
       "    }\n",
       "\n",
       "    .dataframe tbody tr th {\n",
       "        vertical-align: top;\n",
       "    }\n",
       "\n",
       "    .dataframe thead th {\n",
       "        text-align: right;\n",
       "    }\n",
       "</style>\n",
       "<table border=\"1\" class=\"dataframe\">\n",
       "  <thead>\n",
       "    <tr style=\"text-align: right;\">\n",
       "      <th></th>\n",
       "      <th>account_type</th>\n",
       "      <th>account_id</th>\n",
       "      <th>date</th>\n",
       "      <th>num_txns</th>\n",
       "    </tr>\n",
       "  </thead>\n",
       "  <tbody>\n",
       "    <tr>\n",
       "      <th>0</th>\n",
       "      <td>current</td>\n",
       "      <td>15837</td>\n",
       "      <td>2014-07-31</td>\n",
       "      <td>5</td>\n",
       "    </tr>\n",
       "    <tr>\n",
       "      <th>1</th>\n",
       "      <td>current</td>\n",
       "      <td>15837</td>\n",
       "      <td>2014-08-31</td>\n",
       "      <td>27</td>\n",
       "    </tr>\n",
       "  </tbody>\n",
       "</table>\n",
       "</div>"
      ],
      "text/plain": [
       "  account_type  account_id       date  num_txns\n",
       "0      current       15837 2014-07-31         5\n",
       "1      current       15837 2014-08-31        27"
      ]
     },
     "execution_count": 2,
     "metadata": {},
     "output_type": "execute_result"
    }
   ],
   "source": [
    "fp = f'~/tmp/entropy_X77.parquet'\n",
    "df = pd.read_parquet(fp)\n",
    "\n",
    "def make_data(df):\n",
    "    return (df.loc[df.account_type.ne('other')]\n",
    "            .set_index('date')\n",
    "            .groupby(['account_type', 'account_id'], observed=True)\n",
    "            .resample('M').id.count()\n",
    "            .rename('num_txns')\n",
    "            .reset_index())\n",
    "data = make_data(df)\n",
    "data.head(2)"
   ]
  },
  {
   "cell_type": "markdown",
   "id": "0ab05c3f-7a47-4751-9ea8-913a1f722dd0",
   "metadata": {},
   "source": [
    "I want to compare the distributions of monthly transactions per account types. An obvious choice is a boxplot."
   ]
  },
  {
   "cell_type": "code",
   "execution_count": 3,
   "id": "20d41984-81ba-422c-8f7f-13bb32be3185",
   "metadata": {},
   "outputs": [
    {
     "data": {
      "image/png": "[encoded data removed]",
      "text/plain": [
       "<Figure size 432x288 with 1 Axes>"
      ]
     },
     "metadata": {},
     "output_type": "display_data"
    }
   ],
   "source": [
    "sns.boxplot(data=data, y='account_type', x='num_txns');"
   ]
  },
  {
   "cell_type": "markdown",
   "id": "8b7db877-96a5-4b0a-a17f-ec2511b1e90a",
   "metadata": {},
   "source": [
    "- The plot shows quartiles, whiskers indicating variability outside the quartiles, and outliers for each distribution.\n",
    "- By [default](https://seaborn.pydata.org/generated/seaborn.boxplot.html#seaborn.boxplot), Seaborn defines as outliers all observations that are outside of 1.5 x IQR on either side of the box.\n",
    "- The width (height, really) of the boxes is arbitrary (in particular, they are not related to sample size, as is the case in some [variations](https://en.wikipedia.org/wiki/Box_plot#Variations)).\n",
    "\n",
    "The plot has obvious limitations, though.\n",
    "\n",
    "- For small datasets (n < 200) estimates of tail behaviour is unreliable and boxplots provide appropriately vague information beyond the quartiles. Also, for small datasets, the number of outliers is usually small and tractable.\n",
    "\n",
    "- For larger datasets (10,000 - 100,000), boxplots have two shortcomings: 1) we could and would like to provide more information about tail behaviour, and 2) they classify lots of points as outliers (see above), many of which are extreme but not unexpected (i.e. they are extreme values drawn from the same distribution as the rest of the data, not genuine outliers drawn from a different distribution)."
   ]
  },
  {
   "cell_type": "markdown",
   "id": "4d922e83-4986-44e8-83a9-104b90e510a1",
   "metadata": {},
   "source": [
    "This is where letter-value plots (or boxenplots, as Seaborn calls them), are useful."
   ]
  },
  {
   "cell_type": "code",
   "execution_count": 9,
   "id": "639470dc-5fe1-41ea-8bf9-e4a28d34e6aa",
   "metadata": {},
   "outputs": [
    {
     "data": {
      "image/png": "[encoded data removed]",
      "text/plain": [
       "<Figure size 720x360 with 1 Axes>"
      ]
     },
     "metadata": {},
     "output_type": "display_data"
    }
   ],
   "source": [
    "fix, ax = plt.subplots(figsize=(10, 5))\n",
    "sns.boxenplot(data=data, y='account_type', x='num_txns')\n",
    "ax.set_xticks(range(0, 350, 25));"
   ]
  },
  {
   "cell_type": "markdown",
   "id": "9aefb3d1-0bd0-4715-a788-d83ef7edf359",
   "metadata": {},
   "source": [
    "- Letter-value plots address the two shortcomints of boxplots for large datasets: they provide more information about the distribution in the tails, and classify fewer points as outliers.\n",
    "\n",
    "Interpreting letter-value plots:\n",
    "\n",
    "- Each box on either side captures half the remaining data on that side.\n",
    "- For instance, we can see that the median number of monthly transactions for current accounts is about 48. The right half of the innermost box then tells us that half of the remaining observations to the right of the median, i.e. 25% of all data, have fewer than 80 transactions. This is equivalent to saying that three quarters of all month-account observations have fewer than 80 transactions, and corresponds to the box shown in the boxplot above.\n",
    "- The interpretation of the next box is the same: it tells us that half of all the remaining data past the third quartile (12.5% of all the data) have fewer than about 105 transactions, and similarly for all further boxes.\n",
    "- Boxes with identical heights correspond the the same level.\n",
    "- The width of each box indicates how spread out the data are in that region of the distribution (e.g. the large width of the right-most boxes shows that in the extremes, the data is very spread out)."
   ]
  },
  {
   "cell_type": "markdown",
   "id": "a8405fb9-a2aa-490e-b78f-fd3d5ad8f590",
   "metadata": {},
   "source": [
    "### Sources:\n",
    "\n",
    "- [Letter-value plots paper](https://vita.had.co.nz/papers/letter-value-plot.html)\n",
    "- [Boxplots on Wikipedia](https://en.wikipedia.org/wiki/Box_plot)\n",
    "- [Dennis Meisner on Medium](https://towardsdatascience.com/letter-value-plot-the-easy-to-understand-boxplot-for-large-datasets-12d6c1279c97)"
   ]
  }
 ],
 "metadata": {
  "kernelspec": {
   "display_name": "blog",
   "language": "python",
   "name": "blog"
  },
  "language_info": {
   "codemirror_mode": {
    "name": "ipython",
    "version": 3
   },
   "file_extension": ".py",
   "mimetype": "text/x-python",
   "name": "python",
   "nbconvert_exporter": "python",
   "pygments_lexer": "ipython3",
   "version": "3.9.9"
  }
 },
 "nbformat": 4,
 "nbformat_minor": 5
}
