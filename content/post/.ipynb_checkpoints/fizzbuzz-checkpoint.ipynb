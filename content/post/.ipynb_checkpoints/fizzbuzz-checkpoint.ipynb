{
 "cells": [
  {
   "cell_type": "code",
   "execution_count": 6,
   "id": "24c075ff-8eaf-4cd8-a36b-15a9beb4ff5f",
   "metadata": {},
   "outputs": [
    {
     "data": {
      "text/plain": [
       "True"
      ]
     },
     "execution_count": 6,
     "metadata": {},
     "output_type": "execute_result"
    }
   ],
   "source": [
    "def sum_of_digits(n: int) -> int:\n",
    "    return sum(int(c) for c in str(n) if '0' <= c <= '9')\n",
    "\n",
    "\n",
    "def is_divisible_by_3(n: int) -> bool:\n",
    "    while n >= 10:\n",
    "        n = sum_of_digits(n)\n",
    "    \n",
    "    return n in [0, 3, 6, 9]\n",
    "\n",
    "\n",
    "is_divisible_by_3(24)"
   ]
  },
  {
   "cell_type": "markdown",
   "id": "59ebeb75-d56b-4418-9656-c9c044ea9391",
   "metadata": {},
   "source": [
    "Define basic tests"
   ]
  },
  {
   "cell_type": "code",
   "execution_count": 8,
   "id": "abcebdf5-35cd-488f-a766-b93995904d2b",
   "metadata": {},
   "outputs": [],
   "source": [
    "def tests():\n",
    "    assert fizzbuzz(33) == 'fizz'\n",
    "    assert fizzbuzz(55) == 'buzz'\n",
    "    assert fizzbuzz(90) == 'fizzbuzz'"
   ]
  },
  {
   "cell_type": "markdown",
   "id": "801a8c5e-a041-43d8-ba03-7a0bc21c03aa",
   "metadata": {},
   "source": [
    "Canonical solution"
   ]
  },
  {
   "cell_type": "code",
   "execution_count": 9,
   "id": "6434a4b3-f46b-4996-991c-b4dd2453c46a",
   "metadata": {},
   "outputs": [],
   "source": [
    "def fizzbuzz(n):\n",
    "    if n % 15 == 0:\n",
    "        return 'fizzbuzz'\n",
    "    elif n % 5 == 0:\n",
    "        return 'buzz'\n",
    "    elif n % 3 == 0:\n",
    "        return 'fizz'\n",
    "    else:\n",
    "        return str(n)\n",
    "\n",
    "\n",
    "tests()"
   ]
  },
  {
   "cell_type": "markdown",
   "id": "d5045925-0555-4cc1-806b-7c7111854902",
   "metadata": {},
   "source": [
    "Using a dictionary"
   ]
  },
  {
   "cell_type": "code",
   "execution_count": 10,
   "id": "b01dd943-d844-4f04-8d4a-d5add5d6742c",
   "metadata": {},
   "outputs": [
    {
     "data": {
      "text/plain": [
       "'fizz'"
      ]
     },
     "execution_count": 10,
     "metadata": {},
     "output_type": "execute_result"
    }
   ],
   "source": [
    "def fizzbuzz(n):\n",
    "    return {\n",
    "        (1, 1): 'fizzbuzz',\n",
    "        (0, 1): 'fizz',\n",
    "        (1, 0): 'buzz',\n",
    "        (0, 0): str(n)\n",
    "    }[n % 5 == 0, n % 3 == 0]\n",
    "\n",
    "fizzbuzz(33)"
   ]
  },
  {
   "cell_type": "code",
   "execution_count": null,
   "id": "a65dd726-e3a7-4191-8e8a-4972543c8ae9",
   "metadata": {},
   "outputs": [],
   "source": []
  }
 ],
 "metadata": {
  "kernelspec": {
   "display_name": "entropy",
   "language": "python",
   "name": "entropy"
  },
  "language_info": {
   "codemirror_mode": {
    "name": "ipython",
    "version": 3
   },
   "file_extension": ".py",
   "mimetype": "text/x-python",
   "name": "python",
   "nbconvert_exporter": "python",
   "pygments_lexer": "ipython3",
   "version": "3.9.7"
  }
 },
 "nbformat": 4,
 "nbformat_minor": 5
}
