{
 "cells": [
  {
   "cell_type": "markdown",
   "metadata": {},
   "source": [
    "## Iterators"
   ]
  },
  {
   "cell_type": "markdown",
   "metadata": {},
   "source": [
    "- A Python object is described as *iterable* (adjective) or as *an iterable* (noun) when it can be iterated over -- when we can process the elements it contains in turn.\n",
    "\n",
    "- An *iterator* is a value-producing object that returns the content of an iterable on demand one by one as we call `next()`.\n",
    "\n",
    "- We can create an iterator from an iterable using the built-in `iter()` function.\n",
    "\n",
    "- One (the?) main feature of iterators is that they are lazy: they produce the next item in the sequence only once it is required, which, for large sequences, can save a lot of memory and allow us to process data that doesn't fit into memory all at once."
   ]
  },
  {
   "cell_type": "markdown",
   "metadata": {},
   "source": [
    "Iterator example:"
   ]
  },
  {
   "cell_type": "code",
   "execution_count": 1,
   "metadata": {},
   "outputs": [
    {
     "data": {
      "text/plain": [
       "('h', 'e')"
      ]
     },
     "execution_count": 1,
     "metadata": {},
     "output_type": "execute_result"
    }
   ],
   "source": [
    "iterable = \"hello world\"\n",
    "iterator = iter(iterable)\n",
    "next(iterator), next(iterator)"
   ]
  },
  {
   "cell_type": "markdown",
   "metadata": {},
   "source": [
    "## Generators"
   ]
  },
  {
   "cell_type": "markdown",
   "metadata": {},
   "source": [
    "- Generators are a tool to easily create iterators ([docs](https://docs.python.org/3/tutorial/classes.html#generators))\n",
    "\n",
    "- Similarly to `return`, the `yield` statement indicates that a value is returned to the caller, but unlike it, function execution is not terminated but merely suspended with the current state of the function saved, and function execution will pick up right after the `yield` statement on the next call to a generator method."
   ]
  },
  {
   "cell_type": "code",
   "execution_count": 20,
   "metadata": {},
   "outputs": [
    {
     "name": "stdout",
     "output_type": "stream",
     "text": [
      "GEN_CREATED\n",
      "GEN_SUSPENDED\n",
      "GEN_CLOSED\n"
     ]
    }
   ],
   "source": [
    "import inspect\n",
    "\n",
    "\n",
    "def gen(x):\n",
    "    yield x\n",
    "\n",
    "\n",
    "a = gen(5)\n",
    "print(inspect.getgeneratorstate(a))\n",
    "\n",
    "next(a)\n",
    "print(inspect.getgeneratorstate(a))\n",
    "\n",
    "try:\n",
    "    next(a)\n",
    "except StopIteration:\n",
    "    print(inspect.getgeneratorstate(a))"
   ]
  },
  {
   "cell_type": "markdown",
   "metadata": {},
   "source": [
    "**Example: creating a generator from an iterator using generator comprehension**"
   ]
  },
  {
   "cell_type": "code",
   "execution_count": 104,
   "metadata": {},
   "outputs": [
    {
     "data": {
      "text/plain": [
       "(<list_reverseiterator at 0x15f191b80>,\n",
       " <generator object <genexpr> at 0x15f5e1200>)"
      ]
     },
     "execution_count": 104,
     "metadata": {},
     "output_type": "execute_result"
    }
   ],
   "source": [
    "a = [1, 2, 3]\n",
    "reversed(a), (i for i in reversed(a))"
   ]
  },
  {
   "cell_type": "markdown",
   "metadata": {},
   "source": [
    "**Example: creating an infinite sequence**"
   ]
  },
  {
   "cell_type": "code",
   "execution_count": 25,
   "metadata": {},
   "outputs": [
    {
     "data": {
      "text/plain": [
       "(0, 1)"
      ]
     },
     "execution_count": 25,
     "metadata": {},
     "output_type": "execute_result"
    }
   ],
   "source": [
    "def infinite_sequence():\n",
    "    num = 0\n",
    "    while True:\n",
    "        yield num\n",
    "        num += 1\n",
    "\n",
    "\n",
    "gen = infinite_sequence()\n",
    "next(gen), next(gen)"
   ]
  },
  {
   "cell_type": "markdown",
   "metadata": {},
   "source": [
    "**Example: generator expressions**\n",
    "\n",
    "(They are well suited in cases where memory is an issue, but then can be slower than list expressions.)"
   ]
  },
  {
   "cell_type": "code",
   "execution_count": 30,
   "metadata": {},
   "outputs": [
    {
     "name": "stdout",
     "output_type": "stream",
     "text": [
      "85176\n"
     ]
    },
    {
     "data": {
      "text/plain": [
       "112"
      ]
     },
     "execution_count": 30,
     "metadata": {},
     "output_type": "execute_result"
    }
   ],
   "source": [
    "import sys\n",
    "\n",
    "nums_squared_lc = [i ** 2 for i in range(10000)]\n",
    "print(sys.getsizeof(nums_squared_lc))\n",
    "\n",
    "nums_squared_gc = (i ** 2 for i in range(10000))\n",
    "sys.getsizeof(nums_squared_gc)"
   ]
  },
  {
   "cell_type": "markdown",
   "metadata": {},
   "source": [
    "**Example: reading a file line by line**"
   ]
  },
  {
   "cell_type": "code",
   "execution_count": 20,
   "metadata": {},
   "outputs": [
    {
     "name": "stdout",
     "output_type": "stream",
     "text": [
      "Row count: 2017\n"
     ]
    }
   ],
   "source": [
    "def csv_reader(filepath):\n",
    "    for row in open(filepath, \"r\"):\n",
    "        yield row\n",
    "\n",
    "\n",
    "filepath = \"/Users/fgu/example.csv\"\n",
    "csv_gen = csv_reader(filepath)  # or: csv_gen = (row for row in open(filepath))\n",
    "row_count = 0\n",
    "for row in csv_gen:\n",
    "    row_count += 1\n",
    "\n",
    "print(f\"Row count: {row_count}\")"
   ]
  },
  {
   "cell_type": "markdown",
   "metadata": {},
   "source": [
    "**Example: data processing pipeline**"
   ]
  },
  {
   "cell_type": "code",
   "execution_count": 110,
   "metadata": {},
   "outputs": [
    {
     "name": "stdout",
     "output_type": "stream",
     "text": [
      "SF min temperature was 15.4496008956306\n"
     ]
    }
   ],
   "source": [
    "filepath = \"/Users/fgu/example.csv\"\n",
    "\n",
    "# exctract lines\n",
    "lines = (line for line in open(filepath))\n",
    "\n",
    "# turn lines into lists of items\n",
    "list_line = (line.rstrip().split(\",\") for line in lines)\n",
    "\n",
    "# extract column names\n",
    "col_names = next(list_line)\n",
    "\n",
    "# create dict with col name keys for each line\n",
    "line_dicts = (dict(zip(col_names, data)) for data in list_line)\n",
    "\n",
    "# extract needed data\n",
    "sf_temps = (float(d[\"temperature\"]) for d in line_dicts if d[\"city\"] == \"San Francisco\")\n",
    "\n",
    "# start iteration to calculate result\n",
    "sf_min_temp = min(sf_temps)\n",
    "print(f\"SF min temperature was {sf_min_temp}\")"
   ]
  },
  {
   "cell_type": "markdown",
   "metadata": {},
   "source": [
    "**Example: implementing a `for` loop**"
   ]
  },
  {
   "cell_type": "code",
   "execution_count": 31,
   "metadata": {},
   "outputs": [
    {
     "name": "stdout",
     "output_type": "stream",
     "text": [
      "a\n",
      "b\n",
      "c\n"
     ]
    }
   ],
   "source": [
    "items = [\"a\", \"b\", \"c\"]\n",
    "it = iter(items)\n",
    "while True:\n",
    "    try:\n",
    "        item = next(it)\n",
    "    except StopIteration:\n",
    "        break\n",
    "    print(item)"
   ]
  },
  {
   "cell_type": "markdown",
   "metadata": {},
   "source": [
    "**Example: implementing `range()`**\n",
    "\n",
    "(From the Python Cookbook recipee 4.3)"
   ]
  },
  {
   "cell_type": "code",
   "execution_count": 109,
   "metadata": {},
   "outputs": [
    {
     "data": {
      "text/plain": [
       "[1, 3, 5, 7, 9]"
      ]
     },
     "execution_count": 109,
     "metadata": {},
     "output_type": "execute_result"
    }
   ],
   "source": [
    "def frange(start, stop, increment):\n",
    "    x = start\n",
    "    while x < stop:\n",
    "        yield x\n",
    "        x += increment\n",
    "\n",
    "\n",
    "rng = frange(1, 10, 2)\n",
    "list(rng)"
   ]
  },
  {
   "cell_type": "markdown",
   "metadata": {},
   "source": [
    "**Example: creating an arithmetic progression sequence**"
   ]
  },
  {
   "cell_type": "code",
   "execution_count": 18,
   "metadata": {},
   "outputs": [
    {
     "name": "stdout",
     "output_type": "stream",
     "text": [
      "0\n",
      "5\n",
      "10\n",
      "15\n"
     ]
    }
   ],
   "source": [
    "def aritprog(begin, step, end=None):\n",
    "    result = type(begin + step)(begin)\n",
    "    forever = end is None\n",
    "    index = 0\n",
    "    while forever or result < end:\n",
    "        yield result\n",
    "        index += 1\n",
    "        result = begin + step * index\n",
    "\n",
    "\n",
    "a = aritprog(0, 5, 20)\n",
    "for a in a:\n",
    "    print(a)"
   ]
  },
  {
   "cell_type": "markdown",
   "metadata": {},
   "source": [
    "## `yield from`\n",
    "\n",
    "- `yield from` allows for easily splitting up a generator into multiple generators."
   ]
  },
  {
   "cell_type": "code",
   "execution_count": null,
   "metadata": {},
   "outputs": [],
   "source": [
    "def gen():\n",
    "    for i in range(5):\n",
    "        yield i\n",
    "    for j in range(5, 10):\n",
    "        yield j"
   ]
  },
  {
   "cell_type": "markdown",
   "metadata": {},
   "source": [
    "We can split it into two"
   ]
  },
  {
   "cell_type": "code",
   "execution_count": 30,
   "metadata": {},
   "outputs": [
    {
     "data": {
      "text/plain": [
       "[0, 1, 2, 3, 4, 5, 6, 7, 8, 9]"
      ]
     },
     "execution_count": 30,
     "metadata": {},
     "output_type": "execute_result"
    }
   ],
   "source": [
    "def gen1():\n",
    "    for i in range(5):\n",
    "        yield i\n",
    "\n",
    "\n",
    "def gen2():\n",
    "    for j in range(5, 10):\n",
    "        yield j\n",
    "\n",
    "\n",
    "def gen():\n",
    "    for i in gen1():\n",
    "        yield i\n",
    "    for j in gen2():\n",
    "        yield j\n",
    "\n",
    "\n",
    "list(gen())"
   ]
  },
  {
   "cell_type": "markdown",
   "metadata": {},
   "source": [
    "`yield from` allows us to simplify the above."
   ]
  },
  {
   "cell_type": "code",
   "execution_count": 32,
   "metadata": {},
   "outputs": [
    {
     "data": {
      "text/plain": [
       "[0, 1, 2, 3, 4, 5, 6, 7, 8, 9]"
      ]
     },
     "execution_count": 32,
     "metadata": {},
     "output_type": "execute_result"
    }
   ],
   "source": [
    "def gen():\n",
    "    yield from gen1()\n",
    "    yield from gen2()\n",
    "\n",
    "\n",
    "list(gen())"
   ]
  },
  {
   "cell_type": "markdown",
   "metadata": {},
   "source": [
    "**Merging two sorted collections**"
   ]
  },
  {
   "cell_type": "code",
   "execution_count": 1,
   "metadata": {},
   "outputs": [
    {
     "data": {
      "text/plain": [
       "[1, 2, 3, 4, 5, 7, 88, 99, 111]"
      ]
     },
     "execution_count": 1,
     "metadata": {},
     "output_type": "execute_result"
    }
   ],
   "source": [
    "def sorted_merge(left, right):\n",
    "    \"\"\"Returns two sorted collections as a single sorted collection.\"\"\"\n",
    "    def _merge():\n",
    "        while left and right:\n",
    "            yield (left if left[0] < right[0] else right).pop(0)\n",
    "        yield from left\n",
    "        yield from right\n",
    "\n",
    "    return _merge()\n",
    "\n",
    "\n",
    "list(sorted_merge([1, 3, 4, 99, 111], [2, 5, 7, 88]))"
   ]
  },
  {
   "cell_type": "markdown",
   "metadata": {},
   "source": [
    "## Sources\n",
    "\n",
    "- [Real Python, Python \"for\" loops](https://realpython.com/python-for-loop/)\n",
    "- [Fluent Python](https://www.oreilly.com/library/view/fluent-python/9781491946237/)\n",
    "- [Python Cookbook](https://www.oreilly.com/library/view/python-cookbook-3rd/9781449357337/)\n",
    "- [Simeon Visser, Using `yield from` in generators](http://simeonvisser.com/posts/python-3-using-yield-from-in-generators-part-1.html)"
   ]
  }
 ],
 "metadata": {
  "kernelspec": {
   "display_name": "limo",
   "language": "python",
   "name": "limo"
  },
  "language_info": {
   "codemirror_mode": {
    "name": "ipython",
    "version": 3
   },
   "file_extension": ".py",
   "mimetype": "text/x-python",
   "name": "python",
   "nbconvert_exporter": "python",
   "pygments_lexer": "ipython3",
   "version": "3.9.9"
  }
 },
 "nbformat": 4,
 "nbformat_minor": 4
}
