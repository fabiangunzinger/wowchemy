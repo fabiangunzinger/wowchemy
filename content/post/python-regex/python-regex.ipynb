{
 "cells": [
  {
   "cell_type": "markdown",
   "metadata": {
    "tags": []
   },
   "source": [
    "## Raw strings\n",
    "\n",
    "> Raw string notation keeps regular expressions sane. [`re` tutorial](https://docs.python.org/3/library/re.html#raw-string-notation)"
   ]
  },
  {
   "cell_type": "markdown",
   "metadata": {},
   "source": [
    "### Raw strings in Python"
   ]
  },
  {
   "cell_type": "markdown",
   "metadata": {},
   "source": [
    "Just like the regex engine, Python uses `\\` to [escape](https://docs.python.org/3/reference/lexical_analysis.html#string-and-bytes-literals) characters in strings that otherwise have special meaning (e.g. `'` and `\\` itself) and to create tokens with special meaning (e.g. `\\n`)."
   ]
  },
  {
   "cell_type": "code",
   "execution_count": 14,
   "metadata": {},
   "outputs": [
    {
     "name": "stdout",
     "output_type": "stream",
     "text": [
      "Hello\n",
      "World\n"
     ]
    }
   ],
   "source": [
    "print(\"Hello\\nWorld\")"
   ]
  },
  {
   "cell_type": "markdown",
   "metadata": {},
   "source": [
    "Without escaping a single quotation mark, it takes on its special meaning as a delimiter of a string."
   ]
  },
  {
   "cell_type": "code",
   "execution_count": 11,
   "metadata": {},
   "outputs": [
    {
     "ename": "SyntaxError",
     "evalue": "invalid syntax (3769801028.py, line 1)",
     "output_type": "error",
     "traceback": [
      "\u001b[0;36m  File \u001b[0;32m\"/var/folders/xg/n9p73cf50s52twlnz7z778vr0000gn/T/ipykernel_5590/3769801028.py\"\u001b[0;36m, line \u001b[0;32m1\u001b[0m\n\u001b[0;31m    'It's raining'\u001b[0m\n\u001b[0m        ^\u001b[0m\n\u001b[0;31mSyntaxError\u001b[0m\u001b[0;31m:\u001b[0m invalid syntax\n"
     ]
    }
   ],
   "source": [
    "'It's raining'"
   ]
  },
  {
   "cell_type": "markdown",
   "metadata": {},
   "source": [
    "To give it its literal meaning as an apostrophe, we need to escape it."
   ]
  },
  {
   "cell_type": "code",
   "execution_count": 27,
   "metadata": {},
   "outputs": [
    {
     "data": {
      "text/plain": [
       "\"It's raining\""
      ]
     },
     "execution_count": 27,
     "metadata": {},
     "output_type": "execute_result"
    }
   ],
   "source": [
    "\"It's raining\""
   ]
  },
  {
   "cell_type": "markdown",
   "metadata": {},
   "source": [
    "### Python and regex interaction"
   ]
  },
  {
   "cell_type": "markdown",
   "metadata": {},
   "source": [
    "A string is processed by the Python interpreter before being passed on to the regex engine. Once consequence of this is that if in our regex pattern we want to treat as a literal a character that has special meaning in both Python and regex, we have to escape it twice.\n",
    "\n",
    "For example: to search for a literal backslash in our regex pattern, we need to write `\\\\\\\\`. The Python interpreter reads this as `\\\\` and passes it to the regex engine, which then reads it as `\\` as desired."
   ]
  },
  {
   "cell_type": "code",
   "execution_count": 1,
   "metadata": {},
   "outputs": [],
   "source": [
    "import re"
   ]
  },
  {
   "cell_type": "code",
   "execution_count": 9,
   "metadata": {},
   "outputs": [
    {
     "name": "stdout",
     "output_type": "stream",
     "text": [
      "a \\ b\n"
     ]
    },
    {
     "data": {
      "text/plain": [
       "'a \\\\ b'"
      ]
     },
     "execution_count": 9,
     "metadata": {},
     "output_type": "execute_result"
    }
   ],
   "source": [
    "s = \"a \\ b\"\n",
    "m = re.search(\"a \\\\\\\\ b\", s)\n",
    "print(m[0])\n",
    "m[0]"
   ]
  },
  {
   "cell_type": "markdown",
   "metadata": {},
   "source": [
    "This is obviously cumbersome. A useful alternative is to use raw strings `r''`, which make the Python interpreter read special characters as literals, obviating the first set of escapes. Hence, it's a good idea to use raw strings in Python regex expressions."
   ]
  },
  {
   "cell_type": "code",
   "execution_count": 11,
   "metadata": {},
   "outputs": [
    {
     "name": "stdout",
     "output_type": "stream",
     "text": [
      "a \\ b\n"
     ]
    }
   ],
   "source": [
    "m = re.search(r\"a \\\\ b\", s)\n",
    "print(m.group())"
   ]
  },
  {
   "cell_type": "markdown",
   "metadata": {},
   "source": [
    "### Escape sequences rabbit hole"
   ]
  },
  {
   "cell_type": "markdown",
   "metadata": {},
   "source": [
    "First things first: an escape sequence is a a sequence of characters that does not represent itself when used within a string literal but is translated into another character or sequence of characters that might be difficult or impossible to represent (from [Wikipedia](https://en.wikipedia.org/wiki/Escape_sequences_in_C))."
   ]
  },
  {
   "cell_type": "markdown",
   "metadata": {},
   "source": [
    "When I tried a version of this"
   ]
  },
  {
   "cell_type": "code",
   "execution_count": 13,
   "metadata": {},
   "outputs": [
    {
     "data": {
      "text/plain": [
       "[]"
      ]
     },
     "execution_count": 13,
     "metadata": {},
     "output_type": "execute_result"
    }
   ],
   "source": [
    "string = \"foo 1a bar 2baz\"\n",
    "pattern = \"\\b\\d[a-z]\\b\"\n",
    "\n",
    "re.findall(pattern, string)"
   ]
  },
  {
   "cell_type": "markdown",
   "metadata": {},
   "source": [
    "it took me 10 minutes to figure out why `1a` didn't match. The short answer is: **thou shalt use raw strings!**"
   ]
  },
  {
   "cell_type": "code",
   "execution_count": 36,
   "metadata": {},
   "outputs": [
    {
     "data": {
      "text/plain": [
       "['1a']"
      ]
     },
     "execution_count": 36,
     "metadata": {},
     "output_type": "execute_result"
    }
   ],
   "source": [
    "raw_pattern = r\"\\b\\d[a-z]\\b\"\n",
    "\n",
    "re.findall(raw_pattern, string)"
   ]
  },
  {
   "cell_type": "markdown",
   "metadata": {},
   "source": [
    "But why? Because Python [interpretes](https://docs.python.org/3/reference/lexical_analysis.html#string-and-bytes-literals) escape sequences in strings according to the rules of Standard C, where `\\b` happens to stand for the backspace. Hence, the pattern without the *r* prefix means \"a backspace immediately followed by a digit immediately followed by a lowercase letter immediately followed by another backspace\", which is not present in the string.\n",
    "\n",
    "To convince ourselves of this, we can add backspaces to the string and try again -- now the pattern matches."
   ]
  },
  {
   "cell_type": "code",
   "execution_count": 37,
   "metadata": {},
   "outputs": [
    {
     "data": {
      "text/plain": [
       "['\\x081a\\x08']"
      ]
     },
     "execution_count": 37,
     "metadata": {},
     "output_type": "execute_result"
    }
   ],
   "source": [
    "string = \"foo \\N{backspace}1a\\N{backspace} baz 2bar\"\n",
    "\n",
    "re.findall(pattern, string)"
   ]
  },
  {
   "cell_type": "markdown",
   "metadata": {},
   "source": [
    "One point that was not immediately obvious to me was why `pattern` works without the backspace character -- why do the backspaces in `\\d` and `\\w` not need escaping?"
   ]
  },
  {
   "cell_type": "code",
   "execution_count": 38,
   "metadata": {},
   "outputs": [
    {
     "data": {
      "text/plain": [
       "['1a', '2b']"
      ]
     },
     "execution_count": 38,
     "metadata": {},
     "output_type": "execute_result"
    }
   ],
   "source": [
    "pattern = \"\\d\\w\"\n",
    "re.findall(pattern, string)"
   ]
  },
  {
   "cell_type": "markdown",
   "metadata": {},
   "source": [
    "The explanation is that `\\` is interpreted literally if it is not part of an escape sequence, as in"
   ]
  },
  {
   "cell_type": "code",
   "execution_count": 42,
   "metadata": {},
   "outputs": [
    {
     "name": "stdout",
     "output_type": "stream",
     "text": [
      "a\\k\n"
     ]
    }
   ],
   "source": [
    "print(\"a\\k\")"
   ]
  },
  {
   "cell_type": "markdown",
   "metadata": {},
   "source": [
    "and `\\d` and `\\w` aren't escape sequences in Python (or C). Hence, these two tokens are passed on unaltered to the regex engine, where they are interpreted according to regex syntax rules."
   ]
  },
  {
   "cell_type": "markdown",
   "metadata": {},
   "source": [
    "### Remove punctuation rabbit hole"
   ]
  },
  {
   "cell_type": "markdown",
   "metadata": {},
   "source": [
    "I wanted to remove punctuation in a string like the below."
   ]
  },
  {
   "cell_type": "code",
   "execution_count": 29,
   "metadata": {},
   "outputs": [],
   "source": [
    "s = \"Some .' test & with * punctuation \\ characters.\""
   ]
  },
  {
   "cell_type": "markdown",
   "metadata": {},
   "source": [
    "Thinking I was clever, I thought of the useful [constants](https://docs.python.org/3/library/string.html#string-constants) provided by the `string` module, which provide easy access to character sequences like the set of punctuation characters."
   ]
  },
  {
   "cell_type": "code",
   "execution_count": 3,
   "metadata": {},
   "outputs": [
    {
     "data": {
      "text/plain": [
       "'!\"#$%&\\'()*+,-./:;<=>?@[\\\\]^_`{|}~'"
      ]
     },
     "execution_count": 3,
     "metadata": {},
     "output_type": "execute_result"
    }
   ],
   "source": [
    "import string\n",
    "\n",
    "string.punctuation"
   ]
  },
  {
   "cell_type": "markdown",
   "metadata": {},
   "source": [
    "I did the below and was about to celebrate victory."
   ]
  },
  {
   "cell_type": "code",
   "execution_count": 4,
   "metadata": {},
   "outputs": [
    {
     "name": "stdout",
     "output_type": "stream",
     "text": [
      "multiple repeat at position 10\n"
     ]
    }
   ],
   "source": [
    "p = string.punctuation\n",
    "try:\n",
    "    re.sub(p, \" \", s)\n",
    "except Exception as e:\n",
    "    print(e)"
   ]
  },
  {
   "cell_type": "markdown",
   "metadata": {},
   "source": [
    "Oops! It's a clear case where I jupmpted to a conclusion a little bit too soon, and where spending a few more minutes thinking things through before starting to code would probably have helped me see the two flaws in my approach: I need to escape special characters, and, given that I want to search for characters individually, I need to wrap them in a character rather than passing them as a single string🤦‍♂️"
   ]
  },
  {
   "cell_type": "code",
   "execution_count": 46,
   "metadata": {},
   "outputs": [
    {
     "data": {
      "text/plain": [
       "'Some  test  with  punctuation  characters'"
      ]
     },
     "execution_count": 46,
     "metadata": {},
     "output_type": "execute_result"
    }
   ],
   "source": [
    "p = f\"[{re.escape(string.punctuation)}]\"\n",
    "r = re.sub(p, \"\", s)\n",
    "r"
   ]
  },
  {
   "cell_type": "markdown",
   "metadata": {},
   "source": [
    "To remove extra whitespace, I could use:"
   ]
  },
  {
   "cell_type": "code",
   "execution_count": 47,
   "metadata": {},
   "outputs": [
    {
     "data": {
      "text/plain": [
       "'Some test with punctuation characters'"
      ]
     },
     "execution_count": 47,
     "metadata": {},
     "output_type": "execute_result"
    }
   ],
   "source": [
    "re.sub(\" +\", \" \", r)"
   ]
  },
  {
   "cell_type": "markdown",
   "metadata": {},
   "source": [
    "Alternatively, I could use a regex-native approach."
   ]
  },
  {
   "cell_type": "code",
   "execution_count": 56,
   "metadata": {},
   "outputs": [
    {
     "data": {
      "text/plain": [
       "'Some    test   with   punctuation   characters '"
      ]
     },
     "execution_count": 56,
     "metadata": {},
     "output_type": "execute_result"
    }
   ],
   "source": [
    "p = r\"[\\W_]\"\n",
    "re.sub(p, \" \", s)"
   ]
  },
  {
   "cell_type": "markdown",
   "metadata": {},
   "source": [
    "## `re` module"
   ]
  },
  {
   "cell_type": "code",
   "execution_count": 15,
   "metadata": {},
   "outputs": [],
   "source": [
    "import re"
   ]
  },
  {
   "cell_type": "markdown",
   "metadata": {},
   "source": [
    "Overview of search methods"
   ]
  },
  {
   "cell_type": "code",
   "execution_count": 3,
   "metadata": {},
   "outputs": [
    {
     "name": "stdout",
     "output_type": "stream",
     "text": [
      "re.match (start of string)               -> None\n",
      "re.search (anywhere in string)           -> <re.Match object; span=(1, 2), match='a'>\n",
      "re.findall (all matches)                 -> ['a', 'a']\n",
      "re.finditer (all matches as iterator)    -> <callable_iterator object at 0x11236d2e0>\n"
     ]
    }
   ],
   "source": [
    "pattern = \"a\"\n",
    "string = \"Jack is a boy\"\n",
    "\n",
    "methods = [\n",
    "    (\"re.match (start of string)\", re.match(pattern, string)),\n",
    "    (\"re.search (anywhere in string)\", re.search(pattern, string)),\n",
    "    (\"re.findall (all matches)\", re.findall(pattern, string)),\n",
    "    (\"re.finditer (all matches as iterator)\", re.finditer(pattern, string)),\n",
    "]\n",
    "\n",
    "for desc, result in methods:\n",
    "    print(\"{:40} -> {}\".format(desc, result))"
   ]
  },
  {
   "cell_type": "markdown",
   "metadata": {},
   "source": [
    "### `re.findall()`\n",
    "\n",
    "Returns list of all matches if no capturing groups specified, and a list of capturing groups otherwise."
   ]
  },
  {
   "cell_type": "markdown",
   "metadata": {},
   "source": [
    "Example: find stand-alone numbers"
   ]
  },
  {
   "cell_type": "code",
   "execution_count": 34,
   "metadata": {},
   "outputs": [],
   "source": [
    "data = \"\"\"\n",
    " 012\n",
    "foo34 \n",
    "     56\n",
    "78bar\n",
    "9\n",
    " a10b\n",
    "\"\"\""
   ]
  },
  {
   "cell_type": "markdown",
   "metadata": {},
   "source": [
    "Without capturing groups entire match is returned"
   ]
  },
  {
   "cell_type": "code",
   "execution_count": 13,
   "metadata": {},
   "outputs": [
    {
     "data": {
      "text/plain": [
       "['\\n 012\\n', ' \\n     56\\n', '\\n9\\n ']"
      ]
     },
     "execution_count": 13,
     "metadata": {},
     "output_type": "execute_result"
    }
   ],
   "source": [
    "proper_digits = \"\\s+\\d+\\s+\"\n",
    "re.findall(proper_digits, data, flags=re.MULTILINE)"
   ]
  },
  {
   "cell_type": "markdown",
   "metadata": {},
   "source": [
    "One capturing groups returns list of capturing groups"
   ]
  },
  {
   "cell_type": "code",
   "execution_count": 12,
   "metadata": {},
   "outputs": [
    {
     "data": {
      "text/plain": [
       "['012', '56', '9']"
      ]
     },
     "execution_count": 12,
     "metadata": {},
     "output_type": "execute_result"
    }
   ],
   "source": [
    "proper_digits = \"(?m)\\s+(\\d+)\\s+\"\n",
    "re.findall(proper_digits, data, flags=re.MULTILINE)"
   ]
  },
  {
   "cell_type": "markdown",
   "metadata": {},
   "source": [
    "Multiple capturing groups return list of multi-tuple capturing groups"
   ]
  },
  {
   "cell_type": "code",
   "execution_count": 14,
   "metadata": {},
   "outputs": [
    {
     "data": {
      "text/plain": [
       "[('0', '12'), ('5', '6'), ('9', '')]"
      ]
     },
     "execution_count": 14,
     "metadata": {},
     "output_type": "execute_result"
    }
   ],
   "source": [
    "proper_digits = \"\\s+(\\d)(\\d+)?\\s+\"\n",
    "re.findall(proper_digits, data, flags=re.MULTILINE)"
   ]
  },
  {
   "cell_type": "markdown",
   "metadata": {},
   "source": [
    "To return the full match if the pattern uses capturing groups, simply capture the entire match, too."
   ]
  },
  {
   "cell_type": "code",
   "execution_count": 56,
   "metadata": {},
   "outputs": [
    {
     "data": {
      "text/plain": [
       "['Hot is hot', 'Cold is cold']"
      ]
     },
     "execution_count": 56,
     "metadata": {},
     "output_type": "execute_result"
    }
   ],
   "source": [
    "s = \"Hot is hot. Cold is cold.\"\n",
    "p = r\"((?i)(\\w+) is \\2)\"\n",
    "[groups[0] for groups in regex.findall(p, s)]"
   ]
  },
  {
   "cell_type": "markdown",
   "metadata": {},
   "source": [
    "Finding overlapping matches"
   ]
  },
  {
   "cell_type": "code",
   "execution_count": 41,
   "metadata": {},
   "outputs": [
    {
     "data": {
      "text/plain": [
       "['abc', 'bc', 'c']"
      ]
     },
     "execution_count": 41,
     "metadata": {},
     "output_type": "execute_result"
    }
   ],
   "source": [
    "pattern = r\"(?=(\\w+))\"\n",
    "re.findall(pattern, \"abc\")"
   ]
  },
  {
   "cell_type": "markdown",
   "metadata": {
    "tags": []
   },
   "source": [
    "### `re.match()`\n",
    "\n",
    "Find pattern at the beginning of a string"
   ]
  },
  {
   "cell_type": "code",
   "execution_count": 35,
   "metadata": {},
   "outputs": [
    {
     "name": "stdout",
     "output_type": "stream",
     "text": [
      "<re.Match object; span=(0, 14), match='\"688293\"|\"777\"'>\n",
      "777\n",
      "777\n"
     ]
    }
   ],
   "source": [
    "line = '\"688293\"|\"777\"|\"2011-07-20\"|\"1969\"|\"20K to 30K\"'\n",
    "\n",
    "pattern = r'\"\\d+\"\\|\"(?P<user_id>\\d+)\"'\n",
    "\n",
    "match = re.match(pattern, line)\n",
    "print(match)\n",
    "print(match.group(\"user_id\"))\n",
    "print(match[\"user_id\"])  # alternative, simpler, syntax"
   ]
  },
  {
   "cell_type": "code",
   "execution_count": 32,
   "metadata": {},
   "outputs": [
    {
     "data": {
      "text/plain": [
       "['5412 N CLARK',\n",
       " '5148 N CLARK',\n",
       " '5800 E 58TH',\n",
       " '2122 N CLARK5645 N RAVENSWOOD',\n",
       " '4801 N BROADWAY']"
      ]
     },
     "execution_count": 32,
     "metadata": {},
     "output_type": "execute_result"
    }
   ],
   "source": [
    "from itertools import compress\n",
    "\n",
    "addresses = [\n",
    "    \"5412 N CLARK\",\n",
    "    \"5148 N CLARK\",\n",
    "    \"5800 E 58TH\",\n",
    "    \"2122 N CLARK\" \"5645 N RAVENSWOOD\",\n",
    "    \"1060 W ADDISON\",\n",
    "    \"4801 N BROADWAY\",\n",
    "    \"1039 W GRANVILLE\",\n",
    "]\n",
    "\n",
    "\n",
    "def large_house_number(address, threshold=2000):\n",
    "    house_number = int(re.match(\"\\d+\", address)[0])\n",
    "    return house_number > threshold\n",
    "\n",
    "\n",
    "has_large_number = [large_house_number(x) for x in addresses]\n",
    "list(compress(addresses, has_large_number))"
   ]
  },
  {
   "cell_type": "markdown",
   "metadata": {},
   "source": [
    "### `re.escape()`"
   ]
  },
  {
   "cell_type": "markdown",
   "metadata": {},
   "source": [
    "I want to match \"(other)\". To match the parentheses literally, I'd have to escape them. If I don't, the regex engine interpres them as a capturing group."
   ]
  },
  {
   "cell_type": "code",
   "execution_count": 40,
   "metadata": {},
   "outputs": [
    {
     "name": "stdout",
     "output_type": "stream",
     "text": [
      "<re.Match object; span=(6, 11), match='other'>\n"
     ]
    },
    {
     "data": {
      "text/plain": [
       "'other'"
      ]
     },
     "execution_count": 40,
     "metadata": {},
     "output_type": "execute_result"
    }
   ],
   "source": [
    "m = re.search(\"(other)\", \"some (other) word\")\n",
    "print(m)\n",
    "m[0]"
   ]
  },
  {
   "cell_type": "markdown",
   "metadata": {},
   "source": [
    "I can escape manually."
   ]
  },
  {
   "cell_type": "code",
   "execution_count": 20,
   "metadata": {},
   "outputs": [
    {
     "data": {
      "text/plain": [
       "<re.Match object; span=(5, 12), match='(other)'>"
      ]
     },
     "execution_count": 20,
     "metadata": {},
     "output_type": "execute_result"
    }
   ],
   "source": [
    "re.search(\"\\(other\\)\", \"some (other) word\")"
   ]
  },
  {
   "cell_type": "markdown",
   "metadata": {},
   "source": [
    "But if I have many fields with metacharacters (e.g. variable values that contain parentheses) this is a massive pain. The solution is to just use `re.escape()`, which does all the work for me."
   ]
  },
  {
   "cell_type": "code",
   "execution_count": 10,
   "metadata": {},
   "outputs": [
    {
     "data": {
      "text/plain": [
       "<re.Match object; span=(5, 12), match='(other)'>"
      ]
     },
     "execution_count": 10,
     "metadata": {},
     "output_type": "execute_result"
    }
   ],
   "source": [
    "re.search(re.escape(\"(other)\"), \"some (other) word\")"
   ]
  },
  {
   "cell_type": "markdown",
   "metadata": {},
   "source": [
    "### `re.split()`"
   ]
  },
  {
   "cell_type": "code",
   "execution_count": 20,
   "metadata": {},
   "outputs": [
    {
     "data": {
      "text/plain": [
       "['It', 'Is', 'A', 'Wonderful', 'World']"
      ]
     },
     "execution_count": 20,
     "metadata": {},
     "output_type": "execute_result"
    }
   ],
   "source": [
    "pattern = r\"(?<=\\w)(?=[A-Z])\"\n",
    "s = \"ItIsAWonderfulWorld\"\n",
    "re.split(pattern, s)"
   ]
  },
  {
   "cell_type": "markdown",
   "metadata": {},
   "source": [
    "### `re.sub()`"
   ]
  },
  {
   "cell_type": "markdown",
   "metadata": {},
   "source": [
    "Stip a string of whitespace and punctuation."
   ]
  },
  {
   "cell_type": "code",
   "execution_count": 3,
   "metadata": {},
   "outputs": [
    {
     "data": {
      "text/plain": [
       "'StringWithPunctutionandwhitespace'"
      ]
     },
     "execution_count": 3,
     "metadata": {},
     "output_type": "execute_result"
    }
   ],
   "source": [
    "s = \"String. With! Punctu@tion# and _whitespace\"\n",
    "re.sub(r\"[\\W_]\", \"\", s)"
   ]
  },
  {
   "cell_type": "markdown",
   "metadata": {},
   "source": [
    "Using zero-width match to turn CamelCase into snake_case"
   ]
  },
  {
   "cell_type": "code",
   "execution_count": 6,
   "metadata": {},
   "outputs": [
    {
     "data": {
      "text/plain": [
       "'this_is_a_beautiful_day'"
      ]
     },
     "execution_count": 6,
     "metadata": {},
     "output_type": "execute_result"
    }
   ],
   "source": [
    "s = \"ThisIsABeautifulDay\"\n",
    "pattern = r\"(?<=[a-zA-Z])(?=[A-Z])\"\n",
    "re.sub(pattern, \"_\", s).lower()"
   ]
  },
  {
   "cell_type": "markdown",
   "metadata": {},
   "source": [
    "Use same approach with MULTILINE mode to comment out all lines."
   ]
  },
  {
   "cell_type": "code",
   "execution_count": 10,
   "metadata": {},
   "outputs": [
    {
     "name": "stdout",
     "output_type": "stream",
     "text": [
      "#first\n",
      "#second\n",
      "#third\n"
     ]
    }
   ],
   "source": [
    "s = \"\"\"first\n",
    "second\n",
    "third\"\"\"\n",
    "\n",
    "pattern = \"(?m)^\"\n",
    "print(re.sub(pattern, \"#\", s))"
   ]
  },
  {
   "cell_type": "markdown",
   "metadata": {},
   "source": [
    "### Matching end of line and end of string"
   ]
  },
  {
   "cell_type": "markdown",
   "metadata": {},
   "source": [
    "`\\Z` matches strict end of string but not cases where last character is a line-break"
   ]
  },
  {
   "cell_type": "code",
   "execution_count": 4,
   "metadata": {},
   "outputs": [
    {
     "name": "stdout",
     "output_type": "stream",
     "text": [
      "<re.Match object; span=(17, 18), match='d'>\n",
      "None\n"
     ]
    }
   ],
   "source": [
    "a = \"\"\"no newline \n",
    "at end\"\"\"\n",
    "\n",
    "b = \"\"\"newline\n",
    "at end\n",
    "\"\"\"\n",
    "\n",
    "print(re.search(r\"d\\Z\", a))\n",
    "print(re.search(r\"d\\Z\", b))"
   ]
  },
  {
   "cell_type": "markdown",
   "metadata": {},
   "source": [
    "`\\$` matches end of string flexibly (i.e. before or after final linebreak)"
   ]
  },
  {
   "cell_type": "code",
   "execution_count": 53,
   "metadata": {},
   "outputs": [
    {
     "name": "stdout",
     "output_type": "stream",
     "text": [
      "['d']\n",
      "['d']\n"
     ]
    }
   ],
   "source": [
    "a = \"\"\"no newline \n",
    "at end\"\"\"\n",
    "\n",
    "b = \"\"\"newline\n",
    "at end\n",
    "\"\"\"\n",
    "\n",
    "print(re.findall(r\"[ed]$\", a))\n",
    "print(re.findall(r\"[ed]$\", b))"
   ]
  },
  {
   "cell_type": "markdown",
   "metadata": {},
   "source": [
    "`\\$` with MULTILINE mode matches end of line"
   ]
  },
  {
   "cell_type": "code",
   "execution_count": 57,
   "metadata": {},
   "outputs": [
    {
     "name": "stdout",
     "output_type": "stream",
     "text": [
      "['e', 'd']\n",
      "['e', 'd']\n"
     ]
    }
   ],
   "source": [
    "a = \"\"\"no newline\n",
    "at end\"\"\"\n",
    "\n",
    "b = \"\"\"newline\n",
    "at end\n",
    "\"\"\"\n",
    "\n",
    "print(re.findall(r\"(?m)[ed]$\", a))\n",
    "print(re.findall(r\"(?m)[ed]$\", b))"
   ]
  },
  {
   "cell_type": "markdown",
   "metadata": {
    "tags": []
   },
   "source": [
    "## `regex` module\n",
    "\n",
    "- [docs](https://bitbucket.org/mrabarnett/mrab-regex/src/hg/)\n",
    "\n",
    "Todo:\n",
    "- [Comparison](https://github.com/rexdwyer/Splitsville/blob/master/Splitsville.ipynb) between `re` and `regex`."
   ]
  },
  {
   "cell_type": "code",
   "execution_count": 2,
   "metadata": {},
   "outputs": [],
   "source": [
    "# would usually import as `import regex as re`, but because I\n",
    "# want to compare to built-in re here, I'll import as regex.\n",
    "\n",
    "# default version is VERSION0, which emulates re to use additional\n",
    "# functionality, use VERSION1\n",
    "\n",
    "import regex\n",
    "\n",
    "regex.DEFAULT_VERSION = regex.VERSION1"
   ]
  },
  {
   "cell_type": "markdown",
   "metadata": {},
   "source": [
    "### Keep out token\n",
    "\n",
    "The keep out token `\\K` drops everything matched thus far from the overall match to be returned."
   ]
  },
  {
   "cell_type": "code",
   "execution_count": 5,
   "metadata": {},
   "outputs": [
    {
     "data": {
      "text/plain": [
       "'12'"
      ]
     },
     "execution_count": 5,
     "metadata": {},
     "output_type": "execute_result"
    }
   ],
   "source": [
    "pattern = r\"\\w+_\\K\\d+\"\n",
    "string = \"abc_12\"\n",
    "\n",
    "regex.match(pattern, string)[0]"
   ]
  },
  {
   "cell_type": "markdown",
   "metadata": {},
   "source": [
    "### Inline flags\n",
    "\n",
    "Flags placed inside the regex pattern take effect from that point onwards. As an example, this helps us find uppercase words that later appear in lowercase. To start, let's match all words that reappear later in the string."
   ]
  },
  {
   "cell_type": "code",
   "execution_count": 40,
   "metadata": {},
   "outputs": [
    {
     "data": {
      "text/plain": [
       "['HELLO', 'world']"
      ]
     },
     "execution_count": 40,
     "metadata": {},
     "output_type": "execute_result"
    }
   ],
   "source": [
    "string = \"HELLO world hello world\"\n",
    "pattern = r\"(?i)(\\b\\w+\\b)(?=.*\\1)\"\n",
    "\n",
    "re.findall(pattern, string)"
   ]
  },
  {
   "cell_type": "markdown",
   "metadata": {},
   "source": [
    "To only match uppercase words that later reappear in lowercase, we can do this ([explanation](https://www.rexegg.com/regex-tricks.html#upper_lower)):"
   ]
  },
  {
   "cell_type": "code",
   "execution_count": 41,
   "metadata": {},
   "outputs": [
    {
     "data": {
      "text/plain": [
       "['HELLO']"
      ]
     },
     "execution_count": 41,
     "metadata": {},
     "output_type": "execute_result"
    }
   ],
   "source": [
    "pattern = r\"(\\b[A-Z]+\\b)(?=.*(?=\\b[a-z]+\\b)(?i)\\1)\"\n",
    "regex.findall(pattern, string)"
   ]
  },
  {
   "cell_type": "markdown",
   "metadata": {},
   "source": [
    "### Subroutines"
   ]
  },
  {
   "cell_type": "markdown",
   "metadata": {},
   "source": [
    "Subroutines obviate the repetition of long capturing groups"
   ]
  },
  {
   "cell_type": "code",
   "execution_count": 2,
   "metadata": {},
   "outputs": [
    {
     "data": {
      "text/plain": [
       "('Tarzan loves Jane', 'Tarzan')"
      ]
     },
     "execution_count": 2,
     "metadata": {},
     "output_type": "execute_result"
    }
   ],
   "source": [
    "s = \"Tarzan loves Jane\"\n",
    "p = r\"(Tarzan|Jane) loves (?1)\"\n",
    "m = regex.search(p, s)\n",
    "m[0], m[1]"
   ]
  },
  {
   "cell_type": "markdown",
   "metadata": {},
   "source": [
    "#### Recursive patterns"
   ]
  },
  {
   "cell_type": "markdown",
   "metadata": {},
   "source": [
    "Subroutines can call themselves to create a recursive pattern, which can be useful to match tokens where one letter is perfectly balanced by another."
   ]
  },
  {
   "cell_type": "code",
   "execution_count": 78,
   "metadata": {},
   "outputs": [
    {
     "data": {
      "text/plain": [
       "['ab', 'aabb', 'aaabbb']"
      ]
     },
     "execution_count": 78,
     "metadata": {},
     "output_type": "execute_result"
    }
   ],
   "source": [
    "s = \"ab and aabb and aab and aaabbb and abb\"\n",
    "p = r\"\\b(a(?1)?b)\\b\"\n",
    "regex.findall(p, s)"
   ]
  },
  {
   "cell_type": "markdown",
   "metadata": {},
   "source": [
    "Experimental\n",
    "\n",
    "- only standalone expressions"
   ]
  },
  {
   "cell_type": "code",
   "execution_count": 18,
   "metadata": {},
   "outputs": [
    {
     "data": {
      "text/plain": [
       "['aaaabbbb', 'aabb', 'ab', 'ab']"
      ]
     },
     "execution_count": 18,
     "metadata": {},
     "output_type": "execute_result"
    }
   ],
   "source": [
    "s = \"aaaabbbb aabb aab ab\"\n",
    "p = r\"a(?R)?b\"\n",
    "regex.findall(p, s)"
   ]
  },
  {
   "cell_type": "code",
   "execution_count": 36,
   "metadata": {},
   "outputs": [
    {
     "data": {
      "text/plain": [
       "['a a a a b b b b']"
      ]
     },
     "execution_count": 36,
     "metadata": {},
     "output_type": "execute_result"
    }
   ],
   "source": [
    "s = \"a a a a b b b b aabb aab ab\"\n",
    "p = r\"\\b ?a(?R)? b\\b\"\n",
    "regex.findall(p, s)"
   ]
  },
  {
   "cell_type": "markdown",
   "metadata": {},
   "source": [
    "#### Pre-defined subroutines"
   ]
  },
  {
   "cell_type": "markdown",
   "metadata": {},
   "source": [
    "We can predefine subroutines to produce nicely modular patterns that can easily be reused through our regex. (The `\\` in the pattern is needed because in free-spacing mode, whitespace that we want to match rather than ignore needs to be escaped.)"
   ]
  },
  {
   "cell_type": "code",
   "execution_count": 86,
   "metadata": {},
   "outputs": [
    {
     "data": {
      "text/plain": [
       "<regex.Match object; span=(11, 22), match='5 elephants'>"
      ]
     },
     "execution_count": 86,
     "metadata": {},
     "output_type": "execute_result"
    }
   ],
   "source": [
    "defs = \"\"\"\n",
    "    (?(DEFINE)\n",
    "        (?<quant>\\d+)\n",
    "        (?<item>\\w+)\n",
    "    )\n",
    "    \"\"\"\n",
    "\n",
    "pattern = rf\"{defs} (?&quant)\\ (?&item)\"\n",
    "string = \"There were 5 elephants walking towards the water hole.\"\n",
    "\n",
    "regex.search(pattern, string, flags=regex.VERBOSE)"
   ]
  },
  {
   "cell_type": "markdown",
   "metadata": {},
   "source": [
    "A useful application of this is to create [real-word boundaries](https://www.rexegg.com/regex-boundaries.html#real-word-boundary) (rwb) that match between letters and other characters (rather than between word and non-word characters)."
   ]
  },
  {
   "cell_type": "code",
   "execution_count": 88,
   "metadata": {},
   "outputs": [
    {
     "data": {
      "text/plain": [
       "['cats', 'dogs', 'bat']"
      ]
     },
     "execution_count": 88,
     "metadata": {},
     "output_type": "execute_result"
    }
   ],
   "source": [
    "defs = \"\"\"\n",
    "    (?(DEFINE)\n",
    "        (?<rwb>\n",
    "            (?i)                   # case insensitive\n",
    "            (?<![a-z])(?=[a-z])    # beginning of word\n",
    "            |(?<=[a-z])(?![a-z])   # end of word\n",
    "        )\n",
    "    )\n",
    "    \"\"\"\n",
    "\n",
    "pattern = rf\"{defs} (?&rwb)\\w+(?&rwb)\"\n",
    "string = \"\"\"\n",
    "cats23,\n",
    " +dogs55,\n",
    "%bat*\"\"\"\n",
    "\n",
    "regex.findall(pattern, string, flags=regex.VERBOSE)"
   ]
  },
  {
   "cell_type": "markdown",
   "metadata": {},
   "source": [
    "Using default word boundaries in the above string would also return digits and underscores, since they are word characters."
   ]
  },
  {
   "cell_type": "code",
   "execution_count": 89,
   "metadata": {},
   "outputs": [
    {
     "data": {
      "text/plain": [
       "['cats23', 'dogs55', 'bat']"
      ]
     },
     "execution_count": 89,
     "metadata": {},
     "output_type": "execute_result"
    }
   ],
   "source": [
    "regex.findall(r\"\\b\\w+\\b\", string)"
   ]
  },
  {
   "cell_type": "markdown",
   "metadata": {},
   "source": [
    "### Named groups"
   ]
  },
  {
   "cell_type": "markdown",
   "metadata": {},
   "source": [
    "Supports named groups with a cleaner syntax: `(?<name>...)` instead of the somewhat verbose `(?P<name>...)` to define named groups"
   ]
  },
  {
   "cell_type": "code",
   "execution_count": 3,
   "metadata": {},
   "outputs": [
    {
     "data": {
      "text/plain": [
       "{'day': '23', 'month': 'Dec', 'year': '1986'}"
      ]
     },
     "execution_count": 3,
     "metadata": {},
     "output_type": "execute_result"
    }
   ],
   "source": [
    "s = \"Zwätschgi was born on 23 Dec 1986\"\n",
    "p = r\"\\b(?<day>\\d{2}) (?<month>\\w{3}) (?<year>\\d{4})\\b\"\n",
    "regex.search(p, s).groupdict()"
   ]
  },
  {
   "cell_type": "markdown",
   "metadata": {},
   "source": [
    "and `\\g<name>` instead of `(?P=name)` for backreference."
   ]
  },
  {
   "cell_type": "code",
   "execution_count": 4,
   "metadata": {},
   "outputs": [
    {
     "data": {
      "text/plain": [
       "<regex.Match object; span=(0, 10), match='2012-12-12'>"
      ]
     },
     "execution_count": 4,
     "metadata": {},
     "output_type": "execute_result"
    }
   ],
   "source": [
    "s = \"2012-12-12\"\n",
    "p = \"\\d\\d(?<yy>\\d\\d)-\\g<yy>-\\g<yy>\"\n",
    "regex.match(p, s)"
   ]
  },
  {
   "cell_type": "markdown",
   "metadata": {},
   "source": [
    "### Unicode categories"
   ]
  },
  {
   "cell_type": "markdown",
   "metadata": {},
   "source": [
    "`regex` provides support for unicode [categories](https://www.regular-expressions.info/unicode.html), which can be super handy."
   ]
  },
  {
   "cell_type": "code",
   "execution_count": 20,
   "metadata": {},
   "outputs": [
    {
     "data": {
      "text/plain": [
       "['.', '_']"
      ]
     },
     "execution_count": 20,
     "metadata": {},
     "output_type": "execute_result"
    }
   ],
   "source": [
    "## search for any punctuation character\n",
    "\n",
    "s = \". and _\"\n",
    "pattern = r\"\\p{P}\"\n",
    "regex.findall(pattern, s)"
   ]
  },
  {
   "cell_type": "markdown",
   "metadata": {},
   "source": [
    "### Variable-width lookbehinds"
   ]
  },
  {
   "cell_type": "markdown",
   "metadata": {},
   "source": [
    "One useful feature of `regex` is that it allows for variable-width lookbehinds. Like most regex engines, the `re` doesn't and tells you so if you try."
   ]
  },
  {
   "cell_type": "markdown",
   "metadata": {},
   "source": [
    "For example, if we want to match uppercase words preceeded by a prefix compused of digits and an underscore, such as *BANANA* in *123_BANANA*, the below doesn't work:"
   ]
  },
  {
   "cell_type": "code",
   "execution_count": 16,
   "metadata": {},
   "outputs": [
    {
     "name": "stdout",
     "output_type": "stream",
     "text": [
      "look-behind requires fixed-width pattern\n"
     ]
    }
   ],
   "source": [
    "string = \"123456_ORANGE abc12_APPLE\"\n",
    "pattern = r\"(?<=\\b\\d+_)[A-Z]+\\b\"\n",
    "\n",
    "try:\n",
    "    re.findall(pattern, string)\n",
    "except Exception as e:\n",
    "    print(e)"
   ]
  },
  {
   "cell_type": "markdown",
   "metadata": {},
   "source": [
    "In contrast, `regex` succeeds. "
   ]
  },
  {
   "cell_type": "code",
   "execution_count": 18,
   "metadata": {},
   "outputs": [
    {
     "data": {
      "text/plain": [
       "['ORANGE']"
      ]
     },
     "execution_count": 18,
     "metadata": {},
     "output_type": "execute_result"
    }
   ],
   "source": [
    "regex.findall(pattern, string)"
   ]
  },
  {
   "cell_type": "markdown",
   "metadata": {},
   "source": [
    "Another application is if we wanted (for whatever reason) to match all words beginning with *a* at the beginning of a line from lines three onwards."
   ]
  },
  {
   "cell_type": "code",
   "execution_count": 24,
   "metadata": {},
   "outputs": [
    {
     "data": {
      "text/plain": [
       "['alibaba', 'aladin']"
      ]
     },
     "execution_count": 24,
     "metadata": {},
     "output_type": "execute_result"
    }
   ],
   "source": [
    "string = \"\"\"abba\n",
    "abacus\n",
    "alibaba ada\n",
    "beta adagio\n",
    "aladin abracadabra\n",
    "\"\"\"\n",
    "\n",
    "pattern = \"(?<=\\n.*\\n)a\\w+\"\n",
    "\n",
    "regex.findall(pattern, string)"
   ]
  },
  {
   "cell_type": "markdown",
   "metadata": {
    "tags": []
   },
   "source": [
    "### Character class set operations"
   ]
  },
  {
   "cell_type": "markdown",
   "metadata": {},
   "source": [
    "Intersection"
   ]
  },
  {
   "cell_type": "code",
   "execution_count": 5,
   "metadata": {},
   "outputs": [
    {
     "data": {
      "text/plain": [
       "['.', '*', '!']"
      ]
     },
     "execution_count": 5,
     "metadata": {},
     "output_type": "execute_result"
    }
   ],
   "source": [
    "# inside [] are optional but can make pattern easier to read\n",
    "pattern = r\"[[\\W]&&[\\S]]\"\n",
    "subject = \"a.b*5_c 8!\"\n",
    "regex.findall(pattern, subject)"
   ]
  },
  {
   "cell_type": "markdown",
   "metadata": {},
   "source": [
    "Union"
   ]
  },
  {
   "cell_type": "code",
   "execution_count": 6,
   "metadata": {},
   "outputs": [
    {
     "data": {
      "text/plain": [
       "['a', 'b', '5', '8']"
      ]
     },
     "execution_count": 6,
     "metadata": {},
     "output_type": "execute_result"
    }
   ],
   "source": [
    "pattern = r\"[ab||\\d]\"\n",
    "subject = \"a.b*5_c 8!\"\n",
    "regex.findall(pattern, subject)"
   ]
  },
  {
   "cell_type": "markdown",
   "metadata": {},
   "source": [
    "Subtraction"
   ]
  },
  {
   "cell_type": "code",
   "execution_count": 7,
   "metadata": {},
   "outputs": [
    {
     "data": {
      "text/plain": [
       "['a', 'c']"
      ]
     },
     "execution_count": 7,
     "metadata": {},
     "output_type": "execute_result"
    }
   ],
   "source": [
    "pattern = r\"[[a-z]--[b]]\"\n",
    "subject = \"a.b*5_c 8!\"\n",
    "regex.findall(pattern, subject)"
   ]
  },
  {
   "cell_type": "code",
   "execution_count": 10,
   "metadata": {},
   "outputs": [
    {
     "data": {
      "text/plain": [
       "['a', 'b', 'k', 'f']"
      ]
     },
     "execution_count": 10,
     "metadata": {},
     "output_type": "execute_result"
    }
   ],
   "source": [
    "pattern = \"[\\w--[_\\d]]\"\n",
    "subject = \"a b 3 k _ f 4\"\n",
    "regex.findall(pattern, subject)"
   ]
  },
  {
   "cell_type": "markdown",
   "metadata": {},
   "source": [
    "## Pandas"
   ]
  },
  {
   "cell_type": "code",
   "execution_count": 6,
   "metadata": {},
   "outputs": [],
   "source": [
    "import pandas as pd"
   ]
  },
  {
   "cell_type": "markdown",
   "metadata": {},
   "source": [
    "### Insert text in position\n",
    "\n",
    "Insert an underscore between words"
   ]
  },
  {
   "cell_type": "code",
   "execution_count": 14,
   "metadata": {},
   "outputs": [
    {
     "data": {
      "text/html": [
       "<div>\n",
       "<style scoped>\n",
       "    .dataframe tbody tr th:only-of-type {\n",
       "        vertical-align: middle;\n",
       "    }\n",
       "\n",
       "    .dataframe tbody tr th {\n",
       "        vertical-align: top;\n",
       "    }\n",
       "\n",
       "    .dataframe thead th {\n",
       "        text-align: right;\n",
       "    }\n",
       "</style>\n",
       "<table border=\"1\" class=\"dataframe\">\n",
       "  <thead>\n",
       "    <tr style=\"text-align: right;\">\n",
       "      <th></th>\n",
       "      <th>a</th>\n",
       "    </tr>\n",
       "  </thead>\n",
       "  <tbody>\n",
       "    <tr>\n",
       "      <th>0</th>\n",
       "      <td>Hello_World</td>\n",
       "    </tr>\n",
       "    <tr>\n",
       "      <th>1</th>\n",
       "      <td>Happy_Day</td>\n",
       "    </tr>\n",
       "    <tr>\n",
       "      <th>2</th>\n",
       "      <td>Sunny_Hill</td>\n",
       "    </tr>\n",
       "  </tbody>\n",
       "</table>\n",
       "</div>"
      ],
      "text/plain": [
       "             a\n",
       "0  Hello_World\n",
       "1    Happy_Day\n",
       "2   Sunny_Hill"
      ]
     },
     "execution_count": 14,
     "metadata": {},
     "output_type": "execute_result"
    }
   ],
   "source": [
    "df = pd.DataFrame({\"a\": [\"HelloWorld\", \"HappyDay\", \"SunnyHill\"]})\n",
    "\n",
    "pattern = r\"(?<=[a-z])(?=[A-Z])\"\n",
    "df[\"a\"] = df.a.str.replace(pattern, \"_\", regex=True)\n",
    "df"
   ]
  },
  {
   "cell_type": "code",
   "execution_count": 40,
   "metadata": {},
   "outputs": [
    {
     "data": {
      "text/html": [
       "<div>\n",
       "<style scoped>\n",
       "    .dataframe tbody tr th:only-of-type {\n",
       "        vertical-align: middle;\n",
       "    }\n",
       "\n",
       "    .dataframe tbody tr th {\n",
       "        vertical-align: top;\n",
       "    }\n",
       "\n",
       "    .dataframe thead th {\n",
       "        text-align: right;\n",
       "    }\n",
       "</style>\n",
       "<table border=\"1\" class=\"dataframe\">\n",
       "  <thead>\n",
       "    <tr style=\"text-align: right;\">\n",
       "      <th></th>\n",
       "      <th>title</th>\n",
       "      <th>us gross</th>\n",
       "      <th>worldwide gross</th>\n",
       "      <th>us dvd sales</th>\n",
       "      <th>production budget</th>\n",
       "      <th>release date</th>\n",
       "      <th>mpaa rating</th>\n",
       "      <th>running time min</th>\n",
       "      <th>distributor</th>\n",
       "      <th>source</th>\n",
       "      <th>major genre</th>\n",
       "      <th>creative type</th>\n",
       "      <th>director</th>\n",
       "      <th>rotten tomatoes rating</th>\n",
       "      <th>imdb rating</th>\n",
       "      <th>imdb votes</th>\n",
       "    </tr>\n",
       "  </thead>\n",
       "  <tbody>\n",
       "    <tr>\n",
       "      <th>0</th>\n",
       "      <td>the land girls</td>\n",
       "      <td>146083.0</td>\n",
       "      <td>146083.0</td>\n",
       "      <td>NaN</td>\n",
       "      <td>8000000.0</td>\n",
       "      <td>jun 12 1998</td>\n",
       "      <td>r</td>\n",
       "      <td>NaN</td>\n",
       "      <td>gramercy</td>\n",
       "      <td>None</td>\n",
       "      <td>None</td>\n",
       "      <td>None</td>\n",
       "      <td>None</td>\n",
       "      <td>NaN</td>\n",
       "      <td>6.1</td>\n",
       "      <td>1071.0</td>\n",
       "    </tr>\n",
       "    <tr>\n",
       "      <th>1</th>\n",
       "      <td>first love, last rites</td>\n",
       "      <td>10876.0</td>\n",
       "      <td>10876.0</td>\n",
       "      <td>NaN</td>\n",
       "      <td>300000.0</td>\n",
       "      <td>aug 07 1998</td>\n",
       "      <td>r</td>\n",
       "      <td>NaN</td>\n",
       "      <td>strand</td>\n",
       "      <td>None</td>\n",
       "      <td>drama</td>\n",
       "      <td>None</td>\n",
       "      <td>None</td>\n",
       "      <td>NaN</td>\n",
       "      <td>6.9</td>\n",
       "      <td>207.0</td>\n",
       "    </tr>\n",
       "  </tbody>\n",
       "</table>\n",
       "</div>"
      ],
      "text/plain": [
       "                    title  us gross  worldwide gross  us dvd sales  \\\n",
       "0          the land girls  146083.0         146083.0           NaN   \n",
       "1  first love, last rites   10876.0          10876.0           NaN   \n",
       "\n",
       "   production budget release date mpaa rating  running time min distributor  \\\n",
       "0          8000000.0  jun 12 1998           r               NaN    gramercy   \n",
       "1           300000.0  aug 07 1998           r               NaN      strand   \n",
       "\n",
       "  source major genre creative type director  rotten tomatoes rating  \\\n",
       "0   None        None          None     None                     NaN   \n",
       "1   None       drama          None     None                     NaN   \n",
       "\n",
       "   imdb rating  imdb votes  \n",
       "0          6.1      1071.0  \n",
       "1          6.9       207.0  "
      ]
     },
     "execution_count": 40,
     "metadata": {},
     "output_type": "execute_result"
    }
   ],
   "source": [
    "def colname_cleaner(df):\n",
    "    \"\"\"Convert column names to stripped lowercase with underscores.\"\"\"\n",
    "    df.columns = df.columns.str.lower().str.strip()\n",
    "    return df\n",
    "\n",
    "\n",
    "def str_cleaner(df):\n",
    "    \"\"\"Convert string values to stripped lowercase.\"\"\"\n",
    "    str_cols = df.select_dtypes(\"object\")\n",
    "    for col in str_cols:\n",
    "        df[col] = df[col].str.lower().str.strip()\n",
    "    return df\n",
    "\n",
    "\n",
    "movies = data.movies().pipe(colname_cleaner).pipe(str_cleaner)\n",
    "movies.head(2)"
   ]
  },
  {
   "cell_type": "markdown",
   "metadata": {},
   "source": [
    "### Finding a single pattern in text"
   ]
  },
  {
   "cell_type": "code",
   "execution_count": 63,
   "metadata": {},
   "outputs": [
    {
     "data": {
      "text/plain": [
       "(0, 5, 'hello')"
      ]
     },
     "execution_count": 63,
     "metadata": {},
     "output_type": "execute_result"
    }
   ],
   "source": [
    "pattern = \"hello\"\n",
    "text = \"hello world it is a beautiful day.\"\n",
    "\n",
    "match = re.search(pattern, text)\n",
    "match.start(), match.end(), match.group()"
   ]
  },
  {
   "cell_type": "markdown",
   "metadata": {},
   "source": [
    "In Pandas"
   ]
  },
  {
   "cell_type": "code",
   "execution_count": 67,
   "metadata": {},
   "outputs": [
    {
     "data": {
      "text/html": [
       "<div>\n",
       "<style scoped>\n",
       "    .dataframe tbody tr th:only-of-type {\n",
       "        vertical-align: middle;\n",
       "    }\n",
       "\n",
       "    .dataframe tbody tr th {\n",
       "        vertical-align: top;\n",
       "    }\n",
       "\n",
       "    .dataframe thead th {\n",
       "        text-align: right;\n",
       "    }\n",
       "</style>\n",
       "<table border=\"1\" class=\"dataframe\">\n",
       "  <thead>\n",
       "    <tr style=\"text-align: right;\">\n",
       "      <th></th>\n",
       "      <th>0</th>\n",
       "    </tr>\n",
       "  </thead>\n",
       "  <tbody>\n",
       "    <tr>\n",
       "      <th>0</th>\n",
       "      <td>NaN</td>\n",
       "    </tr>\n",
       "    <tr>\n",
       "      <th>1</th>\n",
       "      <td>love</td>\n",
       "    </tr>\n",
       "    <tr>\n",
       "      <th>2</th>\n",
       "      <td>NaN</td>\n",
       "    </tr>\n",
       "    <tr>\n",
       "      <th>3</th>\n",
       "      <td>NaN</td>\n",
       "    </tr>\n",
       "    <tr>\n",
       "      <th>4</th>\n",
       "      <td>NaN</td>\n",
       "    </tr>\n",
       "    <tr>\n",
       "      <th>...</th>\n",
       "      <td>...</td>\n",
       "    </tr>\n",
       "    <tr>\n",
       "      <th>3196</th>\n",
       "      <td>NaN</td>\n",
       "    </tr>\n",
       "    <tr>\n",
       "      <th>3197</th>\n",
       "      <td>NaN</td>\n",
       "    </tr>\n",
       "    <tr>\n",
       "      <th>3198</th>\n",
       "      <td>NaN</td>\n",
       "    </tr>\n",
       "    <tr>\n",
       "      <th>3199</th>\n",
       "      <td>NaN</td>\n",
       "    </tr>\n",
       "    <tr>\n",
       "      <th>3200</th>\n",
       "      <td>NaN</td>\n",
       "    </tr>\n",
       "  </tbody>\n",
       "</table>\n",
       "<p>3201 rows × 1 columns</p>\n",
       "</div>"
      ],
      "text/plain": [
       "         0\n",
       "0      NaN\n",
       "1     love\n",
       "2      NaN\n",
       "3      NaN\n",
       "4      NaN\n",
       "...    ...\n",
       "3196   NaN\n",
       "3197   NaN\n",
       "3198   NaN\n",
       "3199   NaN\n",
       "3200   NaN\n",
       "\n",
       "[3201 rows x 1 columns]"
      ]
     },
     "execution_count": 67,
     "metadata": {},
     "output_type": "execute_result"
    }
   ],
   "source": [
    "movies.title.str.extract(\"(love)\")"
   ]
  },
  {
   "cell_type": "markdown",
   "metadata": {},
   "source": [
    "- `contains()`: Test if pattern or regex is contained within a string of a Series or Index.\n",
    "- `match()`: Determine if each string starts with a match of a regular expression.\n",
    "- `fullmatch()`: \n",
    "- `extract()`: Extract capture groups in the regex pat as columns in a DataFrame.\n",
    "- `extractall()`: Returns all matches (not just the first match).\n",
    "- `find()`: \n",
    "- `findall()`:\n",
    "- `replace()`:"
   ]
  },
  {
   "cell_type": "code",
   "execution_count": 47,
   "metadata": {},
   "outputs": [
    {
     "data": {
      "text/plain": [
       "0                   the land girls\n",
       "1           first love, last rites\n",
       "2       i married a strange person\n",
       "3             let's talk about sex\n",
       "4                             slam\n",
       "                   ...            \n",
       "3196    zack and miri make a porno\n",
       "3197                        zodiac\n",
       "3198                          zoom\n",
       "3199           the legend of zorro\n",
       "3200             the mask of zorro\n",
       "Name: title, Length: 3201, dtype: object"
      ]
     },
     "execution_count": 47,
     "metadata": {},
     "output_type": "execute_result"
    }
   ],
   "source": [
    "movies.title.replace(\"girls\", \"hello\")"
   ]
  },
  {
   "cell_type": "markdown",
   "metadata": {},
   "source": [
    "Let's drop all movies by distributors with \"Pictures\" and \"Universal\" in their title."
   ]
  },
  {
   "cell_type": "code",
   "execution_count": 108,
   "metadata": {},
   "outputs": [
    {
     "data": {
      "text/html": [
       "<div>\n",
       "<style scoped>\n",
       "    .dataframe tbody tr th:only-of-type {\n",
       "        vertical-align: middle;\n",
       "    }\n",
       "\n",
       "    .dataframe tbody tr th {\n",
       "        vertical-align: top;\n",
       "    }\n",
       "\n",
       "    .dataframe thead th {\n",
       "        text-align: right;\n",
       "    }\n",
       "</style>\n",
       "<table border=\"1\" class=\"dataframe\">\n",
       "  <thead>\n",
       "    <tr style=\"text-align: right;\">\n",
       "      <th></th>\n",
       "      <th>title</th>\n",
       "      <th>us_gross</th>\n",
       "      <th>worldwide_gross</th>\n",
       "      <th>us_dvd_sales</th>\n",
       "      <th>production_budget</th>\n",
       "      <th>release_date</th>\n",
       "      <th>mpaa_rating</th>\n",
       "      <th>running_time_min</th>\n",
       "      <th>distributor</th>\n",
       "      <th>source</th>\n",
       "      <th>major_genre</th>\n",
       "      <th>creative_type</th>\n",
       "      <th>director</th>\n",
       "      <th>rotten_tomatoes_rating</th>\n",
       "      <th>imdb_rating</th>\n",
       "      <th>imdb_votes</th>\n",
       "    </tr>\n",
       "  </thead>\n",
       "  <tbody>\n",
       "    <tr>\n",
       "      <th>0</th>\n",
       "      <td>The Land Girls</td>\n",
       "      <td>146083.0</td>\n",
       "      <td>146083.0</td>\n",
       "      <td>NaN</td>\n",
       "      <td>8000000.0</td>\n",
       "      <td>Jun 12 1998</td>\n",
       "      <td>R</td>\n",
       "      <td>NaN</td>\n",
       "      <td>Gramercy</td>\n",
       "      <td>None</td>\n",
       "      <td>None</td>\n",
       "      <td>None</td>\n",
       "      <td>None</td>\n",
       "      <td>NaN</td>\n",
       "      <td>6.1</td>\n",
       "      <td>1071.0</td>\n",
       "    </tr>\n",
       "    <tr>\n",
       "      <th>1</th>\n",
       "      <td>First Love, Last Rites</td>\n",
       "      <td>10876.0</td>\n",
       "      <td>10876.0</td>\n",
       "      <td>NaN</td>\n",
       "      <td>300000.0</td>\n",
       "      <td>Aug 07 1998</td>\n",
       "      <td>R</td>\n",
       "      <td>NaN</td>\n",
       "      <td>Strand</td>\n",
       "      <td>None</td>\n",
       "      <td>Drama</td>\n",
       "      <td>None</td>\n",
       "      <td>None</td>\n",
       "      <td>NaN</td>\n",
       "      <td>6.9</td>\n",
       "      <td>207.0</td>\n",
       "    </tr>\n",
       "  </tbody>\n",
       "</table>\n",
       "</div>"
      ],
      "text/plain": [
       "                    title  us_gross  worldwide_gross  us_dvd_sales  \\\n",
       "0          The Land Girls  146083.0         146083.0           NaN   \n",
       "1  First Love, Last Rites   10876.0          10876.0           NaN   \n",
       "\n",
       "   production_budget release_date mpaa_rating  running_time_min distributor  \\\n",
       "0          8000000.0  Jun 12 1998           R               NaN    Gramercy   \n",
       "1           300000.0  Aug 07 1998           R               NaN      Strand   \n",
       "\n",
       "  source major_genre creative_type director  rotten_tomatoes_rating  \\\n",
       "0   None        None          None     None                     NaN   \n",
       "1   None       Drama          None     None                     NaN   \n",
       "\n",
       "   imdb_rating  imdb_votes  \n",
       "0          6.1      1071.0  \n",
       "1          6.9       207.0  "
      ]
     },
     "execution_count": 108,
     "metadata": {},
     "output_type": "execute_result"
    }
   ],
   "source": [
    "# inverted masking\n",
    "\n",
    "names = [\"Universal\", \"Pictures\"]\n",
    "pattern = \"|\".join(names)\n",
    "mask = movies.distributor.str.contains(pattern, na=True)\n",
    "result = movies[~mask]\n",
    "result.head(2)"
   ]
  },
  {
   "cell_type": "code",
   "execution_count": 112,
   "metadata": {},
   "outputs": [],
   "source": [
    "# negated regex\n",
    "\n",
    "names = [\"Universal\", \"Pictures\"]\n",
    "pattern = \"\\|\".join(names)\n",
    "neg_pattern = f\"[^{pattern}]\"\n",
    "neg_pattern\n",
    "mask = movies.distributor.str.contains(neg_pattern, na=False)\n",
    "result2 = movies[mask]"
   ]
  },
  {
   "cell_type": "code",
   "execution_count": 113,
   "metadata": {},
   "outputs": [
    {
     "data": {
      "text/plain": [
       "'[^Universal\\\\|Pictures]'"
      ]
     },
     "execution_count": 113,
     "metadata": {},
     "output_type": "execute_result"
    }
   ],
   "source": [
    "neg_pattern"
   ]
  },
  {
   "cell_type": "code",
   "execution_count": null,
   "metadata": {},
   "outputs": [],
   "source": [
    "def drop_card_repayments(df):\n",
    "    \"\"\"Drop card repayment transactions from current accounts.\"\"\"\n",
    "    tags = [\"credit card repayment\", \"credit card payment\", \"credit card\"]\n",
    "    pattern = \"|\".join(tags)\n",
    "    mask = df.auto_tag.str.contains(pattern) & df.account_type.eq(\"current\")\n",
    "    return df[~mask]"
   ]
  },
  {
   "cell_type": "markdown",
   "metadata": {
    "tags": []
   },
   "source": [
    "## Sources\n",
    "\n",
    "- [Python string documentation](https://docs.python.org/3/library/string.html#string-formatting)\n",
    "- [Pyformat](https://pyformat.info)\n",
    "- [Fluent Python](https://www.oreilly.com/library/view/fluent-python/9781491946237/)\n",
    "- [Python Cookbook](https://www.oreilly.com/library/view/python-cookbook-3rd/9781449357337/)\n",
    "- [Learning Python](https://www.oreilly.com/library/view/learning-python-5th/9781449355722/)\n",
    "- [Python for Data Analysis](https://www.oreilly.com/library/view/python-for-data/9781491957653/)\n",
    "- [Python Data Science Handbook](https://www.oreilly.com/library/view/python-data-science/9781491912126/)"
   ]
  }
 ],
 "metadata": {
  "kernelspec": {
   "display_name": "blog",
   "language": "python",
   "name": "blog"
  },
  "language_info": {
   "codemirror_mode": {
    "name": "ipython",
    "version": 3
   },
   "file_extension": ".py",
   "mimetype": "text/x-python",
   "name": "python",
   "nbconvert_exporter": "python",
   "pygments_lexer": "ipython3",
   "version": "3.9.9"
  }
 },
 "nbformat": 4,
 "nbformat_minor": 4
}
