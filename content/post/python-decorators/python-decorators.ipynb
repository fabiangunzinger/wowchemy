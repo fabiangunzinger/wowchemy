{
 "cells": [
  {
   "cell_type": "markdown",
   "metadata": {},
   "source": [
    "My notes on decorator functions (I don't use classes enough to worry about class decorators)."
   ]
  },
  {
   "cell_type": "markdown",
   "metadata": {
    "tags": []
   },
   "source": [
    "## Intro\n",
    "\n",
    "- Decorators are functions designed to wrap other functions to enhance their capability at runtime.\n",
    "- They do this by replacing the wrapped function with the return value of the decorator.\n",
    "- They work as syntactic sugar for `decorated = decorator(decorated)`.\n",
    "- Decorators are run when the decorated function is defined, not when it is run (i.e. they run at *import time*, not *runtime*)."
   ]
  },
  {
   "cell_type": "markdown",
   "metadata": {},
   "source": [
    "## Basic mechanics"
   ]
  },
  {
   "cell_type": "code",
   "execution_count": 1,
   "metadata": {},
   "outputs": [
    {
     "name": "stdout",
     "output_type": "stream",
     "text": [
      "Running decorator\n"
     ]
    },
    {
     "data": {
      "text/plain": [
       "'Hello'"
      ]
     },
     "execution_count": 1,
     "metadata": {},
     "output_type": "execute_result"
    }
   ],
   "source": [
    "def decorator(func):\n",
    "    print(\"Running decorator\")\n",
    "    return func\n",
    "\n",
    "\n",
    "@decorator\n",
    "def greeter():\n",
    "    return \"Hello\"\n",
    "\n",
    "\n",
    "greeter()"
   ]
  },
  {
   "cell_type": "markdown",
   "metadata": {},
   "source": [
    "The above is equivalent to:"
   ]
  },
  {
   "cell_type": "code",
   "execution_count": 2,
   "metadata": {},
   "outputs": [
    {
     "name": "stdout",
     "output_type": "stream",
     "text": [
      "Running decorator\n"
     ]
    },
    {
     "data": {
      "text/plain": [
       "'Hello'"
      ]
     },
     "execution_count": 2,
     "metadata": {},
     "output_type": "execute_result"
    }
   ],
   "source": [
    "greeter = decorator(greeter)\n",
    "greeter()"
   ]
  },
  {
   "cell_type": "markdown",
   "metadata": {},
   "source": [
    "A decorator simply replaces the value of the function it wraps with the decorator's return value, which can, in principle, be anything."
   ]
  },
  {
   "cell_type": "code",
   "execution_count": 6,
   "metadata": {},
   "outputs": [
    {
     "data": {
      "text/plain": [
       "'Decorator return value'"
      ]
     },
     "execution_count": 6,
     "metadata": {},
     "output_type": "execute_result"
    }
   ],
   "source": [
    "def decorator(func):\n",
    "    return \"Decorator return value\"\n",
    "\n",
    "\n",
    "@decorator\n",
    "def f():\n",
    "    return \"Function return value\"\n",
    "\n",
    "\n",
    "f"
   ]
  },
  {
   "cell_type": "markdown",
   "metadata": {},
   "source": [
    "## Registration decorators\n",
    "\n",
    "The simplest kind of decorator performs some kind of action and returns the function itself."
   ]
  },
  {
   "cell_type": "code",
   "execution_count": 7,
   "metadata": {},
   "outputs": [
    {
     "data": {
      "text/plain": [
       "['greeter']"
      ]
     },
     "execution_count": 7,
     "metadata": {},
     "output_type": "execute_result"
    }
   ],
   "source": [
    "registry = []\n",
    "\n",
    "\n",
    "def register(func):\n",
    "    registry.append(func.__name__)\n",
    "    return func\n",
    "\n",
    "\n",
    "@register\n",
    "def greeter():\n",
    "    print(\"Hello\")\n",
    "\n",
    "\n",
    "registry"
   ]
  },
  {
   "cell_type": "markdown",
   "metadata": {},
   "source": [
    "Notes:\n",
    "\n",
    "- `greeter = register(greeter)` assigns `greeter` to itself, as that's what's returned by `register`."
   ]
  },
  {
   "cell_type": "markdown",
   "metadata": {},
   "source": [
    "## Decorators that return a different function"
   ]
  },
  {
   "cell_type": "code",
   "execution_count": 13,
   "metadata": {},
   "outputs": [
    {
     "name": "stdout",
     "output_type": "stream",
     "text": [
      "[0.000000s] factorial(1) -> 1\n",
      "[0.000353s] factorial(2) -> 2\n",
      "[0.000719s] factorial(3) -> 6\n"
     ]
    },
    {
     "data": {
      "text/plain": [
       "6"
      ]
     },
     "execution_count": 13,
     "metadata": {},
     "output_type": "execute_result"
    }
   ],
   "source": [
    "import time\n",
    "\n",
    "\n",
    "def timer(func):\n",
    "    def wrapper(*args):\n",
    "        start = time.time()\n",
    "        result = func(*args)\n",
    "        elapsed = time.time() - start\n",
    "        name = func.__name__\n",
    "        arg_str = \", \".join(repr(arg) for arg in args)\n",
    "        print(f\"[{elapsed:.6f}s] {name}({arg_str}) -> {result}\")\n",
    "        return result\n",
    "\n",
    "    return wrapper\n",
    "\n",
    "\n",
    "@timer\n",
    "def factorial(n):\n",
    "    return 1 if n < 2 else n * factorial(n - 1)\n",
    "\n",
    "\n",
    "factorial(3)"
   ]
  },
  {
   "cell_type": "markdown",
   "metadata": {},
   "source": [
    "### Q&A: "
   ]
  },
  {
   "cell_type": "markdown",
   "metadata": {},
   "source": [
    "- What's `functools.wraps()` about? It ensures that function metainformation is correctly handeled. For instance, that `factorial.__name__` returns *'factorial'*. Without wraps, it would return *'wrapper'*."
   ]
  },
  {
   "cell_type": "markdown",
   "metadata": {},
   "source": [
    "- How does this work? By running `factorial = timer(factorial)`, the decorator assigns `factorial` to `wrapper`. Thus, when we call `factorial` we really call `wrapper`, which returns the same result `factorial` would have, but also performs the extra functionality. We can check the name attribute of factorial to confirm this; the decorated `factorial` function points to `wrapper`, no longer to `factorial`. (In practice, we should decorate the wrapper function with `functools.wraps(func)` to ensure that function meta information is passed through, so that `factorial.__name__` would return *'factorial'*.)"
   ]
  },
  {
   "cell_type": "code",
   "execution_count": 14,
   "metadata": {},
   "outputs": [
    {
     "data": {
      "text/plain": [
       "'wrapper'"
      ]
     },
     "execution_count": 14,
     "metadata": {},
     "output_type": "execute_result"
    }
   ],
   "source": [
    "factorial.__name__"
   ]
  },
  {
   "cell_type": "markdown",
   "metadata": {},
   "source": [
    "- How does `wrapper` have access to `func` without taking it as an argument? `func` is a variable of the local scope of the `timer` function, which makes `wrapper` a closure: a function with access to variables that are neither global nor defined in its function body (my notes on [closures](https://fabiangunzinger.github.io/blog/python/2020/10/05/python-functions.html#Closures)). The below confirms this."
   ]
  },
  {
   "cell_type": "code",
   "execution_count": 15,
   "metadata": {},
   "outputs": [
    {
     "data": {
      "text/plain": [
       "<function __main__.factorial(n)>"
      ]
     },
     "execution_count": 15,
     "metadata": {},
     "output_type": "execute_result"
    }
   ],
   "source": [
    "factorial.__closure__[0].cell_contents"
   ]
  },
  {
   "cell_type": "markdown",
   "metadata": {},
   "source": [
    "- Where does `wrapper` get the arguments from `factorial` from? The short answer is: the arguments are passed directly to it when we call the decorated `factorial` function. This follows directly from the answer to the first question above: once `factorial` is decorated, calling it actually calls `wrapper`."
   ]
  },
  {
   "cell_type": "markdown",
   "metadata": {},
   "source": [
    "- Why don't we pass the function arguments as arguments to `timer` (i.e. why isn't it `timer(func, *args)`? Because all timer does is replace `factorial` with `wrapper`, which then gets called as `wrapper(*args)`. So, `timer` has no use for arguments."
   ]
  },
  {
   "cell_type": "markdown",
   "metadata": {},
   "source": [
    "\n",
    "\n",
    "## Decorators with state"
   ]
  },
  {
   "cell_type": "code",
   "execution_count": 16,
   "metadata": {},
   "outputs": [
    {
     "name": "stdout",
     "output_type": "stream",
     "text": [
      "Call #1 of greeter\n",
      "Hello\n",
      "Call #2 of greeter\n",
      "Hello\n",
      "Call #1 of singer\n",
      "lalala\n",
      "Call #1 of congratulator\n",
      "Congratulations!\n"
     ]
    }
   ],
   "source": [
    "def logger(func):\n",
    "    calls = 0\n",
    "\n",
    "    def wrapper(*args, **kwargs):\n",
    "        nonlocal calls\n",
    "        calls += 1\n",
    "        print(f\"Call #{calls} of {func.__name__}\")\n",
    "        return func(*args, **kwargs)\n",
    "\n",
    "    return wrapper\n",
    "\n",
    "\n",
    "@logger\n",
    "def greeter():\n",
    "    print(\"Hello\")\n",
    "\n",
    "\n",
    "@logger\n",
    "def singer():\n",
    "    print(\"lalala\")\n",
    "\n",
    "\n",
    "@logger\n",
    "def congratulator():\n",
    "    print(\"Congratulations!\")\n",
    "\n",
    "\n",
    "greeter()\n",
    "greeter()\n",
    "singer()\n",
    "congratulator()"
   ]
  },
  {
   "cell_type": "markdown",
   "metadata": {},
   "source": [
    "## Decorator with arguments"
   ]
  },
  {
   "cell_type": "markdown",
   "metadata": {},
   "source": [
    "Now I want the ability to deactivate the logger for certain functions. So I wrap the decorator in a decorator factory, like so:"
   ]
  },
  {
   "cell_type": "code",
   "execution_count": 19,
   "metadata": {},
   "outputs": [
    {
     "name": "stdout",
     "output_type": "stream",
     "text": [
      "Call #1 of greeter\n",
      "Hello\n",
      "Call #2 of greeter\n",
      "Hello\n",
      "Call #1 of singer\n",
      "lalala\n",
      "Congratulations!\n"
     ]
    }
   ],
   "source": [
    "def param_logger(active=True):\n",
    "    def decorator(func):\n",
    "        calls = 0\n",
    "\n",
    "        def wrapper(*args, **kwargs):\n",
    "            nonlocal calls\n",
    "            if active:\n",
    "                calls += 1\n",
    "                print(f\"Call #{calls} of {func.__name__}\")\n",
    "            return func(*args, **kwargs)\n",
    "\n",
    "        return wrapper\n",
    "\n",
    "    return decorator\n",
    "\n",
    "\n",
    "@param_logger()\n",
    "def greeter():\n",
    "    print(\"Hello\")\n",
    "\n",
    "\n",
    "@param_logger(active=True)\n",
    "def singer():\n",
    "    print(\"lalala\")\n",
    "\n",
    "\n",
    "@param_logger(active=False)\n",
    "def congratulator():\n",
    "    print(\"Congratulations!\")\n",
    "\n",
    "\n",
    "greeter()\n",
    "greeter()\n",
    "singer()\n",
    "congratulator()"
   ]
  },
  {
   "cell_type": "markdown",
   "metadata": {},
   "source": [
    "===== work in progress =====\n",
    "\n",
    "How does this work? I'm not completely confident, actually, but this is how I explain it to myself.\n",
    "\n",
    "How I think this works (not sure about this):\n",
    "\n",
    "1. temp = param_logger(), returns `decorator` with access to nonlocal `active` argument.\n",
    "2. Because we add () to decorator, `decorator` is immediately called and returns wrapper, which is also assigned to `temp`, i.e. `temp = decorator(func) = wrapper(*args, **kwargs)`.\n",
    "\n",
    "In our initial logger function above, both the argument to the outer function  (*func*) and the variable defined inside the outer function (*calls*) are free variables of the closure function wrapper, meaning that wrapper has access to them even though they are not bound inside wrapper.\n",
    "\n",
    "===== work in progress =====\n",
    " "
   ]
  },
  {
   "cell_type": "markdown",
   "metadata": {},
   "source": [
    "If we remember that "
   ]
  },
  {
   "cell_type": "code",
   "execution_count": 33,
   "metadata": {},
   "outputs": [],
   "source": [
    "@logger\n",
    "def greeter():\n",
    "    print(\"Hello\")"
   ]
  },
  {
   "cell_type": "markdown",
   "metadata": {},
   "source": [
    "is equivalent to"
   ]
  },
  {
   "cell_type": "code",
   "execution_count": 34,
   "metadata": {},
   "outputs": [],
   "source": [
    "greeter = logger(greeter)"
   ]
  },
  {
   "cell_type": "markdown",
   "metadata": {},
   "source": [
    "and if we know that we can use `__code__.co_freevars` to get the free variables of a function, then it follows that we can get a view of the free variables of the decorated greeter function like so:"
   ]
  },
  {
   "cell_type": "code",
   "execution_count": 35,
   "metadata": {},
   "outputs": [
    {
     "data": {
      "text/plain": [
       "('calls', 'func')"
      ]
     },
     "execution_count": 35,
     "metadata": {},
     "output_type": "execute_result"
    }
   ],
   "source": [
    "logger(greeter).__code__.co_freevars"
   ]
  },
  {
   "cell_type": "markdown",
   "metadata": {},
   "source": [
    "This is as expected. Now, what are the free variables of param_logger?"
   ]
  },
  {
   "cell_type": "code",
   "execution_count": 36,
   "metadata": {},
   "outputs": [
    {
     "data": {
      "text/plain": [
       "('active',)"
      ]
     },
     "execution_count": 36,
     "metadata": {},
     "output_type": "execute_result"
    }
   ],
   "source": [
    "param_logger().__code__.co_freevars"
   ]
  },
  {
   "cell_type": "markdown",
   "metadata": {},
   "source": [
    "This makes sense: *active* is the function argument and we do not define any additional variables inside the scope of param_logger, so given our result above, this is what we would expect.\n",
    "\n",
    "But param_logger is a decorator factory and not a decorator, which means it produces a decorator at the time of decoration. So, what are the free variables of the decorator it produces?\n",
    "\n",
    "Similar to above, remembering that"
   ]
  },
  {
   "cell_type": "code",
   "execution_count": 37,
   "metadata": {},
   "outputs": [],
   "source": [
    "@param_logger\n",
    "def greeter():\n",
    "    print(\"Hello\")"
   ]
  },
  {
   "cell_type": "markdown",
   "metadata": {},
   "source": [
    "is equivalent to"
   ]
  },
  {
   "cell_type": "code",
   "execution_count": 38,
   "metadata": {},
   "outputs": [],
   "source": [
    "greeter = param_logger()(greeter)"
   ]
  },
  {
   "cell_type": "markdown",
   "metadata": {},
   "source": [
    "we can inspect the decorated greeter function's free variables like so:"
   ]
  },
  {
   "cell_type": "code",
   "execution_count": 39,
   "metadata": {},
   "outputs": [
    {
     "data": {
      "text/plain": [
       "('active', 'calls', 'func')"
      ]
     },
     "execution_count": 39,
     "metadata": {},
     "output_type": "execute_result"
    }
   ],
   "source": [
    "param_logger()(greeter).__code__.co_freevars"
   ]
  },
  {
   "cell_type": "markdown",
   "metadata": {},
   "source": [
    "We can see that active is now an additional free variable that our wrapper function has access to, which provides us with the answer to our question: decorator factories work by producing decorators at decoration time and passing on the specified keyword to the decorated function."
   ]
  },
  {
   "cell_type": "markdown",
   "metadata": {},
   "source": [
    "## Decorator factory beautifying"
   ]
  },
  {
   "cell_type": "markdown",
   "metadata": {},
   "source": [
    "A final point for those into aesthetics or coding consistency: we can tweak our decorator factory so that we can ommit the `()` if we pass no keyword arguments."
   ]
  },
  {
   "cell_type": "code",
   "execution_count": 21,
   "metadata": {},
   "outputs": [
    {
     "name": "stdout",
     "output_type": "stream",
     "text": [
      "Call #1 of greeter\n",
      "Hello\n",
      "Call #2 of greeter\n",
      "Hello\n",
      "Call #1 of babler\n",
      "bablebalbe\n",
      "Call #1 of singer\n",
      "lalala\n",
      "Congratulations!\n"
     ]
    }
   ],
   "source": [
    "def logger(func=None, active=True):\n",
    "    def decorator(func):\n",
    "        calls = 0\n",
    "\n",
    "        def wrapper(*args, **kwargs):\n",
    "            nonlocal calls\n",
    "            if active:\n",
    "                calls += 1\n",
    "                print(f\"Call #{calls} of {func.__name__}\")\n",
    "            return func(*args, **kwargs)\n",
    "\n",
    "        return wrapper\n",
    "\n",
    "    return decorator(func) if func else decorator\n",
    "\n",
    "\n",
    "@logger\n",
    "def greeter():\n",
    "    print(\"Hello\")\n",
    "\n",
    "\n",
    "@logger()\n",
    "def babler():\n",
    "    print(\"bablebalbe\")\n",
    "\n",
    "\n",
    "@logger(active=True)\n",
    "def singer():\n",
    "    print(\"lalala\")\n",
    "\n",
    "\n",
    "@logger(active=False)\n",
    "def congratulator():\n",
    "    print(\"Congratulations!\")\n",
    "\n",
    "\n",
    "greeter()\n",
    "greeter()\n",
    "babler()\n",
    "singer()\n",
    "congratulator()"
   ]
  },
  {
   "cell_type": "markdown",
   "metadata": {},
   "source": [
    "To understand what happens here, remember that decorating *func* with a decorator is equivalent to"
   ]
  },
  {
   "cell_type": "code",
   "execution_count": null,
   "metadata": {},
   "outputs": [],
   "source": [
    "func = decorator(func)"
   ]
  },
  {
   "cell_type": "markdown",
   "metadata": {},
   "source": [
    "While decorating it with a decorator factory is equivalent to"
   ]
  },
  {
   "cell_type": "code",
   "execution_count": null,
   "metadata": {},
   "outputs": [],
   "source": [
    "func = decorator()(func)"
   ]
  },
  {
   "cell_type": "markdown",
   "metadata": {},
   "source": [
    "The control flow in the final return statement of the above decorator factory simply switches between these two cases: if logger gets a function argument, then that's akin to the first scenario, where the func argument is passed into decorator directly, and so the decorator factory returns *decorator(func)* to mimic this behaviour. If *func* is not passed, then we're in the standard decorator factory scenario above, and we simply return the decorator uncalled, just as any plain decorator factory would. "
   ]
  },
  {
   "cell_type": "markdown",
   "metadata": {},
   "source": [
    "Recipe 9.6 in the [Python Cookbook](https://www.oreilly.com/library/view/python-cookbook-3rd/9781449357337/) discusses a neat solution to the above for a registration decorator using functools.partial(), which I haven't managed to adapt to a scenario with a decorator factory. Might give it another go later."
   ]
  },
  {
   "cell_type": "markdown",
   "metadata": {},
   "source": [
    "## Mistakes I often make"
   ]
  },
  {
   "cell_type": "markdown",
   "metadata": {},
   "source": [
    "I often do the below:"
   ]
  },
  {
   "cell_type": "code",
   "execution_count": 8,
   "metadata": {},
   "outputs": [
    {
     "ename": "AttributeError",
     "evalue": "'str' object has no attribute '__module__'",
     "output_type": "error",
     "traceback": [
      "\u001b[0;31m---------------------------------------------------------------------------\u001b[0m",
      "\u001b[0;31mAttributeError\u001b[0m                            Traceback (most recent call last)",
      "\u001b[0;32m<ipython-input-8-d69c0930e7ac>\u001b[0m in \u001b[0;36m<module>\u001b[0;34m\u001b[0m\n\u001b[1;32m     12\u001b[0m     \u001b[0;32mreturn\u001b[0m \u001b[0;34mf'Hello {name}'\u001b[0m\u001b[0;34m\u001b[0m\u001b[0;34m\u001b[0m\u001b[0m\n\u001b[1;32m     13\u001b[0m \u001b[0;34m\u001b[0m\u001b[0m\n\u001b[0;32m---> 14\u001b[0;31m \u001b[0mgreeter\u001b[0m\u001b[0;34m(\u001b[0m\u001b[0;34m'World'\u001b[0m\u001b[0;34m)\u001b[0m\u001b[0;34m\u001b[0m\u001b[0;34m\u001b[0m\u001b[0m\n\u001b[0m",
      "\u001b[0;32m~/miniconda3/envs/habits/lib/python3.7/functools.py\u001b[0m in \u001b[0;36mupdate_wrapper\u001b[0;34m(wrapper, wrapped, assigned, updated)\u001b[0m\n\u001b[1;32m     56\u001b[0m             \u001b[0;32mpass\u001b[0m\u001b[0;34m\u001b[0m\u001b[0;34m\u001b[0m\u001b[0m\n\u001b[1;32m     57\u001b[0m         \u001b[0;32melse\u001b[0m\u001b[0;34m:\u001b[0m\u001b[0;34m\u001b[0m\u001b[0;34m\u001b[0m\u001b[0m\n\u001b[0;32m---> 58\u001b[0;31m             \u001b[0msetattr\u001b[0m\u001b[0;34m(\u001b[0m\u001b[0mwrapper\u001b[0m\u001b[0;34m,\u001b[0m \u001b[0mattr\u001b[0m\u001b[0;34m,\u001b[0m \u001b[0mvalue\u001b[0m\u001b[0;34m)\u001b[0m\u001b[0;34m\u001b[0m\u001b[0;34m\u001b[0m\u001b[0m\n\u001b[0m\u001b[1;32m     59\u001b[0m     \u001b[0;32mfor\u001b[0m \u001b[0mattr\u001b[0m \u001b[0;32min\u001b[0m \u001b[0mupdated\u001b[0m\u001b[0;34m:\u001b[0m\u001b[0;34m\u001b[0m\u001b[0;34m\u001b[0m\u001b[0m\n\u001b[1;32m     60\u001b[0m         \u001b[0mgetattr\u001b[0m\u001b[0;34m(\u001b[0m\u001b[0mwrapper\u001b[0m\u001b[0;34m,\u001b[0m \u001b[0mattr\u001b[0m\u001b[0;34m)\u001b[0m\u001b[0;34m.\u001b[0m\u001b[0mupdate\u001b[0m\u001b[0;34m(\u001b[0m\u001b[0mgetattr\u001b[0m\u001b[0;34m(\u001b[0m\u001b[0mwrapped\u001b[0m\u001b[0;34m,\u001b[0m \u001b[0mattr\u001b[0m\u001b[0;34m,\u001b[0m \u001b[0;34m{\u001b[0m\u001b[0;34m}\u001b[0m\u001b[0;34m)\u001b[0m\u001b[0;34m)\u001b[0m\u001b[0;34m\u001b[0m\u001b[0;34m\u001b[0m\u001b[0m\n",
      "\u001b[0;31mAttributeError\u001b[0m: 'str' object has no attribute '__module__'"
     ]
    }
   ],
   "source": [
    "from functools import wraps\n",
    "\n",
    "\n",
    "def decorator(func):\n",
    "    @wraps\n",
    "    def wrapper(*args, **kwargs):\n",
    "        print(\"Func is called:\", func.__name__)\n",
    "        return func(*args, **kwargs)\n",
    "\n",
    "    return wrapper\n",
    "\n",
    "\n",
    "@decorator\n",
    "def greeter(name):\n",
    "    return f\"Hello {name}\"\n",
    "\n",
    "\n",
    "greeter(\"World\")"
   ]
  },
  {
   "cell_type": "markdown",
   "metadata": {},
   "source": [
    "What's wrong, there? `@wraps` should be `@wraps(func)`."
   ]
  },
  {
   "cell_type": "code",
   "execution_count": 9,
   "metadata": {},
   "outputs": [
    {
     "name": "stdout",
     "output_type": "stream",
     "text": [
      "Func is called: greeter\n"
     ]
    },
    {
     "data": {
      "text/plain": [
       "'Hello World'"
      ]
     },
     "execution_count": 9,
     "metadata": {},
     "output_type": "execute_result"
    }
   ],
   "source": [
    "from functools import wraps\n",
    "\n",
    "\n",
    "def decorator(func):\n",
    "    @wraps(func)\n",
    "    def wrapper(*args, **kwargs):\n",
    "        print(\"Func is called:\", func.__name__)\n",
    "        return func(*args, **kwargs)\n",
    "\n",
    "    return wrapper\n",
    "\n",
    "\n",
    "@decorator\n",
    "def greeter(name):\n",
    "    return f\"Hello {name}\"\n",
    "\n",
    "\n",
    "greeter(\"World\")"
   ]
  },
  {
   "cell_type": "markdown",
   "metadata": {},
   "source": [
    "## Applications"
   ]
  },
  {
   "cell_type": "markdown",
   "metadata": {},
   "source": [
    "Reverse function arguments"
   ]
  },
  {
   "cell_type": "code",
   "execution_count": null,
   "metadata": {},
   "outputs": [],
   "source": [
    "from functools import wraps\n",
    "\n",
    "\n",
    "def reversed_arguments(f):\n",
    "    @wraps(f)\n",
    "    def wrapper(*args):\n",
    "        return f(*args[::-1])\n",
    "\n",
    "    return wrapper\n",
    "\n",
    "\n",
    "def power(a, b):\n",
    "    return a ** b\n",
    "\n",
    "\n",
    "new_power = reversed_arguments(power)\n",
    "new_power(2, 3)"
   ]
  },
  {
   "cell_type": "markdown",
   "metadata": {},
   "source": [
    "Pass kwargs to decorator and make factory return function result "
   ]
  },
  {
   "cell_type": "code",
   "execution_count": 39,
   "metadata": {},
   "outputs": [
    {
     "name": "stdout",
     "output_type": "stream",
     "text": [
      "THIS IS VERY COOL!\n"
     ]
    }
   ],
   "source": [
    "funcs = []\n",
    "\n",
    "\n",
    "def factory(**kwargs):\n",
    "    def adder(func):\n",
    "        funcs.append(func(**kwargs))\n",
    "        return func\n",
    "\n",
    "    return adder\n",
    "\n",
    "\n",
    "@factory(text=\"This is very cool!\")\n",
    "def shout(text=\"Hello\"):\n",
    "    print(text.upper())\n",
    "\n",
    "\n",
    "for f in funcs:\n",
    "    f"
   ]
  },
  {
   "cell_type": "markdown",
   "metadata": {},
   "source": [
    "Create tuple and supply kwargs upon function call in make_data.py"
   ]
  },
  {
   "cell_type": "code",
   "execution_count": 49,
   "metadata": {},
   "outputs": [
    {
     "name": "stdout",
     "output_type": "stream",
     "text": [
      "HA@\n"
     ]
    }
   ],
   "source": [
    "from collections import namedtuple\n",
    "\n",
    "FunctionWithKwargs = namedtuple(\"FunctionWithKwargs\", [\"func\", \"kwargs\"])\n",
    "\n",
    "funcs = []\n",
    "\n",
    "\n",
    "def factory(func=None, **kwargs):\n",
    "    def adder(func):\n",
    "        funcs.append(FunctionWithKwargs(func, kwargs))\n",
    "        return func\n",
    "\n",
    "    return adder(func) if func else adder\n",
    "\n",
    "\n",
    "@factory(text=\"Ha\", mark=\"@\")\n",
    "def shout(text=\"Hello\", mark=\"!\"):\n",
    "    print(text.upper() + mark)\n",
    "\n",
    "\n",
    "for f in funcs:\n",
    "    f.func(**f.kwargs)"
   ]
  },
  {
   "cell_type": "markdown",
   "metadata": {},
   "source": [
    "Can I just alter the parametrisation of func inside the factory based on the kwargs and then return the newly parametrised function without having to call it?"
   ]
  },
  {
   "cell_type": "markdown",
   "metadata": {
    "tags": []
   },
   "source": [
    "## Main sources\n",
    "\n",
    "- [Fluent Python](https://www.oreilly.com/library/view/fluent-python/9781491946237/)\n",
    "- [Python Cookbook](https://www.oreilly.com/library/view/python-cookbook-3rd/9781449357337/)\n",
    "- [Python Essential Reference](https://www.oreilly.com/library/view/python-essential-reference/9780768687040/)\n",
    "- [Learning Python](https://www.oreilly.com/library/view/learning-python-5th/9781449355722/)"
   ]
  }
 ],
 "metadata": {
  "kernelspec": {
   "display_name": "limo",
   "language": "python",
   "name": "limo"
  },
  "language_info": {
   "codemirror_mode": {
    "name": "ipython",
    "version": 3
   },
   "file_extension": ".py",
   "mimetype": "text/x-python",
   "name": "python",
   "nbconvert_exporter": "python",
   "pygments_lexer": "ipython3",
   "version": "3.9.9"
  }
 },
 "nbformat": 4,
 "nbformat_minor": 4
}
