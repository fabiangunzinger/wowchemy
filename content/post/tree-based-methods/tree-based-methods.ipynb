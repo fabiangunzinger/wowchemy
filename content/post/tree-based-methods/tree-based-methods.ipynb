{
 "cells": [
  {
   "cell_type": "markdown",
   "metadata": {},
   "source": [
    "# Tree based methods\n",
    "\n",
    "- hide: true\n",
    "- toc: true\n",
    "- comments: true\n",
    "- categories: [python, ml, stats]"
   ]
  },
  {
   "cell_type": "markdown",
   "metadata": {},
   "source": [
    "* Trees\n",
    "    * Are an easy and intuitive way to split data within a sample. ",
    "\n",
    "    * Problem, they are not good at predicting out-of-sample (with different datasets) ",
    " ",
    "\n",
    "* Random Forests ",
    "\n",
    "    * Random forests remedy this by combining the simplicity of decision trees with flexibility, which leads to a large improvement in predictive accuracy. ",
    "\n",
    "    * How to make a random forest: ",
    "\n",
    "        * Create bootstrapped sample from data (i.e. sample observations of the original sample with replacement) ",
    "\n",
    "        * Create a decision tree using only a subset of randomly selected variables at each step (e.g. only 2 out of 4 for root, then 2 out of remaining 3 at next node, ect.) ",
    "\n",
    "        * Repeat above two steps many times (e.g. 1000) to build many trees (and build a random forest) ",
    "\n",
    "    * To predict outcome for new observation, do the following: ",
    "\n",
    "        * Feed data into each tree in the forest and keep score of the predictions (either Yes or No for each tree). The outcome with the most scores is the prediction. ",
    "\n",
    "    * The process is called “Bagging” because we Bootstrap the data and rely on the AGGregate to make a decision. ",
    "\n",
    "    * How can we test how good a tree is at out-of sample prediction without having another sample? ",
    "\n",
    "        * Bootstrapping relies on randomly sampling from data with replacement, hence, not all observations will be used to create a tree. ",
    "\n",
    "        * The unused observations are called the “Out-of-bag Dataset”. We can use these test whether our Forest is any good at predicting. ",
    "\n",
    "        * We simply take the out-of-bag dataset from each tree, run through the entire Forest and check whether the Forest accurately classifies the observation. We then repeat this for each out-of-bag dataset. ",
    "\n",
    "        * The proportion of incorrectly classified out-of-bag samples is called the “out-of-bag error”. ",
    "\n",
    "    * The out-of-bag error is what helps us determine how many variables to use when building our random trees above. The algorithm builds different forests with different numbers of variables (typically starting with the square-root of the total number of variables – e.g. 2 if we have 4 variables – and then calculating a few above and below that) and then picks the one with the smallest out-of-bag error.  ",
    "\n",
    "\n",
    "* Ada boosts ",
    "\n",
    "    * When building random forests, trees vary in their depth. ",
    "\n",
    "    * When using Ada boost to create a Random Forest, each tree is usually just one node and two leaves. (A tree with one node and two leaves is a “stump”). So, Ada boost produces a Forest of Stumps. ",
    "\n",
    "    * Because a stump only makes use of a single variable, they are generally poor predictors. ",
    "\n",
    "    * Main ideas of ada boost ",
    "\n",
    "        * Take Forest of Stumps ",
    "\n",
    "        * Stumps have different weights (mounts of say) in the calculation of the out-of-bag error (with the weights being proportional to the gravity of the prediction errors they make. Loosely speaking, for how many observations they get the prediction wrong).  ",
    "\n",
    "        * Each stump takes the errors of the previous stump into account (it does this by treating as more important those observations that the previous stump misclassified).  ",
    "\n",
    "    * Process ",
    "\n",
    "        * Create first Stump using the variable that best classifies outcomes ",
    "\n",
    "        * Then calculate classification error ",
    "\n",
    "        * The size of that error determines the weight this stump gets in the overall classification (i.e. in the Forest of Stumps). ",
    "\n",
    "        * The next stump will be build using the variable that best classifies outcomes in a dataset that over-emphasizes the observations that the previous stump misclassified. ",
    "\n",
    "        * As in a Random Forst, we run all obseravtions through all Stumps and keep track of the classification. Instead of adding up the Yes and No, we add up the amount of say of the Yes Stumps and No Stumps and classify as Yes if total amount of say of yes Stumps is larger. ",
    "\n",
    "\n",
    "* Gradient boosting (most used configuration) ",
    "\n",
    "    * Comparison to Ada boost ",
    "\n",
    "        * Like Ada boost builds fixed size trees, but they can be larger than a Stump (in our specification, we use trees with a depth of 5) ",
    "\n",
    "        * GB also scales trees, but all by same amount ",
    "\n",
    "        * Also builds tree based on error of previous tree ",
    "\n",
    "    * Algorithm ",
    "\n",
    "        * Predict based on average and calculate (pseudo residuals) ",
    "\n",
    "        * Then build a tree to predict residuals ",
    "\n",
    "        * Scale predicted residual by the learning rate (we use 0.1) and add to original prediction. ",
    "\n",
    "        * Calculate new pseudo residuals and build new tree to predict. ",
    "\n",
    "        * Add scaled predictions to the previous prediction (i.e. to the original prediction and the previous scaled prediction). ",
    "\n",
    "        * Keep going like this until additional trees no longer improve prediction or hit number of max trees. ",
    "\n",
    "\n",
    "* Initial prediction is log of odds: log(number in HE/number not in HE) and convert to a probability using the logistic function (e^logodds / 1 + e^logodds). If probability > 0.5, prediction is “Yes” for all observations. Else is no ",
    "\n",
    "* Calculate pseudo residuals as actual - predicted (e.g. 1 - 0.7) ",
    "\n",
    "* Build tree to predict residuals"
   ]
  },
  {
   "cell_type": "markdown",
   "metadata": {},
   "source": [
    "## Sources\n",
    "\n",
    "- [Brilliant series of videos on StatQuest](https://www.youtube.com/c/joshstarmer)"
   ]
  }
 ],
 "metadata": {
  "kernelspec": {
   "display_name": "habits",
   "language": "python",
   "name": "habits"
  },
  "language_info": {
   "codemirror_mode": {
    "name": "ipython",
    "version": 3
   },
   "file_extension": ".py",
   "mimetype": "text/x-python",
   "name": "python",
   "nbconvert_exporter": "python",
   "pygments_lexer": "ipython3",
   "version": "3.9.2"
  }
 },
 "nbformat": 4,
 "nbformat_minor": 4
}
