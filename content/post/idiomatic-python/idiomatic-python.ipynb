{
 "cells": [
  {
   "cell_type": "markdown",
   "id": "e0063a05-ee7b-4077-814d-a209f7c9b454",
   "metadata": {},
   "source": [
    "## EAFP > LBYL"
   ]
  },
  {
   "cell_type": "markdown",
   "id": "3e88e83b-acb1-40ea-a6f1-abf131fd81fd",
   "metadata": {},
   "source": [
    "Just try to do what you expect to work and handle exceptions later if they occurr - \"it’s easier to ask for forgiveness than permission\" (EAFP) rather than \"look before you leap\" (LBYL)."
   ]
  },
  {
   "cell_type": "code",
   "execution_count": 3,
   "id": "6d7650a6-d853-42b3-8955-026f747bc030",
   "metadata": {},
   "outputs": [],
   "source": [
    "def dont(m, n):\n",
    "    if n == 0:\n",
    "        print(\"Can't divide by 0\")\n",
    "        return None\n",
    "    return m / n\n",
    "\n",
    "\n",
    "def do(m, n):\n",
    "    try:\n",
    "        return m / n\n",
    "    except ZeroDivisionError:\n",
    "        print(\"Can't divide by 0\")\n",
    "        return None"
   ]
  },
  {
   "cell_type": "markdown",
   "id": "77b99fed-7207-4874-9dbd-771f12777822",
   "metadata": {},
   "source": [
    "Other examples"
   ]
  },
  {
   "cell_type": "code",
   "execution_count": null,
   "id": "8e6b673e-9224-4015-8fac-3c29767561dd",
   "metadata": {},
   "outputs": [],
   "source": [
    "try:\n",
    "    dangerous_code()\n",
    "except SomeError:\n",
    "    handle_error()\n",
    "except (OneError, OtherError):\n",
    "    handle_multiple_errors()"
   ]
  },
  {
   "cell_type": "code",
   "execution_count": 4,
   "id": "ef79bc7d-7095-41cb-9f7a-148085e13abc",
   "metadata": {},
   "outputs": [],
   "source": [
    "try:\n",
    "    os.remove(\"filename\")\n",
    "except FileNotFoundError:\n",
    "    pass"
   ]
  },
  {
   "cell_type": "markdown",
   "id": "95218f83-d7f2-43d5-8363-9893a22f5972",
   "metadata": {},
   "source": [
    "## Long strings"
   ]
  },
  {
   "cell_type": "markdown",
   "id": "47607b92-07e9-4375-9ded-cd231e494a92",
   "metadata": {},
   "source": [
    "Use a separate set of parenthesis for each line and wrap them all in a set of parenthesis."
   ]
  },
  {
   "cell_type": "code",
   "execution_count": 3,
   "id": "0ad14d42-3d18-48b6-a2ff-34f08f982da4",
   "metadata": {},
   "outputs": [],
   "source": [
    "my_very_big_string = (\n",
    "    \"For a long time I used to go to bed early. Sometimes, \"\n",
    "    \"when I had put out my candle, my eyes would close so quickly \"\n",
    "    \"that I had not even time to say “I’m going to sleep.”\"\n",
    ")"
   ]
  },
  {
   "cell_type": "markdown",
   "id": "2f1d2a40-9643-4197-82f7-0b02d959f36a",
   "metadata": {},
   "source": [
    "## Generator expression instead of if-else membership testing"
   ]
  },
  {
   "cell_type": "code",
   "execution_count": 6,
   "id": "bb9c20b5-964f-4729-9a13-06978443ec9b",
   "metadata": {},
   "outputs": [],
   "source": [
    "cities = [\"Berlin\", \"New York\", \"London\"]\n",
    "text = \"Time Square is in New York\"\n",
    "\n",
    "\n",
    "def dont(cities, text):\n",
    "    for city in cities:\n",
    "        if city in text:\n",
    "            return True\n",
    "\n",
    "\n",
    "def do(cities, text):\n",
    "    return any(city in text for city in cities)"
   ]
  },
  {
   "cell_type": "markdown",
   "id": "f64b2894-0acf-4259-bf5a-3e40ab93483a",
   "metadata": {},
   "source": [
    "## Negated logical operators"
   ]
  },
  {
   "cell_type": "markdown",
   "id": "1efb3c0d-a2a5-4bf3-856f-68f23ecac490",
   "metadata": {},
   "source": [
    "Use `if x not in y` instead of `if not x in y`, since they are semantically identical but the former makes it clear that `not in` is a single operator and reads like English. (Idion from [PEP8](https://www.python.org/dev/peps/pep-0008/#programming-recommendations), rationale from Alex [Martelli](https://stackoverflow.com/a/3481700))"
   ]
  },
  {
   "cell_type": "markdown",
   "id": "12f3343d-b8e9-415c-aac1-49f57285713b",
   "metadata": {},
   "source": [
    "## Docstrings"
   ]
  },
  {
   "cell_type": "markdown",
   "id": "7fc98833-dc0f-4687-b37c-995509a788f3",
   "metadata": {},
   "source": [
    "My docstring style."
   ]
  },
  {
   "cell_type": "code",
   "execution_count": 4,
   "id": "577abc76-4d8b-4b2c-917a-131388aa51cf",
   "metadata": {},
   "outputs": [],
   "source": [
    "def function_name(*args, **kwargs):\n",
    "    \"\"\"A one-line summary in descriptive style terminated by a period.\n",
    "\n",
    "    A one line space, followed by optional additional description of what\n",
    "    the function does and what its rationale is.\n",
    "\n",
    "    Args:\n",
    "    arg1: Concise description of first argument including its type\n",
    "      and default value.\n",
    "    arg2: Same thing for all other arguments...\n",
    "\n",
    "    Returns:\n",
    "    Description of type of object is being returned and what it contains.\n",
    "    \"\"\""
   ]
  },
  {
   "cell_type": "markdown",
   "id": "495ea479-abdd-4fb0-8019-255d5e1f57d6",
   "metadata": {},
   "source": [
    "## Using argparse"
   ]
  },
  {
   "cell_type": "markdown",
   "id": "4e0d9a59-955c-4c50-b131-ae2fdff7848e",
   "metadata": {},
   "source": [
    "There are different ways to use argparse. I usually use"
   ]
  },
  {
   "cell_type": "code",
   "execution_count": 13,
   "id": "20d26b94-6c98-4e92-a3f9-c11e72d0e281",
   "metadata": {},
   "outputs": [],
   "source": [
    "def parse_args(argv):\n",
    "    parser = argparse.ArgumentParser()\n",
    "    parser.add_argument(\"path\")\n",
    "\n",
    "\n",
    "def main(path):\n",
    "    pass\n",
    "    # something using path"
   ]
  },
  {
   "cell_type": "markdown",
   "id": "f923f6bb-6c9a-4c29-bbba-211f74c302b8",
   "metadata": {},
   "source": [
    "I use this as my default approach because it's appropriately simple for my normal use case and it makes testing `main()` easy. Alternatively, I sometimes use the below (based on [this](https://www.artima.com/weblogs/viewpost.jsp?thread=4829)\n",
    "discussion)"
   ]
  },
  {
   "cell_type": "code",
   "execution_count": 7,
   "id": "167236be-1c13-4427-b305-0d1120848de0",
   "metadata": {},
   "outputs": [],
   "source": [
    "def main(argv=None):\n",
    "    if argv is None:\n",
    "        argv = sys.argv\n",
    "    args = parse_args(argv)\n",
    "    # do stuff with args"
   ]
  },
  {
   "cell_type": "markdown",
   "id": "2c68830a-6c45-40f0-a473-3838b569c36e",
   "metadata": {},
   "source": [
    "## Use `ast.literal_eval()` instead of `eval()`"
   ]
  },
  {
   "cell_type": "markdown",
   "id": "1a6edad8-7434-4fbf-be29-a1062d6e3c1c",
   "metadata": {},
   "source": [
    "Why? Basically, because `eval` is very\n",
    "[dangerous](https://nedbatchelder.com/blog/201206/eval_really_is_dangerous.html)\n",
    "and would happile evaluate a string like `os.system(rm -rf /)`, while\n",
    "`ast.literal_eval` will only evaluate Python\n",
    "[literals](https://docs.python.org/3/library/ast.html#ast.literal_eval)."
   ]
  }
 ],
 "metadata": {
  "kernelspec": {
   "display_name": "blog",
   "language": "python",
   "name": "blog"
  },
  "language_info": {
   "codemirror_mode": {
    "name": "ipython",
    "version": 3
   },
   "file_extension": ".py",
   "mimetype": "text/x-python",
   "name": "python",
   "nbconvert_exporter": "python",
   "pygments_lexer": "ipython3",
   "version": "3.9.9"
  }
 },
 "nbformat": 4,
 "nbformat_minor": 5
}
