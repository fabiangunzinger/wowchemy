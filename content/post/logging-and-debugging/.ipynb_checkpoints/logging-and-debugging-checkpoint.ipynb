{
 "cells": [
  {
   "cell_type": "markdown",
   "id": "d02fdcb2-91bf-4528-8b5e-2ef6b1cd73b2",
   "metadata": {},
   "source": [
    "Notes on tools and processes I use for logging and debugging."
   ]
  },
  {
   "cell_type": "markdown",
   "id": "dbbab4fc-da3c-42a6-b722-ab790d093845",
   "metadata": {},
   "source": [
    "## Logging"
   ]
  },
  {
   "cell_type": "markdown",
   "id": "f319330c-b192-4609-97bf-455a33aa7f14",
   "metadata": {},
   "source": [
    "A simple logging tool for pandas pipelines from [`scikit-lego`](https://scikit-lego.netlify.app/pandas_pipeline.html)."
   ]
  },
  {
   "cell_type": "markdown",
   "id": "f3bb4c5b-5bb2-4680-bfa9-5f655ee99bd9",
   "metadata": {
    "tags": []
   },
   "source": [
    "## Debugging"
   ]
  },
  {
   "cell_type": "markdown",
   "id": "0fbb005a-7df9-4af2-af15-77799741b00c",
   "metadata": {},
   "source": [
    "### [`snoop`](https://github.com/alexmojaki/snoop)"
   ]
  },
  {
   "cell_type": "code",
   "execution_count": 9,
   "id": "bd4dc415-4db6-4f1c-a2ba-112e34de8eab",
   "metadata": {},
   "outputs": [
    {
     "name": "stderr",
     "output_type": "stream",
     "text": [
      "13:09:50.81 >>> Call to factorial in File \"/var/folders/xg/n9p73cf50s52twlnz7z778vr0000gn/T/ipykernel_2405/2397467807.py\", line 4\n",
      "13:09:50.81 ...... n = 3\n",
      "13:09:50.81    4 | def factorial(n):\n",
      "13:09:50.81    5 |     return n * factorial(n - 1) if n > 1 else 1\n",
      "    13:09:50.81 >>> Call to factorial in File \"/var/folders/xg/n9p73cf50s52twlnz7z778vr0000gn/T/ipykernel_2405/2397467807.py\", line 4\n",
      "    13:09:50.81 ...... n = 2\n",
      "    13:09:50.81    4 | def factorial(n):\n",
      "    13:09:50.81    5 |     return n * factorial(n - 1) if n > 1 else 1\n",
      "        13:09:50.81 >>> Call to factorial in File \"/var/folders/xg/n9p73cf50s52twlnz7z778vr0000gn/T/ipykernel_2405/2397467807.py\", line 4\n",
      "        13:09:50.81 ...... n = 1\n",
      "        13:09:50.81    4 | def factorial(n):\n",
      "        13:09:50.81    5 |     return n * factorial(n - 1) if n > 1 else 1\n",
      "        13:09:50.81 <<< Return value from factorial: 1\n",
      "    13:09:50.81    5 |     return n * factorial(n - 1) if n > 1 else 1\n",
      "    13:09:50.81 <<< Return value from factorial: 2\n",
      "13:09:50.81    5 |     return n * factorial(n - 1) if n > 1 else 1\n",
      "13:09:50.81 <<< Return value from factorial: 6\n"
     ]
    },
    {
     "data": {
      "text/plain": [
       "6"
      ]
     },
     "execution_count": 9,
     "metadata": {},
     "output_type": "execute_result"
    }
   ],
   "source": [
    "import snoop\n",
    "\n",
    "@snoop\n",
    "def factorial(n):\n",
    "    return n * factorial(n - 1) if n > 1 else 1\n",
    "\n",
    "factorial(3)"
   ]
  }
 ],
 "metadata": {
  "kernelspec": {
   "display_name": "Python 3 (ipykernel)",
   "language": "python",
   "name": "python3"
  },
  "language_info": {
   "codemirror_mode": {
    "name": "ipython",
    "version": 3
   },
   "file_extension": ".py",
   "mimetype": "text/x-python",
   "name": "python",
   "nbconvert_exporter": "python",
   "pygments_lexer": "ipython3",
   "version": "3.9.9"
  }
 },
 "nbformat": 4,
 "nbformat_minor": 5
}
