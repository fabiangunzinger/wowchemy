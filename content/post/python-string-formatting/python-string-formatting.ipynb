{
 "cells": [
  {
   "cell_type": "markdown",
   "metadata": {},
   "source": [
    "## Formatted string literals (f-strings)"
   ]
  },
  {
   "cell_type": "markdown",
   "metadata": {},
   "source": [
    "A basic f-string consists of a combination of literal characters and replacement characters, the latter of which are placed inside braces (full grammar [here](https://docs.python.org/3/reference/lexical_analysis.html#formatted-string-literals), useful explanation of how they are parsed [here](https://mail.python.org/pipermail/python-dev/2016-November/146797.html)). \n",
    "\n",
    "The general form for the replacement field is `\"{\" expression [\"=\"] [\"!\" conversion] [\":\" format_spec] \"}\"`."
   ]
  },
  {
   "cell_type": "code",
   "execution_count": 21,
   "metadata": {},
   "outputs": [
    {
     "data": {
      "text/plain": [
       "'Hello world'"
      ]
     },
     "execution_count": 21,
     "metadata": {},
     "output_type": "execute_result"
    }
   ],
   "source": [
    "name = \"world\"\n",
    "f\"Hello {name}\""
   ]
  },
  {
   "cell_type": "markdown",
   "metadata": {},
   "source": [
    "Add `=` to also print the name of the replacement expression (useful for debugging)."
   ]
  },
  {
   "cell_type": "code",
   "execution_count": 26,
   "metadata": {},
   "outputs": [
    {
     "data": {
      "text/plain": [
       "\"Hello name='world'\""
      ]
     },
     "execution_count": 26,
     "metadata": {},
     "output_type": "execute_result"
    }
   ],
   "source": [
    "name = \"world\"\n",
    "f\"Hello {name=}\""
   ]
  },
  {
   "cell_type": "markdown",
   "metadata": {},
   "source": [
    "Add a `!` for conversion: `!s` calls `str()`, `!r` calls `repr()`, and `!a` calls `ascii()`."
   ]
  },
  {
   "cell_type": "code",
   "execution_count": 13,
   "metadata": {},
   "outputs": [
    {
     "data": {
      "text/plain": [
       "\"Hello 'world'\""
      ]
     },
     "execution_count": 13,
     "metadata": {},
     "output_type": "execute_result"
    }
   ],
   "source": [
    "name = \"world\"\n",
    "f\"Hello {name!r}\""
   ]
  },
  {
   "cell_type": "markdown",
   "metadata": {},
   "source": [
    "Add `:` to add a format specifier, using the format mini language."
   ]
  },
  {
   "cell_type": "code",
   "execution_count": 15,
   "metadata": {},
   "outputs": [
    {
     "data": {
      "text/plain": [
       "\"It's 06.45 on 01 December, 2021.\""
      ]
     },
     "execution_count": 15,
     "metadata": {},
     "output_type": "execute_result"
    }
   ],
   "source": [
    "import datetime\n",
    "\n",
    "today = datetime.datetime.today()\n",
    "\n",
    "f\"It's {today:%H.%M} on {today:%d %B, %Y.}\""
   ]
  },
  {
   "cell_type": "markdown",
   "metadata": {},
   "source": [
    "Expressions can be nested (it's a contrived example, we could just used `%p` to get *AM* and *PM*)"
   ]
  },
  {
   "cell_type": "code",
   "execution_count": 16,
   "metadata": {},
   "outputs": [
    {
     "data": {
      "text/plain": [
       "\"It's 06.45am on 01 December, 2021.\""
      ]
     },
     "execution_count": 16,
     "metadata": {},
     "output_type": "execute_result"
    }
   ],
   "source": [
    "f\"It's {today:%H.%M{'am' if today.hour < 12 else 'pm'}} on {today:%d %B, %Y.}\""
   ]
  },
  {
   "cell_type": "code",
   "execution_count": 17,
   "metadata": {},
   "outputs": [
    {
     "data": {
      "text/plain": [
       "'  5.1'"
      ]
     },
     "execution_count": 17,
     "metadata": {},
     "output_type": "execute_result"
    }
   ],
   "source": [
    "value = 5.123\n",
    "width = 5\n",
    "precision = 2\n",
    "f\"{value:{width}.{precision}}\""
   ]
  },
  {
   "cell_type": "markdown",
   "metadata": {},
   "source": [
    "Backslashes are not allowed in expressions. If I need backslash escapes, use a variable."
   ]
  },
  {
   "cell_type": "code",
   "execution_count": 18,
   "metadata": {},
   "outputs": [
    {
     "data": {
      "text/plain": [
       "'newline: 10'"
      ]
     },
     "execution_count": 18,
     "metadata": {},
     "output_type": "execute_result"
    }
   ],
   "source": [
    "newline = ord(\"\\n\")\n",
    "f\"newline: {newline}\""
   ]
  },
  {
   "cell_type": "markdown",
   "metadata": {},
   "source": [
    "## Format specifier form"
   ]
  },
  {
   "cell_type": "markdown",
   "metadata": {},
   "source": [
    "The general form of the format specifier is ([docs](https://docs.python.org/3/library/string.html#format-specification-mini-language)):\n",
    "\n",
    "`[[fill]align][sign][#][0][width][grouping_option][.precision][type]`\n",
    "\n",
    "\n",
    "where:\n",
    "\n",
    "- `fill`: any character\n",
    "- `align`: `<`, `>`, `^` (right, left, centered alignment), `=` (sign-aware zero padding, see below)\n",
    "- `sign`: `+` (show positive and negative sign), `-` (show negative sign only, default), `space` (show space for positive numbers and minus sign for negative ones)\n",
    "- `#`: user \"alternate form\" for conversion. Effect depends on type. Prevents removal of trailing zeroes in `g` and `G` conversion (see below)\n",
    "- `grouping_option`: `,`, `_`, `n` (comma, underscore, locale aware thousands separator)\n",
    "- `0`: Turns on sign-aware zero padding (equivalent to `0` fill character with `=` alignment, see below)\n",
    "- `.precision`: number of digits after decimal points for `f` or `F` formatted floats, before and after decimal point for `g` or `G` formatted floats, and number of characters used for non-numeric types.\n",
    "- `type`: see below."
   ]
  },
  {
   "cell_type": "markdown",
   "metadata": {},
   "source": [
    "## Types"
   ]
  },
  {
   "cell_type": "markdown",
   "metadata": {},
   "source": [
    "The `type` determines how the data should be presented."
   ]
  },
  {
   "cell_type": "markdown",
   "metadata": {},
   "source": [
    "### String types"
   ]
  },
  {
   "cell_type": "markdown",
   "metadata": {},
   "source": [
    "The only available type is `s` for string format, which is the default and can be omitted."
   ]
  },
  {
   "cell_type": "code",
   "execution_count": 18,
   "metadata": {},
   "outputs": [
    {
     "data": {
      "text/plain": [
       "('Hello World.', 'Hello World.')"
      ]
     },
     "execution_count": 18,
     "metadata": {},
     "output_type": "execute_result"
    }
   ],
   "source": [
    "s = \"Hello World.\"\n",
    "f\"{s}\", f\"{s:s}\""
   ]
  },
  {
   "cell_type": "markdown",
   "metadata": {},
   "source": [
    "### Integer types"
   ]
  },
  {
   "cell_type": "markdown",
   "metadata": {},
   "source": [
    "The default is `d` for *decimal integer*, which represents the integer in base 10. This is pretty much all I ever need. But the below also shows examples of how to prepresent an integer in bases two (`b` for *binary*), eight (`o` for *octal*), and sixteen (`x` for *hexadecimal*). There are also a few more options available.\n"
   ]
  },
  {
   "cell_type": "code",
   "execution_count": 3,
   "metadata": {},
   "outputs": [
    {
     "data": {
      "text/plain": [
       "('10', '1010', '12', 'a')"
      ]
     },
     "execution_count": 3,
     "metadata": {},
     "output_type": "execute_result"
    }
   ],
   "source": [
    "n = 10\n",
    "f\"{n:d}\", f\"{n:b}\", f\"{n:o}\", f\"{n:x}\""
   ]
  },
  {
   "cell_type": "markdown",
   "metadata": {},
   "source": [
    "### Float (and integer) types\n",
    "\n",
    "(Much of this also applies to [decimals](https://docs.python.org/3/library/decimal.html#module-decimal), which provide a solution to minor rounding issues that happen with floats. But I've never needed them and ignore them for now.)"
   ]
  },
  {
   "cell_type": "markdown",
   "metadata": {},
   "source": [
    "`e` produces scientific notation with one digit before and `precision` digits after the decimal point for a total of `1 + precision` significant digits. `precision` defaults to 6. `E` is the same but uses an upper case *E* as a separator."
   ]
  },
  {
   "cell_type": "code",
   "execution_count": 7,
   "metadata": {},
   "outputs": [
    {
     "data": {
      "text/plain": [
       "('1.234568e+03', '1.235e+03', '1.235E+03')"
      ]
     },
     "execution_count": 7,
     "metadata": {},
     "output_type": "execute_result"
    }
   ],
   "source": [
    "n = 01234.56789\n",
    "precision = 0.3\n",
    "\n",
    "f\"{n:e}\", f\"{n:{precision}e}\", f\"{n:{precision}E}\""
   ]
  },
  {
   "cell_type": "markdown",
   "metadata": {},
   "source": [
    "`f` produces fixed-point notation with `precision` number of digits after the decimal point. `precision` defaults to 6. `F` is the same but converts `nan` to `NAN` and `inf` to `INF`."
   ]
  },
  {
   "cell_type": "code",
   "execution_count": 17,
   "metadata": {},
   "outputs": [
    {
     "data": {
      "text/plain": [
       "('1234.567890', '1234.568')"
      ]
     },
     "execution_count": 17,
     "metadata": {},
     "output_type": "execute_result"
    }
   ],
   "source": [
    "f\"{n:f}\", f\"{n:{precision}f}\""
   ]
  },
  {
   "cell_type": "markdown",
   "metadata": {},
   "source": [
    "`g` produces general format with `precision` number of significant digits and the number formatted either using fixed-point or scientific notation depending on its magnitude. `precision` defaults to 6. `G` has the same behaviour as `F` and converts large numbers to scientific notation. (In the last example, remember that the high precision doesn't add zero padding because it determines the number of [significant digits](https://en.wikipedia.org/wiki/Significant_figures).)"
   ]
  },
  {
   "cell_type": "code",
   "execution_count": 29,
   "metadata": {},
   "outputs": [
    {
     "data": {
      "text/plain": [
       "('1234.57', '1e+03', '1.23e+03', '1234.56789')"
      ]
     },
     "execution_count": 29,
     "metadata": {},
     "output_type": "execute_result"
    }
   ],
   "source": [
    "f\"{n:g}\", f\"{n:.1g}\", f\"{n:.3g}\", f\"{n:.12g}\""
   ]
  },
  {
   "cell_type": "markdown",
   "metadata": {},
   "source": [
    "The below might be unexpected (it was for me, anyways). It is a result of the fact that decimals can't be represented exactly in binary [floating point](https://en.wikipedia.org/wiki/Floating-point_arithmetic#Decimal-to-binary_conversion). The right-hand side expression represents another example of the same limitation. If such high precision is needed, the [`decimal`](https://docs.python.org/3/library/decimal.html) module should help."
   ]
  },
  {
   "cell_type": "code",
   "execution_count": 33,
   "metadata": {},
   "outputs": [
    {
     "data": {
      "text/plain": [
       "('1234.567890000000033978722', 3.3000000000000003)"
      ]
     },
     "execution_count": 33,
     "metadata": {},
     "output_type": "execute_result"
    }
   ],
   "source": [
    "f\"{n:.25g}\", 1.1 + 2.2"
   ]
  },
  {
   "cell_type": "markdown",
   "metadata": {},
   "source": [
    "`%` produces a percentage by multiplying the number by 100, adding a percent sign, and formatting the number using fixed-point format (e.g. the default is 6 \"precision digits\" after the decimal point)."
   ]
  },
  {
   "cell_type": "code",
   "execution_count": 39,
   "metadata": {},
   "outputs": [
    {
     "data": {
      "text/plain": [
       "('123456.789000%', '123456.79%')"
      ]
     },
     "execution_count": 39,
     "metadata": {},
     "output_type": "execute_result"
    }
   ],
   "source": [
    "f\"{n:%}\", f\"{n:.2%}\""
   ]
  },
  {
   "cell_type": "markdown",
   "metadata": {},
   "source": [
    "### Strings"
   ]
  },
  {
   "cell_type": "markdown",
   "metadata": {},
   "source": [
    "`.precision` determines the number of characters used."
   ]
  },
  {
   "cell_type": "code",
   "execution_count": 70,
   "metadata": {},
   "outputs": [
    {
     "data": {
      "text/plain": [
       "'............Hello.............'"
      ]
     },
     "execution_count": 70,
     "metadata": {},
     "output_type": "execute_result"
    }
   ],
   "source": [
    "text = \"Hello World!\"\n",
    "f\"{text:.^30.5}\""
   ]
  },
  {
   "cell_type": "markdown",
   "metadata": {},
   "source": [
    "### Digits"
   ]
  },
  {
   "cell_type": "markdown",
   "metadata": {},
   "source": [
    "By convention, an empty format field produces the same result as calling `str()` on the value."
   ]
  },
  {
   "cell_type": "code",
   "execution_count": 61,
   "metadata": {},
   "outputs": [
    {
     "data": {
      "text/plain": [
       "('1234.56789', '1234.56789')"
      ]
     },
     "execution_count": 61,
     "metadata": {},
     "output_type": "execute_result"
    }
   ],
   "source": [
    "n = 01234.56789\n",
    "\n",
    "f\"{n:}\", str(n)"
   ]
  },
  {
   "cell_type": "markdown",
   "metadata": {},
   "source": [
    "By default, the `width` equals the length of the data, so `fill` and `align` have no effect."
   ]
  },
  {
   "cell_type": "code",
   "execution_count": 2,
   "metadata": {},
   "outputs": [
    {
     "data": {
      "text/plain": [
       "'1234.56789'"
      ]
     },
     "execution_count": 2,
     "metadata": {},
     "output_type": "execute_result"
    }
   ],
   "source": [
    "f\"{n:@<}\""
   ]
  },
  {
   "cell_type": "markdown",
   "metadata": {},
   "source": [
    "We can use `=` alignment to add padding between the `sign` and the digit, and use a `0` before `width` as a shortcut to get sign-aware zero padding (i.e. the equivalent of a `0` fill with `=` alignment)."
   ]
  },
  {
   "cell_type": "code",
   "execution_count": 62,
   "metadata": {},
   "outputs": [
    {
     "data": {
      "text/plain": [
       "('+    1234.56789', '+00001234.56789', '+00001234.56789')"
      ]
     },
     "execution_count": 62,
     "metadata": {},
     "output_type": "execute_result"
    }
   ],
   "source": [
    "f\"{n:=+15}\", f\"{n:0=+15}\", f\"{n:+015}\""
   ]
  },
  {
   "cell_type": "markdown",
   "metadata": {},
   "source": [
    "Use `#` to keep trailing zeroes in `g` and `G` conversions."
   ]
  },
  {
   "cell_type": "code",
   "execution_count": 42,
   "metadata": {},
   "outputs": [
    {
     "data": {
      "text/plain": [
       "('123.4', '123.400')"
      ]
     },
     "execution_count": 42,
     "metadata": {},
     "output_type": "execute_result"
    }
   ],
   "source": [
    "f\"{123.400:g}\", f\"{123.400:#g}\""
   ]
  },
  {
   "cell_type": "markdown",
   "metadata": {},
   "source": [
    "Thousands separators."
   ]
  },
  {
   "cell_type": "code",
   "execution_count": 1,
   "metadata": {},
   "outputs": [
    {
     "data": {
      "text/plain": [
       "('1,000,000', '1_000_000', '1000000')"
      ]
     },
     "execution_count": 1,
     "metadata": {},
     "output_type": "execute_result"
    }
   ],
   "source": [
    "n = 1_000_000\n",
    "f\"{n:,}\", f\"{n:_}\", f\"{n:n}\""
   ]
  },
  {
   "cell_type": "markdown",
   "metadata": {},
   "source": [
    "## Character sets"
   ]
  },
  {
   "cell_type": "markdown",
   "metadata": {},
   "source": [
    "The `string` module (docs [here](https://docs.python.org/3/library/string.html#helper-functions)) provides a set of useful character sets as module constants."
   ]
  },
  {
   "cell_type": "code",
   "execution_count": 37,
   "metadata": {},
   "outputs": [],
   "source": [
    "import string"
   ]
  },
  {
   "cell_type": "code",
   "execution_count": 33,
   "metadata": {},
   "outputs": [
    {
     "data": {
      "text/plain": [
       "'abcdefghijklmnopqrstuvwxyz'"
      ]
     },
     "execution_count": 33,
     "metadata": {},
     "output_type": "execute_result"
    }
   ],
   "source": [
    "string.ascii_lowercase"
   ]
  },
  {
   "cell_type": "code",
   "execution_count": 34,
   "metadata": {},
   "outputs": [
    {
     "data": {
      "text/plain": [
       "'abcdefghijklmnopqrstuvwxyzABCDEFGHIJKLMNOPQRSTUVWXYZ'"
      ]
     },
     "execution_count": 34,
     "metadata": {},
     "output_type": "execute_result"
    }
   ],
   "source": [
    "string.ascii_letters"
   ]
  },
  {
   "cell_type": "code",
   "execution_count": 35,
   "metadata": {},
   "outputs": [
    {
     "data": {
      "text/plain": [
       "'0123456789'"
      ]
     },
     "execution_count": 35,
     "metadata": {},
     "output_type": "execute_result"
    }
   ],
   "source": [
    "string.digits"
   ]
  },
  {
   "cell_type": "code",
   "execution_count": 36,
   "metadata": {},
   "outputs": [
    {
     "data": {
      "text/plain": [
       "'!\"#$%&\\'()*+,-./:;<=>?@[\\\\]^_`{|}~'"
      ]
     },
     "execution_count": 36,
     "metadata": {},
     "output_type": "execute_result"
    }
   ],
   "source": [
    "string.punctuation"
   ]
  },
  {
   "cell_type": "markdown",
   "metadata": {},
   "source": [
    "## Dates"
   ]
  },
  {
   "cell_type": "markdown",
   "metadata": {},
   "source": [
    "Quick reference for `strftime()` and `strptime()` codes I use often and keep forgetting. Full list [here](https://docs.python.org/3/library/datetime.html#strftime-and-strptime-format-codes). (As a reminder: `strftime()` is an instance method that converts `datetime` objects to a string in a given **f**ormat, while `strptime()` is a class method that **p**arses a string and converts it to `datetime`.)"
   ]
  },
  {
   "cell_type": "code",
   "execution_count": null,
   "metadata": {},
   "outputs": [
    {
     "name": "stdout",
     "output_type": "stream",
     "text": [
      "2021-12-01 06:36:20.652838\n"
     ]
    }
   ],
   "source": [
    "import datetime\n",
    "\n",
    "today = datetime.datetime.today()\n",
    "print(today)"
   ]
  },
  {
   "cell_type": "code",
   "execution_count": null,
   "metadata": {},
   "outputs": [
    {
     "data": {
      "text/plain": [
       "('01 Dec 2021', datetime.datetime(2021, 12, 1, 0, 0))"
      ]
     },
     "execution_count": 11,
     "metadata": {},
     "output_type": "execute_result"
    }
   ],
   "source": [
    "fmt = \"%d %b %Y\"\n",
    "today.strftime(fmt), datetime.datetime.strptime(\"1 Dec 2021\", fmt)"
   ]
  },
  {
   "cell_type": "code",
   "execution_count": null,
   "metadata": {},
   "outputs": [
    {
     "data": {
      "text/plain": [
       "'21 2021'"
      ]
     },
     "execution_count": 4,
     "metadata": {},
     "output_type": "execute_result"
    }
   ],
   "source": [
    "today.strftime(\"%y %Y\")"
   ]
  },
  {
   "cell_type": "code",
   "execution_count": null,
   "metadata": {},
   "outputs": [
    {
     "data": {
      "text/plain": [
       "'Wed Wednesday'"
      ]
     },
     "execution_count": 5,
     "metadata": {},
     "output_type": "execute_result"
    }
   ],
   "source": [
    "today.strftime(\"%a %A\")"
   ]
  },
  {
   "cell_type": "code",
   "execution_count": null,
   "metadata": {},
   "outputs": [
    {
     "data": {
      "text/plain": [
       "'Dec December'"
      ]
     },
     "execution_count": 6,
     "metadata": {},
     "output_type": "execute_result"
    }
   ],
   "source": [
    "today.strftime(\"%b %B\")"
   ]
  },
  {
   "cell_type": "code",
   "execution_count": null,
   "metadata": {},
   "outputs": [
    {
     "name": "stdout",
     "output_type": "stream",
     "text": [
      "06:36:20\n",
      "06:36AM\n"
     ]
    }
   ],
   "source": [
    "print(today.strftime(\"%H:%M:%S\"))  # 24-hour clock\n",
    "print(today.strftime(\"%I:%M%p\"))  # 12-hour clock"
   ]
  },
  {
   "cell_type": "code",
   "execution_count": null,
   "metadata": {},
   "outputs": [
    {
     "data": {
      "text/plain": [
       "'Wed Dec  1 06:36:20 2021 || 12/01/21 || 06:36:20'"
      ]
     },
     "execution_count": 10,
     "metadata": {},
     "output_type": "execute_result"
    }
   ],
   "source": [
    "today.strftime(\"%c || %x || %X\")  # Locale's appropriate formatting and literals"
   ]
  },
  {
   "cell_type": "markdown",
   "metadata": {},
   "source": [
    "## Applications"
   ]
  },
  {
   "cell_type": "markdown",
   "metadata": {},
   "source": [
    "### `string` doc examples"
   ]
  },
  {
   "cell_type": "markdown",
   "metadata": {},
   "source": [
    "Accessing argument's items"
   ]
  },
  {
   "cell_type": "code",
   "execution_count": 47,
   "metadata": {},
   "outputs": [
    {
     "data": {
      "text/plain": [
       "'x = 2, y = 5'"
      ]
     },
     "execution_count": 47,
     "metadata": {},
     "output_type": "execute_result"
    }
   ],
   "source": [
    "point = (2, 5)\n",
    "\"x = {0[0]}, y = {0[1]}\".format(point)"
   ]
  },
  {
   "cell_type": "markdown",
   "metadata": {},
   "source": [
    "Using format mini-language"
   ]
  },
  {
   "cell_type": "code",
   "execution_count": 54,
   "metadata": {},
   "outputs": [
    {
     "data": {
      "text/plain": [
       "'...........10,000.00'"
      ]
     },
     "execution_count": 54,
     "metadata": {},
     "output_type": "execute_result"
    }
   ],
   "source": [
    "n = 10000\n",
    "\"{:.>20,.2f}\".format(n)"
   ]
  },
  {
   "cell_type": "markdown",
   "metadata": {},
   "source": [
    "Formatting dates"
   ]
  },
  {
   "cell_type": "code",
   "execution_count": 64,
   "metadata": {},
   "outputs": [
    {
     "name": "stdout",
     "output_type": "stream",
     "text": [
      "Day: 07\n",
      "Month: Dec\n",
      "Year: 2021\n"
     ]
    }
   ],
   "source": [
    "import datetime\n",
    "\n",
    "today = datetime.datetime.today()\n",
    "\n",
    "print(\"Day: {date:%d}\\nMonth: {date:%b}\\nYear: {date:%Y}\".format(date=today))"
   ]
  },
  {
   "cell_type": "markdown",
   "metadata": {},
   "source": [
    "### Create table from list of tuples\n",
    "\n",
    "Based on example from page 29 in [Fluent Python](https://www.oreilly.com/library/view/fluent-python/9781491946237/). Code is available [here](https://github.com/fluentpython/example-code/blob/master/02-array-seq/metro_lat_long.py)."
   ]
  },
  {
   "cell_type": "code",
   "execution_count": 42,
   "metadata": {},
   "outputs": [
    {
     "name": "stdout",
     "output_type": "stream",
     "text": [
      "=======================================\n",
      "                |   lat.    |   long.  \n",
      "---------------------------------------\n",
      "Mexico City     |   19.4333 |  -99.1333\n",
      "New York-Newark |   40.8086 |  -74.0204\n",
      "Sao Paulo       |  -23.5478 |  -46.6358\n",
      "=======================================\n"
     ]
    }
   ],
   "source": [
    "metro_areas = [\n",
    "    (\"Tokyo\", \"JP\", 36.933, (35.689722, 139.691667)),\n",
    "    (\"Delhi NCR\", \"IN\", 21.935, (28.613889, 77.208889)),\n",
    "    (\"Mexico City\", \"MX\", 20.142, (19.433333, -99.133333)),\n",
    "    (\"New York-Newark\", \"US\", 20.104, (40.808611, -74.020386)),\n",
    "    (\"Sao Paulo\", \"BR\", 19.649, (-23.547778, -46.635833)),\n",
    "]\n",
    "\n",
    "hline, hhline = \"-\" * 39, \"=\" * 39\n",
    "print(hhline)\n",
    "print(\"{:15} | {:^9} | {:^9}\".format(\" \", \"lat.\", \"long.\"))\n",
    "print(hline)\n",
    "fmt = \"{:15} | {:>9.4f} | {:>9.4f}\"\n",
    "for name, cc, pop, (lat, long) in metro_areas:\n",
    "    if long <= 0:\n",
    "        print(fmt.format(name, lat, long))\n",
    "print(hhline)"
   ]
  },
  {
   "cell_type": "markdown",
   "metadata": {},
   "source": [
    "## Main sources"
   ]
  },
  {
   "cell_type": "markdown",
   "metadata": {},
   "source": [
    "- [`string` docs](https://docs.python.org/3.4/library/string.html)\n",
    "- [Formatted string literals docs](https://docs.python.org/3/reference/lexical_analysis.html#formatted-string-literals)\n",
    "- [Fluent Python](https://www.oreilly.com/library/view/fluent-python/9781491946237/)\n",
    "- [Python Cookbook](https://www.oreilly.com/library/view/python-cookbook-3rd/9781449357337/)"
   ]
  }
 ],
 "metadata": {
  "kernelspec": {
   "display_name": "limo",
   "language": "python",
   "name": "limo"
  },
  "language_info": {
   "codemirror_mode": {
    "name": "ipython",
    "version": 3
   },
   "file_extension": ".py",
   "mimetype": "text/x-python",
   "name": "python",
   "nbconvert_exporter": "python",
   "pygments_lexer": "ipython3",
   "version": "3.9.9"
  }
 },
 "nbformat": 4,
 "nbformat_minor": 4
}
