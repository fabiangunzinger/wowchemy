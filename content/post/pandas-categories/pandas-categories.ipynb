{
 "cells": [
  {
   "cell_type": "code",
   "execution_count": 1,
   "id": "bad551bd-a28f-4cb7-b3e9-a2c8e676d461",
   "metadata": {},
   "outputs": [],
   "source": [
    "import numpy as np\n",
    "import pandas as pd\n",
    "import seaborn as sns"
   ]
  },
  {
   "cell_type": "markdown",
   "id": "63a162f9-0a1c-43b6-bffe-fef8f8be4ea9",
   "metadata": {},
   "source": [
    "## Basics\n",
    "\n",
    "- All values of a categorical valiable are either in `categories` or `np.nan`.\n",
    "\n",
    "- Order is defined by the order of `categories`, not the lexical order of the values.\n",
    "\n",
    "- Internally, the data structure consists of a `categories` array and an integer arrays of `codes`, which point to the values in the `categories` array.\n",
    "\n",
    "- The memory usage of a categorical variable is proportional to the number of categories plus the length of the data, while that for an object dtype is a constant times the length of the data. As the number of categories approaches the length of the data, memory usage approaches that of object type.\n",
    "\n",
    "- Categories can be useful in the following scenarios:\n",
    "\n",
    "    - To save memory (if number of categories small relative to number of rows)\n",
    "    \n",
    "    - If logical order differs from lexical order (e.g. 'small', 'medium', 'large')\n",
    "    \n",
    "    - To signal to libraries that column should be treated as a category (e.g. for plotting)"
   ]
  },
  {
   "cell_type": "markdown",
   "id": "98dde232-7a84-4e12-9e69-61fc29b1cebb",
   "metadata": {
    "tags": []
   },
   "source": [
    "## General best practices\n",
    "\n",
    "Based on [this](https://towardsdatascience.com/staying-sane-while-adopting-pandas-categorical-datatypes-78dbd19dcd8a) useful article.\n",
    "\n",
    "- Operate on category values rather than column elements. E.g. to rename categories use `df.catvar.cat.rename_rategories(*args, **kwargs)`, if there is no `cat` method available,\n",
    "consider operating on categories directly with `df.catvar.cat.categories`.\n",
    "\n",
    "- Merging on categories: the two key things to remember are that 1) Pandas treats categorical variables with different categories as different data types, and 2) category merge keys will only be categories in the merged dataframe if they are of the same data types (i.e. have the same categories), otherwise they will be converted back to objects.\n",
    "\n",
    "- Grouping on categories: remember that by default we group on all categories, not just those present in the data. More often than not, you'll want to use `df.groupby(catvar, observed=True)` to only use categories observed in the data."
   ]
  },
  {
   "cell_type": "code",
   "execution_count": 2,
   "id": "44595b6f-9234-4898-ac16-3d375c81ff85",
   "metadata": {},
   "outputs": [
    {
     "data": {
      "text/html": [
       "<div>\n",
       "<style scoped>\n",
       "    .dataframe tbody tr th:only-of-type {\n",
       "        vertical-align: middle;\n",
       "    }\n",
       "\n",
       "    .dataframe tbody tr th {\n",
       "        vertical-align: top;\n",
       "    }\n",
       "\n",
       "    .dataframe thead th {\n",
       "        text-align: right;\n",
       "    }\n",
       "</style>\n",
       "<table border=\"1\" class=\"dataframe\">\n",
       "  <thead>\n",
       "    <tr style=\"text-align: right;\">\n",
       "      <th></th>\n",
       "      <th>survived</th>\n",
       "      <th>pclass</th>\n",
       "      <th>sex</th>\n",
       "      <th>age</th>\n",
       "      <th>sibsp</th>\n",
       "      <th>parch</th>\n",
       "      <th>fare</th>\n",
       "      <th>embarked</th>\n",
       "      <th>class</th>\n",
       "      <th>who</th>\n",
       "      <th>adult_male</th>\n",
       "      <th>deck</th>\n",
       "      <th>embark_town</th>\n",
       "      <th>alive</th>\n",
       "      <th>alone</th>\n",
       "    </tr>\n",
       "  </thead>\n",
       "  <tbody>\n",
       "    <tr>\n",
       "      <th>0</th>\n",
       "      <td>0</td>\n",
       "      <td>3</td>\n",
       "      <td>male</td>\n",
       "      <td>22.0</td>\n",
       "      <td>1</td>\n",
       "      <td>0</td>\n",
       "      <td>7.2500</td>\n",
       "      <td>S</td>\n",
       "      <td>Third</td>\n",
       "      <td>man</td>\n",
       "      <td>True</td>\n",
       "      <td>NaN</td>\n",
       "      <td>Southampton</td>\n",
       "      <td>no</td>\n",
       "      <td>False</td>\n",
       "    </tr>\n",
       "    <tr>\n",
       "      <th>1</th>\n",
       "      <td>1</td>\n",
       "      <td>1</td>\n",
       "      <td>female</td>\n",
       "      <td>38.0</td>\n",
       "      <td>1</td>\n",
       "      <td>0</td>\n",
       "      <td>71.2833</td>\n",
       "      <td>C</td>\n",
       "      <td>First</td>\n",
       "      <td>woman</td>\n",
       "      <td>False</td>\n",
       "      <td>C</td>\n",
       "      <td>Cherbourg</td>\n",
       "      <td>yes</td>\n",
       "      <td>False</td>\n",
       "    </tr>\n",
       "  </tbody>\n",
       "</table>\n",
       "</div>"
      ],
      "text/plain": [
       "   survived  pclass     sex   age  sibsp  parch     fare embarked  class  \\\n",
       "0         0       3    male  22.0      1      0   7.2500        S  Third   \n",
       "1         1       1  female  38.0      1      0  71.2833        C  First   \n",
       "\n",
       "     who  adult_male deck  embark_town alive  alone  \n",
       "0    man        True  NaN  Southampton    no  False  \n",
       "1  woman       False    C    Cherbourg   yes  False  "
      ]
     },
     "execution_count": 2,
     "metadata": {},
     "output_type": "execute_result"
    }
   ],
   "source": [
    "titanic = sns.load_dataset(\"titanic\")\n",
    "titanic.head(2)"
   ]
  },
  {
   "cell_type": "markdown",
   "id": "8deaa407-ce9d-45ab-bf1f-21e0fcebb604",
   "metadata": {},
   "source": [
    "## Operations I frequently use"
   ]
  },
  {
   "cell_type": "markdown",
   "id": "9cf5d14b-2bd9-46cd-8a17-6502c5489b30",
   "metadata": {},
   "source": [
    "### Renaming categories"
   ]
  },
  {
   "cell_type": "code",
   "execution_count": 3,
   "id": "e1c85b47-4b5b-40a1-85be-1365f537f8cc",
   "metadata": {},
   "outputs": [
    {
     "data": {
      "text/plain": [
       "0    THIRD\n",
       "1    FIRST\n",
       "Name: class, dtype: category\n",
       "Categories (3, object): ['FIRST', 'SECOND', 'THIRD']"
      ]
     },
     "execution_count": 3,
     "metadata": {},
     "output_type": "execute_result"
    }
   ],
   "source": [
    "titanic[\"class\"].cat.rename_categories(str.upper)[:2]"
   ]
  },
  {
   "cell_type": "markdown",
   "id": "f3328e06-abbb-4ba3-88d5-12e4a490e87a",
   "metadata": {},
   "source": [
    "### Appending new categories"
   ]
  },
  {
   "cell_type": "code",
   "execution_count": 4,
   "id": "f69037c4-9672-40c6-86eb-cd7240125e02",
   "metadata": {},
   "outputs": [
    {
     "data": {
      "text/plain": [
       "Index(['First', 'Second', 'Third', 'Fourth'], dtype='object')"
      ]
     },
     "execution_count": 4,
     "metadata": {},
     "output_type": "execute_result"
    }
   ],
   "source": [
    "titanic[\"class\"].cat.add_categories([\"Fourth\"]).cat.categories"
   ]
  },
  {
   "cell_type": "markdown",
   "id": "ecc1b62b-4802-4bf7-9bd0-4bc7a438acce",
   "metadata": {},
   "source": [
    "### Removing categories"
   ]
  },
  {
   "cell_type": "code",
   "execution_count": 5,
   "id": "436c893e-4bc7-44b1-b040-705a8fdaa162",
   "metadata": {},
   "outputs": [
    {
     "data": {
      "text/plain": [
       "Index(['First', 'Second'], dtype='object')"
      ]
     },
     "execution_count": 5,
     "metadata": {},
     "output_type": "execute_result"
    }
   ],
   "source": [
    "titanic[\"class\"].cat.remove_categories([\"Third\"]).cat.categories"
   ]
  },
  {
   "cell_type": "markdown",
   "id": "dfcaef56-d9c1-4646-a9b3-ad1b63e8a5c1",
   "metadata": {},
   "source": [
    "### Remove unused categories"
   ]
  },
  {
   "cell_type": "code",
   "execution_count": 6,
   "id": "376bae9d-3776-41ce-8d20-23f243f78eec",
   "metadata": {},
   "outputs": [
    {
     "data": {
      "text/html": [
       "<div>\n",
       "<style scoped>\n",
       "    .dataframe tbody tr th:only-of-type {\n",
       "        vertical-align: middle;\n",
       "    }\n",
       "\n",
       "    .dataframe tbody tr th {\n",
       "        vertical-align: top;\n",
       "    }\n",
       "\n",
       "    .dataframe thead th {\n",
       "        text-align: right;\n",
       "    }\n",
       "</style>\n",
       "<table border=\"1\" class=\"dataframe\">\n",
       "  <thead>\n",
       "    <tr style=\"text-align: right;\">\n",
       "      <th></th>\n",
       "      <th>survived</th>\n",
       "      <th>pclass</th>\n",
       "      <th>sex</th>\n",
       "      <th>age</th>\n",
       "      <th>sibsp</th>\n",
       "      <th>parch</th>\n",
       "      <th>fare</th>\n",
       "      <th>embarked</th>\n",
       "      <th>class</th>\n",
       "      <th>who</th>\n",
       "      <th>adult_male</th>\n",
       "      <th>deck</th>\n",
       "      <th>embark_town</th>\n",
       "      <th>alive</th>\n",
       "      <th>alone</th>\n",
       "    </tr>\n",
       "  </thead>\n",
       "  <tbody>\n",
       "    <tr>\n",
       "      <th>0</th>\n",
       "      <td>0</td>\n",
       "      <td>3</td>\n",
       "      <td>male</td>\n",
       "      <td>22.0</td>\n",
       "      <td>1</td>\n",
       "      <td>0</td>\n",
       "      <td>7.2500</td>\n",
       "      <td>S</td>\n",
       "      <td>Third</td>\n",
       "      <td>man</td>\n",
       "      <td>True</td>\n",
       "      <td>NaN</td>\n",
       "      <td>Southampton</td>\n",
       "      <td>no</td>\n",
       "      <td>False</td>\n",
       "    </tr>\n",
       "    <tr>\n",
       "      <th>1</th>\n",
       "      <td>1</td>\n",
       "      <td>1</td>\n",
       "      <td>female</td>\n",
       "      <td>38.0</td>\n",
       "      <td>1</td>\n",
       "      <td>0</td>\n",
       "      <td>71.2833</td>\n",
       "      <td>C</td>\n",
       "      <td>First</td>\n",
       "      <td>woman</td>\n",
       "      <td>False</td>\n",
       "      <td>C</td>\n",
       "      <td>Cherbourg</td>\n",
       "      <td>yes</td>\n",
       "      <td>False</td>\n",
       "    </tr>\n",
       "  </tbody>\n",
       "</table>\n",
       "</div>"
      ],
      "text/plain": [
       "   survived  pclass     sex   age  sibsp  parch     fare embarked  class  \\\n",
       "0         0       3    male  22.0      1      0   7.2500        S  Third   \n",
       "1         1       1  female  38.0      1      0  71.2833        C  First   \n",
       "\n",
       "     who  adult_male deck  embark_town alive  alone  \n",
       "0    man        True  NaN  Southampton    no  False  \n",
       "1  woman       False    C    Cherbourg   yes  False  "
      ]
     },
     "execution_count": 6,
     "metadata": {},
     "output_type": "execute_result"
    }
   ],
   "source": [
    "titanic_small = titanic.iloc[:2]\n",
    "titanic_small"
   ]
  },
  {
   "cell_type": "code",
   "execution_count": 7,
   "id": "6348a103-b631-42fb-a1e5-39ff7ff465f3",
   "metadata": {},
   "outputs": [
    {
     "data": {
      "text/plain": [
       "Index(['First', 'Third'], dtype='object')"
      ]
     },
     "execution_count": 7,
     "metadata": {},
     "output_type": "execute_result"
    }
   ],
   "source": [
    "titanic_small[\"class\"].cat.remove_unused_categories().cat.categories"
   ]
  },
  {
   "cell_type": "markdown",
   "id": "42d5892e-d457-41e3-a361-f1b4765dd97e",
   "metadata": {},
   "source": [
    "### Remove and add categories simultaneously"
   ]
  },
  {
   "cell_type": "code",
   "execution_count": 8,
   "id": "c2f90d78-d283-4db2-a25c-fb492ed42654",
   "metadata": {},
   "outputs": [
    {
     "data": {
      "text/plain": [
       "Third     491\n",
       "First     216\n",
       "Second    184\n",
       "Name: class, dtype: int64"
      ]
     },
     "execution_count": 8,
     "metadata": {},
     "output_type": "execute_result"
    }
   ],
   "source": [
    "titanic[\"class\"].value_counts(dropna=False)"
   ]
  },
  {
   "cell_type": "code",
   "execution_count": 9,
   "id": "f2738a8b-3c3f-4149-96cf-9da44fdc58df",
   "metadata": {},
   "outputs": [
    {
     "data": {
      "text/plain": [
       "Third     491\n",
       "First     216\n",
       "NaN       184\n",
       "Fourth      0\n",
       "Name: class, dtype: int64"
      ]
     },
     "execution_count": 9,
     "metadata": {},
     "output_type": "execute_result"
    }
   ],
   "source": [
    "titanic[\"class\"].cat.set_categories([\"First\", \"Third\", \"Fourth\"]).value_counts(\n",
    "    dropna=False\n",
    ")"
   ]
  },
  {
   "cell_type": "markdown",
   "id": "d268026a-d3f7-48ed-935f-5871e258ceb4",
   "metadata": {},
   "source": [
    "### Using string and datetime accessors\n",
    "\n",
    "This works as expected, and if the number of distinct categories is small relative to the number of rows, then operating on the categories is faster (because under the hood, pandas applies the change to `categories` and constructs a new series (see [here](https://pandas.pydata.org/pandas-docs/stable/user_guide/categorical.html#string-and-datetime-accessors)) so no need to do this manually as I was inclined to)."
   ]
  },
  {
   "cell_type": "code",
   "execution_count": 10,
   "id": "1c35bb3f-d28f-4c9f-a7f0-58e537ac575c",
   "metadata": {},
   "outputs": [
    {
     "name": "stdout",
     "output_type": "stream",
     "text": [
      "149 µs ± 7.84 µs per loop (mean ± std. dev. of 7 runs, 10000 loops each)\n",
      "398 µs ± 16.3 µs per loop (mean ± std. dev. of 7 runs, 1000 loops each)\n"
     ]
    }
   ],
   "source": [
    "cat_class = titanic[\"class\"]\n",
    "%timeit cat_class.str.contains('d')\n",
    "\n",
    "str_class = titanic[\"class\"].astype(\"object\")\n",
    "%timeit str_class.str.contains('d')"
   ]
  },
  {
   "cell_type": "markdown",
   "id": "7ae06418-1933-40c5-982e-81ada21c84e8",
   "metadata": {},
   "source": [
    "## Object creation"
   ]
  },
  {
   "cell_type": "markdown",
   "id": "c59408c7-1cf3-4f64-8406-6a095052c9b2",
   "metadata": {},
   "source": [
    "Convert *sex* and *class* to the same categorical type, with categories being the union of all unique values of both columns."
   ]
  },
  {
   "cell_type": "code",
   "execution_count": 11,
   "id": "2a406fdf-20f5-4ef3-bdbc-970031d0c910",
   "metadata": {},
   "outputs": [
    {
     "name": "stdout",
     "output_type": "stream",
     "text": [
      "Index(['child', 'female', 'male', 'man', 'woman'], dtype='object')\n",
      "Index(['child', 'female', 'male', 'man', 'woman'], dtype='object')\n"
     ]
    }
   ],
   "source": [
    "cols = [\"sex\", \"who\"]\n",
    "unique_values = np.unique(titanic[cols].to_numpy().ravel())\n",
    "categories = pd.CategoricalDtype(categories=unique_values)\n",
    "titanic[cols] = titanic[cols].astype(categories)\n",
    "print(titanic.sex.cat.categories)\n",
    "print(titanic.who.cat.categories)"
   ]
  },
  {
   "cell_type": "code",
   "execution_count": 12,
   "id": "14c73c93-40ee-4ebc-98e4-bc6a8d3dd9bd",
   "metadata": {},
   "outputs": [],
   "source": [
    "# restore sex and who to object types\n",
    "titanic[cols] = titanic[cols].astype(\"object\")"
   ]
  },
  {
   "cell_type": "markdown",
   "id": "b035cc93-6bfa-41aa-bd06-b72984428911",
   "metadata": {},
   "source": [
    "## Custom order "
   ]
  },
  {
   "cell_type": "code",
   "execution_count": 13,
   "id": "3a227991-98bd-4b94-b313-674d20d4a08d",
   "metadata": {},
   "outputs": [
    {
     "data": {
      "text/html": [
       "<div>\n",
       "<style scoped>\n",
       "    .dataframe tbody tr th:only-of-type {\n",
       "        vertical-align: middle;\n",
       "    }\n",
       "\n",
       "    .dataframe tbody tr th {\n",
       "        vertical-align: top;\n",
       "    }\n",
       "\n",
       "    .dataframe thead th {\n",
       "        text-align: right;\n",
       "    }\n",
       "</style>\n",
       "<table border=\"1\" class=\"dataframe\">\n",
       "  <thead>\n",
       "    <tr style=\"text-align: right;\">\n",
       "      <th></th>\n",
       "      <th>quality</th>\n",
       "    </tr>\n",
       "  </thead>\n",
       "  <tbody>\n",
       "    <tr>\n",
       "      <th>1</th>\n",
       "      <td>excellent</td>\n",
       "    </tr>\n",
       "    <tr>\n",
       "      <th>0</th>\n",
       "      <td>good</td>\n",
       "    </tr>\n",
       "    <tr>\n",
       "      <th>2</th>\n",
       "      <td>very good</td>\n",
       "    </tr>\n",
       "  </tbody>\n",
       "</table>\n",
       "</div>"
      ],
      "text/plain": [
       "     quality\n",
       "1  excellent\n",
       "0       good\n",
       "2  very good"
      ]
     },
     "execution_count": 13,
     "metadata": {},
     "output_type": "execute_result"
    }
   ],
   "source": [
    "df = pd.DataFrame({\"quality\": [\"good\", \"excellent\", \"very good\"]})\n",
    "df.sort_values(\"quality\")"
   ]
  },
  {
   "cell_type": "code",
   "execution_count": 14,
   "id": "8aedd68f-f194-4b88-832a-f2aa217e5646",
   "metadata": {},
   "outputs": [
    {
     "data": {
      "text/html": [
       "<div>\n",
       "<style scoped>\n",
       "    .dataframe tbody tr th:only-of-type {\n",
       "        vertical-align: middle;\n",
       "    }\n",
       "\n",
       "    .dataframe tbody tr th {\n",
       "        vertical-align: top;\n",
       "    }\n",
       "\n",
       "    .dataframe thead th {\n",
       "        text-align: right;\n",
       "    }\n",
       "</style>\n",
       "<table border=\"1\" class=\"dataframe\">\n",
       "  <thead>\n",
       "    <tr style=\"text-align: right;\">\n",
       "      <th></th>\n",
       "      <th>quality</th>\n",
       "    </tr>\n",
       "  </thead>\n",
       "  <tbody>\n",
       "    <tr>\n",
       "      <th>0</th>\n",
       "      <td>good</td>\n",
       "    </tr>\n",
       "    <tr>\n",
       "      <th>2</th>\n",
       "      <td>very good</td>\n",
       "    </tr>\n",
       "    <tr>\n",
       "      <th>1</th>\n",
       "      <td>excellent</td>\n",
       "    </tr>\n",
       "  </tbody>\n",
       "</table>\n",
       "</div>"
      ],
      "text/plain": [
       "     quality\n",
       "0       good\n",
       "2  very good\n",
       "1  excellent"
      ]
     },
     "execution_count": 14,
     "metadata": {},
     "output_type": "execute_result"
    }
   ],
   "source": [
    "ordered_quality = pd.CategoricalDtype([\"good\", \"very good\", \"excellent\"], ordered=True)\n",
    "df.quality = df.quality.astype(ordered_quality)\n",
    "df.sort_values(\"quality\")"
   ]
  },
  {
   "cell_type": "markdown",
   "id": "b2628b69-a3ef-456f-b1bc-7ebf5072fa6e",
   "metadata": {},
   "source": [
    "## Unique values"
   ]
  },
  {
   "cell_type": "code",
   "execution_count": 15,
   "id": "c4c0a4a7-8fe7-4606-b838-f6d678749391",
   "metadata": {},
   "outputs": [
    {
     "data": {
      "text/html": [
       "<div>\n",
       "<style scoped>\n",
       "    .dataframe tbody tr th:only-of-type {\n",
       "        vertical-align: middle;\n",
       "    }\n",
       "\n",
       "    .dataframe tbody tr th {\n",
       "        vertical-align: top;\n",
       "    }\n",
       "\n",
       "    .dataframe thead th {\n",
       "        text-align: right;\n",
       "    }\n",
       "</style>\n",
       "<table border=\"1\" class=\"dataframe\">\n",
       "  <thead>\n",
       "    <tr style=\"text-align: right;\">\n",
       "      <th></th>\n",
       "      <th>survived</th>\n",
       "      <th>pclass</th>\n",
       "      <th>sex</th>\n",
       "      <th>age</th>\n",
       "      <th>sibsp</th>\n",
       "      <th>parch</th>\n",
       "      <th>fare</th>\n",
       "      <th>embarked</th>\n",
       "      <th>class</th>\n",
       "      <th>who</th>\n",
       "      <th>adult_male</th>\n",
       "      <th>deck</th>\n",
       "      <th>embark_town</th>\n",
       "      <th>alive</th>\n",
       "      <th>alone</th>\n",
       "    </tr>\n",
       "  </thead>\n",
       "  <tbody>\n",
       "    <tr>\n",
       "      <th>0</th>\n",
       "      <td>0</td>\n",
       "      <td>3</td>\n",
       "      <td>male</td>\n",
       "      <td>22.0</td>\n",
       "      <td>1</td>\n",
       "      <td>0</td>\n",
       "      <td>7.2500</td>\n",
       "      <td>S</td>\n",
       "      <td>Third</td>\n",
       "      <td>man</td>\n",
       "      <td>True</td>\n",
       "      <td>NaN</td>\n",
       "      <td>Southampton</td>\n",
       "      <td>no</td>\n",
       "      <td>False</td>\n",
       "    </tr>\n",
       "    <tr>\n",
       "      <th>1</th>\n",
       "      <td>1</td>\n",
       "      <td>1</td>\n",
       "      <td>female</td>\n",
       "      <td>38.0</td>\n",
       "      <td>1</td>\n",
       "      <td>0</td>\n",
       "      <td>71.2833</td>\n",
       "      <td>C</td>\n",
       "      <td>First</td>\n",
       "      <td>woman</td>\n",
       "      <td>False</td>\n",
       "      <td>C</td>\n",
       "      <td>Cherbourg</td>\n",
       "      <td>yes</td>\n",
       "      <td>False</td>\n",
       "    </tr>\n",
       "  </tbody>\n",
       "</table>\n",
       "</div>"
      ],
      "text/plain": [
       "   survived  pclass     sex   age  sibsp  parch     fare embarked  class  \\\n",
       "0         0       3    male  22.0      1      0   7.2500        S  Third   \n",
       "1         1       1  female  38.0      1      0  71.2833        C  First   \n",
       "\n",
       "     who  adult_male deck  embark_town alive  alone  \n",
       "0    man        True  NaN  Southampton    no  False  \n",
       "1  woman       False    C    Cherbourg   yes  False  "
      ]
     },
     "execution_count": 15,
     "metadata": {},
     "output_type": "execute_result"
    }
   ],
   "source": [
    "small_titanic = titanic.iloc[:2]\n",
    "small_titanic"
   ]
  },
  {
   "cell_type": "markdown",
   "id": "aa952889-4196-4dac-b6b4-9e856c33d92c",
   "metadata": {},
   "source": [
    "`Series.unique` returns values in order appearance, and only returns values that are present in the data."
   ]
  },
  {
   "cell_type": "code",
   "execution_count": 16,
   "id": "a45ef034-5420-4932-8e58-8db86abbf7f1",
   "metadata": {},
   "outputs": [
    {
     "data": {
      "text/plain": [
       "['Third', 'First']\n",
       "Categories (3, object): ['First', 'Second', 'Third']"
      ]
     },
     "execution_count": 16,
     "metadata": {},
     "output_type": "execute_result"
    }
   ],
   "source": [
    "small_titanic[\"class\"].unique()"
   ]
  },
  {
   "cell_type": "markdown",
   "id": "89871b0a-cd22-48e8-aaea-c55d8019f846",
   "metadata": {},
   "source": [
    "`Series.cat.categories` returns all category values."
   ]
  },
  {
   "cell_type": "code",
   "execution_count": 17,
   "id": "e7e43a84-b918-4628-87d9-19a8c5aeee17",
   "metadata": {},
   "outputs": [
    {
     "data": {
      "text/plain": [
       "Index(['First', 'Second', 'Third'], dtype='object')"
      ]
     },
     "execution_count": 17,
     "metadata": {},
     "output_type": "execute_result"
    }
   ],
   "source": [
    "small_titanic[\"class\"].cat.categories"
   ]
  },
  {
   "cell_type": "markdown",
   "id": "5f348553-5713-4713-ba5d-f97bb41b7a63",
   "metadata": {},
   "source": [
    "## References\n",
    "\n",
    "- [Docs](https://pandas.pydata.org/pandas-docs/stable/user_guide/categorical.html#object-creation)\n",
    "\n",
    "- [Useful Medium article](https://towardsdatascience.com/staying-sane-while-adopting-pandas-categorical-datatypes-78dbd19dcd8a)"
   ]
  }
 ],
 "metadata": {
  "kernelspec": {
   "display_name": "blog",
   "language": "python",
   "name": "blog"
  },
  "language_info": {
   "codemirror_mode": {
    "name": "ipython",
    "version": 3
   },
   "file_extension": ".py",
   "mimetype": "text/x-python",
   "name": "python",
   "nbconvert_exporter": "python",
   "pygments_lexer": "ipython3",
   "version": "3.9.9"
  }
 },
 "nbformat": 4,
 "nbformat_minor": 5
}
