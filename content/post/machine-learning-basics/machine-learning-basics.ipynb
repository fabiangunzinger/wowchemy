{
 "cells": [
  {
   "cell_type": "markdown",
   "metadata": {},
   "source": [
    "# Introduction and definitions"
   ]
  },
  {
   "cell_type": "markdown",
   "metadata": {},
   "source": [
    "**Why do we estimate f?**\n",
    "\n",
    "- Purpose of ml is often to infer a function f that describes the relationship between target and features.\n",
    "\n",
    "- Can estimate f for (1) prediction or (2) inference or both."
   ]
  },
  {
   "cell_type": "markdown",
   "metadata": {},
   "source": [
    "**How do we estimate f?**\n",
    "\n",
    "- 3 basic approaches: parametric (assume shape of f and estimate coefficients), non-parametric (also estimate shape of f), semi-parametric.\n",
    "\n",
    "- Accuracy depends on (1) irreducible error (variance of error term) and (2) reducible error (appropriateness of our model and its assumptions)"
   ]
  },
  {
   "cell_type": "markdown",
   "metadata": {},
   "source": [
    "**Ingredients to statistical learning**\n",
    "\n",
    "- Specify aim\n",
    "\n",
    "- Gather and pre-process data\n",
    "\n",
    "- Select a learning algorithm\n",
    "\n",
    "- Apply learning algorithm to data to build (and train) a model\n",
    "\n",
    "- Assess model performance (by testing) and tune model\n",
    "\n",
    "- Make predictions"
   ]
  },
  {
   "cell_type": "markdown",
   "metadata": {},
   "source": [
    "**Types of learning**\n",
    "\n",
    "- Supervised (labelled examples)\n",
    "\n",
    "- Unsupervised (unlabelled examples)\n",
    "\n",
    "- Semi-supervised (labelled and unlabelled examples)\n",
    "\n",
    "- Reinforcement"
   ]
  },
  {
   "cell_type": "markdown",
   "metadata": {},
   "source": [
    "**The trade-off between prediction accuracy and model interpretability**\n",
    "\n",
    "- Linear models vs non-linear models (hard to interpret models often predict more accurately)."
   ]
  },
  {
   "cell_type": "markdown",
   "metadata": {},
   "source": [
    "**Supervised vs. unsupervised learning**"
   ]
  },
  {
   "cell_type": "markdown",
   "metadata": {},
   "source": [
    "**Regression vs classification problems**\n",
    "\n",
    "- Classification assigns categorical labels, regression real-valued labels to unlabelled examples."
   ]
  },
  {
   "cell_type": "markdown",
   "metadata": {},
   "source": [
    "**Hyperparameters vs parameters**\n",
    "\n",
    "- Hyperparameters determine how the algorithm works and are set by the researcher.\n",
    "\n",
    "- Parameters determine the shape of the model and are estimated. "
   ]
  },
  {
   "cell_type": "markdown",
   "metadata": {},
   "source": [
    "**Model-based vs instance-based learning**\n",
    "\n",
    "- Model-based algorithms estimate and then use parameters to make predictions (i.e. can discard training data once you have estimate), instance-based algorithms (e.g. KNN) use the entire training dataset."
   ]
  },
  {
   "cell_type": "markdown",
   "metadata": {},
   "source": [
    "**Deep vs shallow learning**\n",
    "\n",
    "- Shallow learning algorithms learn parameters directly from features, deep learning algorithms (deep neural network) learn them from the output of preceeding layers."
   ]
  },
  {
   "cell_type": "markdown",
   "metadata": {},
   "source": [
    "Sources of prediction error\n",
    "\n",
    "- If we think about $Y = f(X) + \\epsilon$\n",
    "\n",
    "- Reducible error stems from our imperfect ability to estimate the model (the systematic relationship between X and y) i.e. the difference between $f$ and $\\hat{f}$.\n",
    "- Irreducible error stems from the fact that even if we could perfectly model the relationship between X and Y, Y would still be a function of the error term $\\epsilon$, which we cannot reduce. This could be variables other than X that predict Y, or random variation in Y (e.g. purchasing behaviour on given day influenced by car breakdown)."
   ]
  },
  {
   "cell_type": "markdown",
   "metadata": {},
   "source": [
    "Practical tips"
   ]
  },
  {
   "cell_type": "markdown",
   "metadata": {},
   "source": [
    "- One way to get a sense of how non-linear the problem is, is to compare the MSE of a simple linear model and a more complex model. If the two are very close, then assuming linearity and using a simple model is preferrable."
   ]
  },
  {
   "cell_type": "markdown",
   "metadata": {
    "tags": []
   },
   "source": [
    "# Feature engineering"
   ]
  },
  {
   "cell_type": "markdown",
   "metadata": {
    "tags": []
   },
   "source": [
    "## General points\n",
    "\n",
    "- Having many uninformative features in your model might lower performance as it makes is more likely that the model overfits (e.g. including country names when predicting life satisfaction and using OECD sample finds that \"w\" in country name predicts high life satisfaction because of Norway, Switzerland, New Zealand, and Sweden. But this doesn't generalize to Rwanda and Zimbabwe). Hence, the more uninformative features, the bigger the chance that the model will find a pattern by chance in one of them in your training set."
   ]
  },
  {
   "cell_type": "markdown",
   "metadata": {},
   "source": [
    "## Process in practice\n",
    "\n",
    "1. Brainstorm features\n",
    "2. Decide what features to create\n",
    "3. Create the features\n",
    "4. Test impact on model performance\n",
    "5. Interacting on features is useful\n",
    "6. Iterate (go to 3 or 1)\n",
    "\n",
    "Stuff to try:\n",
    "- Ratios\n",
    "- Counts\n",
    "- Cutoff points\n",
    "- Iterate on features (change cutoff and see whether it makes a difference) \n",
    "- Rate of Change in Values\n",
    "- Range of Values\n",
    "- Density within Intervals of Time\n",
    "- Proportion of Instances of Commonly Occurring Values\n",
    "- Time Between Occurrences of Commonly Occurring Values"
   ]
  },
  {
   "cell_type": "markdown",
   "metadata": {},
   "source": [
    "## Data processing\n",
    "\n",
    "- Data transformations for individual predictors\n",
    "\n",
    "- Data transformations for multiple predictors\n",
    "\n",
    "- Dealing with missing values\n",
    "\n",
    "- Removing predictors\n",
    "\n",
    "- Adding predictors\n",
    "\n",
    "- Binning predictors"
   ]
  },
  {
   "cell_type": "markdown",
   "metadata": {},
   "source": [
    "## Measuring predictor importance\n",
    "\n",
    "- Numeric outcomes\n",
    "\n",
    "- Categorical outcomes\n",
    "\n",
    "- Other approaches"
   ]
  },
  {
   "cell_type": "markdown",
   "metadata": {},
   "source": [
    "## Feature selection\n",
    "\n",
    "- Consequences of using non-informative predictors\n",
    "\n",
    "- Approaches for reducing the number of predictors\n",
    "\n",
    "- Wrapper methods\n",
    "\n",
    "- Filter methods\n",
    "\n",
    "- Selection bias"
   ]
  },
  {
   "cell_type": "markdown",
   "metadata": {
    "tags": []
   },
   "source": [
    "## Factors that can affect model performance\n",
    "\n",
    "- Type III errors\n",
    "\n",
    "- Measurement errors in the outcome\n",
    "\n",
    "- Measurement errors in the predictors\n",
    "\n",
    "- Distretising continuous outcomes\n",
    "\n",
    "- When should you trust your model's prediction?\n",
    "\n",
    "- The impact of a large sample"
   ]
  },
  {
   "cell_type": "markdown",
   "metadata": {
    "tags": []
   },
   "source": [
    "# Model selection and assessment"
   ]
  },
  {
   "cell_type": "markdown",
   "metadata": {},
   "source": [
    "## Notes"
   ]
  },
  {
   "cell_type": "markdown",
   "metadata": {},
   "source": [
    "The ultimate trade-off for model performance is between bias and variance. Simple models will have higher bias and lower variance, more complex models lower bias but higher variance (becuse they tend to overfit the training data).\n",
    "\n",
    "Two things mainly determine model performance:\n",
    "\n",
    "- Model complexity (validation curves in PDSH)\n",
    "- Training data size (learning curves in PDSH)"
   ]
  },
  {
   "cell_type": "markdown",
   "metadata": {
    "jp-MarkdownHeadingCollapsed": true,
    "tags": []
   },
   "source": [
    "What to do when model is underperforming?\n",
    "\n",
    "1. Use a more complicated/flexible model\n",
    "2. Use a less complicated/flexible model\n",
    "3. Gather more training samples (make data longer)\n",
    "4. Gather more data for additional features for each sample (make data wider)"
   ]
  },
  {
   "cell_type": "markdown",
   "metadata": {},
   "source": [
    "Train and test vs cross-validation\n",
    "\n",
    "- These approaches are complementary, as nicely explained in the [Scikit-learn](https://scikit-learn.org/stable/modules/cross_validation.html) docs: the generall process is to split the data into a training and a testing dataset, and then to use cross-validation on the training data to find the optimal hyperparameters."
   ]
  },
  {
   "cell_type": "markdown",
   "metadata": {},
   "source": [
    "## Assessing model accuracy"
   ]
  },
  {
   "cell_type": "markdown",
   "metadata": {},
   "source": [
    "Measuring the quality of fit\n",
    "\n",
    "- MSE for regressions.\n",
    "\n",
    "- Error rate for classification.\n",
    "\n",
    "- Beware of overfitting! Maximise mse or error rate for testing data, not for training data (overfitting).\n",
    "\n",
    "- Overfitting definition: situation where a simpler model with a worse training score would have achieved a better testing score.\n"
   ]
  },
  {
   "cell_type": "markdown",
   "metadata": {},
   "source": [
    "The bias-variance trade-off\n",
    "\n",
    "- MSE comprises (1) squared bias of estimate, (2) variance of estimate, and (3) variance of error. We want to minimise 1 and 2 (3 is fixed).\n",
    "\n",
    "- Relationship between MSE and model complexity is U-shaped, because variance increases and bias decreases with complexity. We want to find optimal balance."
   ]
  },
  {
   "cell_type": "markdown",
   "metadata": {},
   "source": [
    "Classification setting\n",
    "\n",
    "- Bayesian classifier as unattainable benchmark (we don't know P(y|x)).\n",
    "\n",
    "- KNN one approach to estimate P(y|x), then use bayesian classifier.\n",
    "\n",
    "- Intuition as for MSE error: testing error rate is U-shaped in K (higher K means more flexibel model)."
   ]
  },
  {
   "cell_type": "markdown",
   "metadata": {},
   "source": [
    "## Cross validation\n",
    "\n",
    "Use cases:\n",
    "- Model assessment (\"how good is model fit?\")\n",
    "- Model selection (hypterparameter tuning)\n",
    "\n",
    "### Holdout set approach\n",
    "\n",
    "How it works: \n",
    "- Split data into training and test data, fit model on the training data, assess on the test data.\n",
    "\n",
    "Advantages:\n",
    "- Conceptually simple and computationally cheap.\n",
    "\n",
    "Disadvantages:\n",
    "- Very sensitive to train-test split, especially for small samples.\n",
    "- Because we only use a fraction of the available data to train the model, model fit is poorer comparated to using entire dataset, and thus we tend to overestimate test error.\n",
    "\n",
    "\n",
    "### Leave one out cross-validation\n",
    "\n",
    "How it works:\n",
    "- If we have `n` observations, fit model using `n-1` observations and calculate MSE for nth observation. Repeat n times and then average MSEs to get test error rate.\n",
    "\n",
    "Advantage:\n",
    "- Deals with both problems of holdout set approach.\n",
    "\n",
    "Disadvantage:\n",
    "- Computationally expensive or prohibitive for large ns\n",
    "\n",
    "\n",
    "### k-fold cross-validation\n",
    "\n",
    "How it works:\n",
    "- Similar to LOOCV (which is a special case where k = n), but we split data into k groups (folds), and then use each of them in turn as the test training set while training the model on the remaining k-1 folds. We again average the k MSEs to get the overall test error rate.\n",
    "\n",
    "Advantage:\n",
    "- Computationally cheaper than LOOCV\n",
    "- Beats LOOCV in terms of MSE because it trades-off bias and variance in a more balanced way: LOOCV has virtually no bias (as we use almost the entire data to fit the model each time) but has higher variance because all k MSE estimates are highly correlated (because each model is fit with almost identical data). In contrast, training data for k-fold CV is less similar, meaning MSEs are less correlated, meaning reduction in variance from averaging is greater."
   ]
  },
  {
   "cell_type": "markdown",
   "metadata": {},
   "source": [
    "## Bootstrap\n",
    "\n",
    "Use cases\n",
    "- Model assessment (\"how good is parameter fit?\")\n",
    "\n",
    "How it works\n",
    "- To get an estimate for our model fit, we would ideally want to fit the model on many random population samples, so that we could then calculate means and standard deviations of our model assessment metric of interest.\n",
    "- We can't draw multiple samples from the population, but the bootstrap mimics this approach by repeatedly sampling (with replacement) from our original sample.\n"
   ]
  },
  {
   "cell_type": "markdown",
   "metadata": {},
   "source": [
    "## Confusion matrix"
   ]
  },
  {
   "cell_type": "code",
   "execution_count": 2,
   "metadata": {},
   "outputs": [
    {
     "data": {
      "image/png": "[encoded data removed]",
      "text/plain": [
       "<Figure size 432x288 with 1 Axes>"
      ]
     },
     "metadata": {},
     "output_type": "display_data"
    }
   ],
   "source": [
    "import seaborn as sns\n",
    "\n",
    "sns.set()\n",
    "import matplotlib.pyplot as plt\n",
    "from sklearn.datasets import load_breast_cancer\n",
    "from sklearn.metrics import confusion_matrix\n",
    "from sklearn.model_selection import train_test_split\n",
    "from sklearn.naive_bayes import GaussianNB\n",
    "\n",
    "data = load_breast_cancer()\n",
    "Xtrain, Xtest, ytrain, ytest = train_test_split(\n",
    "    data.data, data.target, random_state=23124\n",
    ")\n",
    "model = GaussianNB()\n",
    "model.fit(Xtrain, ytrain)\n",
    "ymodel = model.predict(Xtest)\n",
    "\n",
    "mat = confusion_matrix(ytest, ymodel)\n",
    "sns.heatmap(mat, square=True, annot=True, cbar=False, cmap=\"Blues\")\n",
    "plt.xlabel(\"Predicted value\")\n",
    "plt.ylabel(\"True value\");"
   ]
  },
  {
   "cell_type": "markdown",
   "metadata": {},
   "source": [
    "### Terminology\n",
    "\n",
    "Can think of \"+\" as \"diseases\" or \"alternative hypothesis\", and of \"-\" as \"no disease\" or \"null hypothesis\".\n",
    "\n",
    "|     |Predicted | -                   | +                   |   |\n",
    "| --- | -------- | :-----------------: | :-----------------: | - |\n",
    "|True | -        | True negative (TN)  | False positive (FP) | N |\n",
    "|     | +        | False negative (FN) | True positive (TP)  | P |\n",
    "|     |          | N*                  | P*                  |   |\n",
    "\n",
    "\n",
    "- True positive rate: $\\frac{TP}{TP + FN} = \\frac{TP}{P}$, is the proportion of positives that we correctly predict as such. Also called sensitivity, of hit rate, or recall.\n",
    "\n",
    "- False positive rate: $\\frac{FP}{FP + TN} = \\frac{FP}{N}$, is the proportion of negatives events we incorrectly predict as positives. Also called the alarm rate or inverted specificity, where specificity is $\\frac{TN}{FP + TN} = \\frac{TN}{N}$.\n",
    "\n",
    "- Precision: $\\frac{TP}{TP + FP} = \\frac{TP}{P*}$.\n",
    "\n",
    "- Precision and recall originate in the field of information retrieval (e.g. getting documents from a query). In its original context, precision is useful documents as a proportion of all retrieved documents, recall the retrieved useful documents as a proportion of all available useful documents. In the context of machine learning, we can think of precision as positive predictive power (how good is the model at predicting the positive class), while recall is the same as sensitivity -- the proportion of all events that were successfully predicted."
   ]
  },
  {
   "cell_type": "markdown",
   "metadata": {},
   "source": [
    "## ROC curves and AUC\n",
    "\n",
    "- Plots the trade-off between the false positive rate (x-axis) and the true positive rate (y-axis) - the trade-off between the false alarm rate and the hit rate.\n",
    "\n",
    "- The ROC is useful because it directly shows false/true negatives (on the x-axis) and false/true positives (on the y-axis) for different thresholds and thus helps choose the best threshold, and because the area under the curve (AUC) can be interpreted as an overall model summary, and thus allows us to compare different models. \n",
    "\n"
   ]
  },
  {
   "cell_type": "code",
   "execution_count": 6,
   "metadata": {},
   "outputs": [
    {
     "data": {
      "image/png": "[encoded data removed]",
      "text/plain": [
       "<Figure size 432x288 with 1 Axes>"
      ]
     },
     "metadata": {},
     "output_type": "display_data"
    }
   ],
   "source": [
    "import seaborn as sns\n",
    "\n",
    "sns.set()\n",
    "import matplotlib.pyplot as plt\n",
    "from sklearn.datasets import load_breast_cancer\n",
    "from sklearn.ensemble import RandomForestClassifier\n",
    "from sklearn.metrics import confusion_matrix, plot_roc_curve\n",
    "from sklearn.model_selection import train_test_split\n",
    "from sklearn.naive_bayes import GaussianNB\n",
    "\n",
    "data = load_breast_cancer()\n",
    "Xtrain, Xtest, ytrain, ytest = train_test_split(\n",
    "    data.data, data.target, random_state=23124\n",
    ")\n",
    "model = GaussianNB()\n",
    "model.fit(Xtrain, ytrain)\n",
    "ymodel = model.predict(Xtest)\n",
    "roc = plot_roc_curve(model, Xtest, ytest)\n",
    "\n",
    "rfc = RandomForestClassifier(n_estimators=10, random_state=42)\n",
    "rfc.fit(Xtrain, ytrain)\n",
    "ax = plt.gca()\n",
    "_ = plot_roc_curve(rfc, Xtest, ytest, ax=ax, alpha=0.8)\n",
    "roc.plot(ax=ax, alpha=0.8);"
   ]
  },
  {
   "cell_type": "markdown",
   "metadata": {},
   "source": [
    "## Precision-recall curves\n",
    "\n",
    "- The precision-recall curve is particularly useful when we have much more no-event than event cases. In this case, we're often not interested much in correctly predicting no-events but focused on correctly predicting events. Because neither precision nor recall use true negatives in their calculations, they are well suited to this context ([paper](https://journals.plos.org/plosone/article?id=10.1371/journal.pone.0118432)).\n",
    "\n",
    "- The precision recall curve plots precision (y-axis) and recall (x-axis). An unskilled model is a horizontal line at hight equal to the proportion of events in the sample. We can use ROC to compare models as different thresholds, or the F-score (the harmonic mean between precision and recall) at a specific threshold.\n",
    "\n",
    "- Use precision-recall curves if classes are imbalanced, in which case ROC can be misleading (see example in last section [here](https://machinelearningmastery.com/roc-curves-and-precision-recall-curves-for-classification-in-python/)).\n",
    "\n",
    "- Shape of curve: recall increases monotonically as we lower the threshold (move from left to right in the graph) because we'll find more and more true positives (\"putting ones from the false negative to the true positive bucket\", which increases the numerator but leaves the denominator unchanged), but precision needn't fall monotonically, because we also increase false positives (both the numerator and the denominator increase as we lower the threshold, and the movement of recall depends on which increases faster, which depends on the sequence of ordered predicted events). See [here](https://stats.stackexchange.com/a/183506) for a useful example.\n",
    "\n",
    "\n",
    "\n",
    "\n"
   ]
  },
  {
   "cell_type": "code",
   "execution_count": 4,
   "metadata": {},
   "outputs": [
    {
     "data": {
      "image/png": "[encoded data removed]",
      "text/plain": [
       "<Figure size 432x288 with 1 Axes>"
      ]
     },
     "metadata": {},
     "output_type": "display_data"
    }
   ],
   "source": [
    "from sklearn.metrics import plot_precision_recall_curve\n",
    "\n",
    "data = load_breast_cancer()\n",
    "Xtrain, Xtest, ytrain, ytest = train_test_split(\n",
    "    data.data, data.target, random_state=23124\n",
    ")\n",
    "model = GaussianNB()\n",
    "model.fit(Xtrain, ytrain)\n",
    "ymodel = model.predict(Xtest)\n",
    "\n",
    "plot_precision_recall_curve(model, Xtest, ytest);"
   ]
  },
  {
   "cell_type": "markdown",
   "metadata": {},
   "source": [
    "## Learning curves"
   ]
  },
  {
   "cell_type": "markdown",
   "metadata": {},
   "source": [
    "# Sources\n",
    "\n",
    "- [An introduction to statistical learning](https://www.statlearning.com)\n",
    "- [Hands on machine learning with scikit-learn, keras, and tenserflow](https://www.oreilly.com/library/view/hands-on-machine-learning/9781492032632/)\n",
    "- [Python Data Science Handbook](https://www.oreilly.com/library/view/python-data-science/9781491912126/)\n",
    "- [The hundred-page machine learning book](http://themlbook.com)\n",
    "- [Applied predictive modeling](http://appliedpredictivemodeling.com)\n",
    "- [video](https://www.youtube.com/watch?time_continue=109&v=drUToKxEAUA&feature=emb_logo)\n",
    "- mlmastery [article](https://machinelearningmastery.com/discover-feature-engineering-how-to-engineer-features-and-how-to-get-good-at-it/)"
   ]
  }
 ],
 "metadata": {
  "kernelspec": {
   "display_name": "blog",
   "language": "python",
   "name": "blog"
  },
  "language_info": {
   "codemirror_mode": {
    "name": "ipython",
    "version": 3
   },
   "file_extension": ".py",
   "mimetype": "text/x-python",
   "name": "python",
   "nbconvert_exporter": "python",
   "pygments_lexer": "ipython3",
   "version": "3.9.9"
  },
  "toc-autonumbering": false
 },
 "nbformat": 4,
 "nbformat_minor": 4
}
