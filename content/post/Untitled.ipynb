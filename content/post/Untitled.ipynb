{
 "cells": [
  {
   "cell_type": "markdown",
   "id": "6fdc0afe-2a34-42a4-ab02-2cd589ab85d3",
   "metadata": {},
   "source": [
    "## Fibonacci"
   ]
  },
  {
   "cell_type": "markdown",
   "id": "87a2e78b-f4ff-4d61-a0f0-0c63b64662ce",
   "metadata": {},
   "source": [
    "Detecting palindromes"
   ]
  },
  {
   "cell_type": "code",
   "execution_count": 8,
   "id": "3216a817-9654-40e4-a2ba-2e001187624e",
   "metadata": {},
   "outputs": [
    {
     "data": {
      "text/plain": [
       "False"
      ]
     },
     "execution_count": 8,
     "metadata": {},
     "output_type": "execute_result"
    }
   ],
   "source": [
    "def is_palindrome(s):\n",
    "    return True if len(s) < 2 else s[0] == s[-1] and is_palindrome(s[1:-1])\n",
    "\n",
    "\n",
    "is_palindrome('fabian')"
   ]
  },
  {
   "cell_type": "markdown",
   "id": "bc6543fc-294b-4c0a-b7d0-b0ce0b4b6bbd",
   "metadata": {},
   "source": [
    "## Checking bst property for a binary tree"
   ]
  },
  {
   "cell_type": "code",
   "execution_count": null,
   "id": "84b6ab6a-b7ea-4231-b0a4-78de6396527d",
   "metadata": {},
   "outputs": [],
   "source": []
  }
 ],
 "metadata": {
  "kernelspec": {
   "display_name": "wow",
   "language": "python",
   "name": "wow"
  },
  "language_info": {
   "codemirror_mode": {
    "name": "ipython",
    "version": 3
   },
   "file_extension": ".py",
   "mimetype": "text/x-python",
   "name": "python",
   "nbconvert_exporter": "python",
   "pygments_lexer": "ipython3",
   "version": "3.10.4"
  }
 },
 "nbformat": 4,
 "nbformat_minor": 5
}
